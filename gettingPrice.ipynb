{
 "cells": [
  {
   "cell_type": "code",
   "execution_count": 19,
   "metadata": {},
   "outputs": [],
   "source": [
    "import pandas as pd\n",
    "import pandas_datareader.data as web\n",
    "import io\n",
    "import numpy as np\n",
    "import requests\n",
    "import time\n",
    "import datetime\n",
    "%matplotlib inline\n",
    "import matplotlib.pyplot as plt\n",
    "plt.rcParams[\"figure.figsize\"] = (15,5)\n",
    "from statsmodels.tsa.arima_model import ARIMA\n",
    "from sklearn.metrics import mean_squared_error"
   ]
  },
  {
   "cell_type": "code",
   "execution_count": 20,
   "metadata": {
    "collapsed": true
   },
   "outputs": [],
   "source": [
    "#function to get stock data\n",
    "def yahoo_stocks(symbol, start, end):\n",
    "    return web.DataReader(symbol, 'yahoo', start, end)"
   ]
  },
  {
   "cell_type": "code",
   "execution_count": 48,
   "metadata": {},
   "outputs": [
    {
     "name": "stdout",
     "output_type": "stream",
     "text": [
      "2017-12-01\n"
     ]
    }
   ],
   "source": [
    "#get 7 year stock data for Apple\n",
    "# startDate = datetime.datetime(2010, 1, 4)\n",
    "# endDate = datetime.date.today()\n",
    "startDate = datetime.datetime(2010, 1, 4)\n",
    "endDate = datetime.date.today()\n",
    "print (endDate)\n",
    "stockData = yahoo_stocks('AAPL', startDate, endDate)"
   ]
  },
  {
   "cell_type": "code",
   "execution_count": 49,
   "metadata": {},
   "outputs": [],
   "source": [
    "# stock_symbols = ['GOOGL', 'INTU', 'BAC', 'C', 'PTR', 'MSFT', 'FIT', 'DWDP', 'LNKD', 'TWTR', \\\n",
    "#                  'NVDA', 'SYMC', 'PYPL', 'BP']\n",
    "# for symbol in stock_symbols:\n",
    "#     data = yahoo_stocks('FB', startDate, endDate)\n",
    "#     print (data)\n",
    "#     data.to_csv(symbol+'.csv', sep=',', encoding='utf-8')"
   ]
  },
  {
   "cell_type": "code",
   "execution_count": 50,
   "metadata": {},
   "outputs": [
    {
     "name": "stdout",
     "output_type": "stream",
     "text": [
      "                  Open        High         Low       Close   Adj Close  \\\n",
      "Date                                                                     \n",
      "2010-01-04   30.490000   30.642857   30.340000   30.572857   27.406532   \n",
      "2010-01-05   30.657143   30.798571   30.464285   30.625713   27.453915   \n",
      "2010-01-06   30.625713   30.747143   30.107143   30.138571   27.017223   \n",
      "2010-01-07   30.250000   30.285715   29.864286   30.082857   26.967278   \n",
      "2010-01-08   30.042856   30.285715   29.865715   30.282858   27.146566   \n",
      "2010-01-11   30.400000   30.428572   29.778572   30.015715   26.907093   \n",
      "2010-01-12   29.884285   29.967142   29.488571   29.674286   26.601023   \n",
      "2010-01-13   29.695715   30.132856   29.157143   30.092857   26.976244   \n",
      "2010-01-14   30.015715   30.065714   29.860001   29.918571   26.820007   \n",
      "2010-01-15   30.132856   30.228571   29.410000   29.418571   26.371792   \n",
      "2010-01-19   29.761429   30.741428   29.605715   30.719999   27.538433   \n",
      "2010-01-20   30.701429   30.792856   29.928572   30.247143   27.114555   \n",
      "2010-01-21   30.297142   30.472857   29.601429   29.724285   26.645842   \n",
      "2010-01-22   29.540001   29.642857   28.165714   28.250000   25.324244   \n",
      "2010-01-25   28.930000   29.242857   28.598572   29.010000   26.005541   \n",
      "2010-01-26   29.421429   30.530001   28.940001   29.420000   26.373072   \n",
      "2010-01-27   29.549999   30.082857   28.504286   29.697144   26.621517   \n",
      "2010-01-28   29.275715   29.357143   28.385714   28.469999   25.521461   \n",
      "2010-01-29   28.725714   28.885714   27.178572   27.437143   24.595573   \n",
      "2010-02-01   27.481428   28.000000   27.328571   27.818571   24.937496   \n",
      "2010-02-02   27.987143   28.045713   27.625713   27.980000   25.082211   \n",
      "2010-02-03   27.881428   28.600000   27.774286   28.461428   25.513775   \n",
      "2010-02-04   28.104286   28.338572   27.367144   27.435715   24.594294   \n",
      "2010-02-05   27.518572   28.000000   27.264286   27.922857   25.030981   \n",
      "2010-02-08   27.955715   28.268572   27.714285   27.731428   24.859381   \n",
      "2010-02-09   28.059999   28.214285   27.821428   28.027143   25.124472   \n",
      "2010-02-10   27.984285   28.085714   27.751429   27.874287   24.987444   \n",
      "2010-02-11   27.840000   28.535715   27.722857   28.381428   25.442059   \n",
      "2010-02-12   28.301428   28.805714   27.928572   28.625713   25.661045   \n",
      "2010-02-16   28.848572   29.098572   28.788572   29.057142   26.047794   \n",
      "...                ...         ...         ...         ...         ...   \n",
      "2017-10-20  156.610001  157.750000  155.960007  156.250000  155.690308   \n",
      "2017-10-23  156.889999  157.690002  155.500000  156.169998  155.610596   \n",
      "2017-10-24  156.289993  157.419998  156.199997  157.100006  156.537277   \n",
      "2017-10-25  156.910004  157.550003  155.270004  156.410004  155.849747   \n",
      "2017-10-26  157.229996  157.830002  156.779999  157.410004  156.846161   \n",
      "2017-10-27  159.289993  163.600006  158.699997  163.050003  162.465958   \n",
      "2017-10-30  163.889999  168.070007  163.720001  166.720001  166.122803   \n",
      "2017-10-31  167.899994  169.649994  166.940002  169.039993  168.434494   \n",
      "2017-11-01  169.869995  169.940002  165.610001  166.889999  166.292206   \n",
      "2017-11-02  166.600006  168.500000  165.279999  168.110001  167.507828   \n",
      "2017-11-03  174.000000  174.259995  171.119995  172.500000  171.882111   \n",
      "2017-11-06  172.369995  174.990005  171.720001  174.250000  173.625839   \n",
      "2017-11-07  173.910004  175.250000  173.600006  174.809998  174.183823   \n",
      "2017-11-08  174.660004  176.240005  174.330002  176.240005  175.608719   \n",
      "2017-11-09  175.110001  176.100006  173.139999  175.880005  175.250000   \n",
      "2017-11-10  175.110001  175.380005  174.270004  174.669998  174.669998   \n",
      "2017-11-13  173.500000  174.500000  173.399994  173.970001  173.970001   \n",
      "2017-11-14  173.039993  173.479996  171.179993  171.339996  171.339996   \n",
      "2017-11-15  169.970001  170.320007  168.380005  169.080002  169.080002   \n",
      "2017-11-16  171.179993  171.869995  170.300003  171.100006  171.100006   \n",
      "2017-11-17  171.039993  171.389999  169.639999  170.149994  170.149994   \n",
      "2017-11-20  170.289993  170.559998  169.559998  169.979996  169.979996   \n",
      "2017-11-21  170.779999  173.699997  170.779999  173.139999  173.139999   \n",
      "2017-11-22  173.360001  175.000000  173.050003  174.960007  174.960007   \n",
      "2017-11-24  175.100006  175.500000  174.649994  174.970001  174.970001   \n",
      "2017-11-27  175.050003  175.080002  173.339996  174.089996  174.089996   \n",
      "2017-11-28  174.300003  174.869995  171.860001  173.070007  173.070007   \n",
      "2017-11-29  172.630005  172.919998  167.160004  169.479996  169.479996   \n",
      "2017-11-30  170.429993  172.139999  168.440002  171.850006  171.850006   \n",
      "2017-12-01  169.949997  171.669998  168.500000  171.050003  171.050003   \n",
      "\n",
      "               Volume  \n",
      "Date                   \n",
      "2010-01-04  123432400  \n",
      "2010-01-05  150476200  \n",
      "2010-01-06  138040000  \n",
      "2010-01-07  119282800  \n",
      "2010-01-08  111902700  \n",
      "2010-01-11  115557400  \n",
      "2010-01-12  148614900  \n",
      "2010-01-13  151473000  \n",
      "2010-01-14  108223500  \n",
      "2010-01-15  148516900  \n",
      "2010-01-19  182501900  \n",
      "2010-01-20  153038200  \n",
      "2010-01-21  152038600  \n",
      "2010-01-22  220441900  \n",
      "2010-01-25  266424900  \n",
      "2010-01-26  466777500  \n",
      "2010-01-27  430642100  \n",
      "2010-01-28  293375600  \n",
      "2010-01-29  311488100  \n",
      "2010-02-01  187469100  \n",
      "2010-02-02  174585600  \n",
      "2010-02-03  153832000  \n",
      "2010-02-04  189413000  \n",
      "2010-02-05  212576700  \n",
      "2010-02-08  119567700  \n",
      "2010-02-09  158221700  \n",
      "2010-02-10   92590400  \n",
      "2010-02-11  137586400  \n",
      "2010-02-12  163867200  \n",
      "2010-02-16  135934400  \n",
      "...               ...  \n",
      "2017-10-20   23974100  \n",
      "2017-10-23   21984300  \n",
      "2017-10-24   17757200  \n",
      "2017-10-25   21207100  \n",
      "2017-10-26   17000500  \n",
      "2017-10-27   44454200  \n",
      "2017-10-30   44700800  \n",
      "2017-10-31   36046800  \n",
      "2017-11-01   33637800  \n",
      "2017-11-02   41393400  \n",
      "2017-11-03   59398600  \n",
      "2017-11-06   35026300  \n",
      "2017-11-07   24361500  \n",
      "2017-11-08   24409500  \n",
      "2017-11-09   29482600  \n",
      "2017-11-10   25145500  \n",
      "2017-11-13   16982100  \n",
      "2017-11-14   24782500  \n",
      "2017-11-15   29158100  \n",
      "2017-11-16   23637500  \n",
      "2017-11-17   21899500  \n",
      "2017-11-20   16262400  \n",
      "2017-11-21   25131300  \n",
      "2017-11-22   25588900  \n",
      "2017-11-24   14026700  \n",
      "2017-11-27   20716800  \n",
      "2017-11-28   26428800  \n",
      "2017-11-29   41666400  \n",
      "2017-11-30   41527200  \n",
      "2017-12-01   39726100  \n",
      "\n",
      "[1994 rows x 6 columns]\n"
     ]
    }
   ],
   "source": [
    "print (stockData)"
   ]
  },
  {
   "cell_type": "code",
   "execution_count": 51,
   "metadata": {
    "collapsed": true
   },
   "outputs": [],
   "source": [
    "stockMarketData = yahoo_stocks('^GSPC', startDate, endDate)"
   ]
  },
  {
   "cell_type": "code",
   "execution_count": 54,
   "metadata": {},
   "outputs": [
    {
     "data": {
      "text/html": [
       "<div>\n",
       "<style>\n",
       "    .dataframe thead tr:only-child th {\n",
       "        text-align: right;\n",
       "    }\n",
       "\n",
       "    .dataframe thead th {\n",
       "        text-align: left;\n",
       "    }\n",
       "\n",
       "    .dataframe tbody tr th {\n",
       "        vertical-align: top;\n",
       "    }\n",
       "</style>\n",
       "<table border=\"1\" class=\"dataframe\">\n",
       "  <thead>\n",
       "    <tr style=\"text-align: right;\">\n",
       "      <th></th>\n",
       "      <th>Open</th>\n",
       "      <th>High</th>\n",
       "      <th>Low</th>\n",
       "      <th>Close</th>\n",
       "      <th>Adj Close</th>\n",
       "      <th>Volume</th>\n",
       "    </tr>\n",
       "    <tr>\n",
       "      <th>Date</th>\n",
       "      <th></th>\n",
       "      <th></th>\n",
       "      <th></th>\n",
       "      <th></th>\n",
       "      <th></th>\n",
       "      <th></th>\n",
       "    </tr>\n",
       "  </thead>\n",
       "  <tbody>\n",
       "    <tr>\n",
       "      <th>2010-01-04</th>\n",
       "      <td>1116.560059</td>\n",
       "      <td>1133.869995</td>\n",
       "      <td>1116.560059</td>\n",
       "      <td>1132.989990</td>\n",
       "      <td>1132.989990</td>\n",
       "      <td>3991400000</td>\n",
       "    </tr>\n",
       "    <tr>\n",
       "      <th>2010-01-05</th>\n",
       "      <td>1132.660034</td>\n",
       "      <td>1136.630005</td>\n",
       "      <td>1129.660034</td>\n",
       "      <td>1136.520020</td>\n",
       "      <td>1136.520020</td>\n",
       "      <td>2491020000</td>\n",
       "    </tr>\n",
       "    <tr>\n",
       "      <th>2010-01-06</th>\n",
       "      <td>1135.709961</td>\n",
       "      <td>1139.189941</td>\n",
       "      <td>1133.949951</td>\n",
       "      <td>1137.140015</td>\n",
       "      <td>1137.140015</td>\n",
       "      <td>4972660000</td>\n",
       "    </tr>\n",
       "    <tr>\n",
       "      <th>2010-01-07</th>\n",
       "      <td>1136.270020</td>\n",
       "      <td>1142.459961</td>\n",
       "      <td>1131.319946</td>\n",
       "      <td>1141.689941</td>\n",
       "      <td>1141.689941</td>\n",
       "      <td>5270680000</td>\n",
       "    </tr>\n",
       "    <tr>\n",
       "      <th>2010-01-08</th>\n",
       "      <td>1140.520020</td>\n",
       "      <td>1145.390015</td>\n",
       "      <td>1136.219971</td>\n",
       "      <td>1144.979980</td>\n",
       "      <td>1144.979980</td>\n",
       "      <td>4389590000</td>\n",
       "    </tr>\n",
       "  </tbody>\n",
       "</table>\n",
       "</div>"
      ],
      "text/plain": [
       "                   Open         High          Low        Close    Adj Close  \\\n",
       "Date                                                                          \n",
       "2010-01-04  1116.560059  1133.869995  1116.560059  1132.989990  1132.989990   \n",
       "2010-01-05  1132.660034  1136.630005  1129.660034  1136.520020  1136.520020   \n",
       "2010-01-06  1135.709961  1139.189941  1133.949951  1137.140015  1137.140015   \n",
       "2010-01-07  1136.270020  1142.459961  1131.319946  1141.689941  1141.689941   \n",
       "2010-01-08  1140.520020  1145.390015  1136.219971  1144.979980  1144.979980   \n",
       "\n",
       "                Volume  \n",
       "Date                    \n",
       "2010-01-04  3991400000  \n",
       "2010-01-05  2491020000  \n",
       "2010-01-06  4972660000  \n",
       "2010-01-07  5270680000  \n",
       "2010-01-08  4389590000  "
      ]
     },
     "execution_count": 54,
     "metadata": {},
     "output_type": "execute_result"
    }
   ],
   "source": [
    "stockMarketData.head(5)"
   ]
  },
  {
   "cell_type": "code",
   "execution_count": 55,
   "metadata": {
    "collapsed": true
   },
   "outputs": [],
   "source": [
    "#adding rows for missing dates\n",
    "def add_missing_dates(dataframe, start, end):\n",
    "    idx = pd.date_range(start, end)\n",
    "    dataframe.index = pd.DatetimeIndex(dataframe.index)\n",
    "    dataframe = dataframe.reindex(idx, fill_value='np.nan')\n",
    "    return dataframe"
   ]
  },
  {
   "cell_type": "code",
   "execution_count": 56,
   "metadata": {
    "collapsed": true
   },
   "outputs": [],
   "source": [
    "stockData = add_missing_dates(stockData, startDate, endDate)"
   ]
  },
  {
   "cell_type": "code",
   "execution_count": 57,
   "metadata": {},
   "outputs": [
    {
     "data": {
      "text/html": [
       "<div>\n",
       "<style>\n",
       "    .dataframe thead tr:only-child th {\n",
       "        text-align: right;\n",
       "    }\n",
       "\n",
       "    .dataframe thead th {\n",
       "        text-align: left;\n",
       "    }\n",
       "\n",
       "    .dataframe tbody tr th {\n",
       "        vertical-align: top;\n",
       "    }\n",
       "</style>\n",
       "<table border=\"1\" class=\"dataframe\">\n",
       "  <thead>\n",
       "    <tr style=\"text-align: right;\">\n",
       "      <th></th>\n",
       "      <th>Open</th>\n",
       "      <th>High</th>\n",
       "      <th>Low</th>\n",
       "      <th>Close</th>\n",
       "      <th>Adj Close</th>\n",
       "      <th>Volume</th>\n",
       "    </tr>\n",
       "  </thead>\n",
       "  <tbody>\n",
       "    <tr>\n",
       "      <th>2010-01-04</th>\n",
       "      <td>30.49</td>\n",
       "      <td>30.6429</td>\n",
       "      <td>30.34</td>\n",
       "      <td>30.5729</td>\n",
       "      <td>27.4065</td>\n",
       "      <td>123432400</td>\n",
       "    </tr>\n",
       "    <tr>\n",
       "      <th>2010-01-05</th>\n",
       "      <td>30.6571</td>\n",
       "      <td>30.7986</td>\n",
       "      <td>30.4643</td>\n",
       "      <td>30.6257</td>\n",
       "      <td>27.4539</td>\n",
       "      <td>150476200</td>\n",
       "    </tr>\n",
       "    <tr>\n",
       "      <th>2010-01-06</th>\n",
       "      <td>30.6257</td>\n",
       "      <td>30.7471</td>\n",
       "      <td>30.1071</td>\n",
       "      <td>30.1386</td>\n",
       "      <td>27.0172</td>\n",
       "      <td>138040000</td>\n",
       "    </tr>\n",
       "    <tr>\n",
       "      <th>2010-01-07</th>\n",
       "      <td>30.25</td>\n",
       "      <td>30.2857</td>\n",
       "      <td>29.8643</td>\n",
       "      <td>30.0829</td>\n",
       "      <td>26.9673</td>\n",
       "      <td>119282800</td>\n",
       "    </tr>\n",
       "    <tr>\n",
       "      <th>2010-01-08</th>\n",
       "      <td>30.0429</td>\n",
       "      <td>30.2857</td>\n",
       "      <td>29.8657</td>\n",
       "      <td>30.2829</td>\n",
       "      <td>27.1466</td>\n",
       "      <td>111902700</td>\n",
       "    </tr>\n",
       "    <tr>\n",
       "      <th>2010-01-09</th>\n",
       "      <td>np.nan</td>\n",
       "      <td>np.nan</td>\n",
       "      <td>np.nan</td>\n",
       "      <td>np.nan</td>\n",
       "      <td>np.nan</td>\n",
       "      <td>np.nan</td>\n",
       "    </tr>\n",
       "    <tr>\n",
       "      <th>2010-01-10</th>\n",
       "      <td>np.nan</td>\n",
       "      <td>np.nan</td>\n",
       "      <td>np.nan</td>\n",
       "      <td>np.nan</td>\n",
       "      <td>np.nan</td>\n",
       "      <td>np.nan</td>\n",
       "    </tr>\n",
       "    <tr>\n",
       "      <th>2010-01-11</th>\n",
       "      <td>30.4</td>\n",
       "      <td>30.4286</td>\n",
       "      <td>29.7786</td>\n",
       "      <td>30.0157</td>\n",
       "      <td>26.9071</td>\n",
       "      <td>115557400</td>\n",
       "    </tr>\n",
       "    <tr>\n",
       "      <th>2010-01-12</th>\n",
       "      <td>29.8843</td>\n",
       "      <td>29.9671</td>\n",
       "      <td>29.4886</td>\n",
       "      <td>29.6743</td>\n",
       "      <td>26.601</td>\n",
       "      <td>148614900</td>\n",
       "    </tr>\n",
       "    <tr>\n",
       "      <th>2010-01-13</th>\n",
       "      <td>29.6957</td>\n",
       "      <td>30.1329</td>\n",
       "      <td>29.1571</td>\n",
       "      <td>30.0929</td>\n",
       "      <td>26.9762</td>\n",
       "      <td>151473000</td>\n",
       "    </tr>\n",
       "  </tbody>\n",
       "</table>\n",
       "</div>"
      ],
      "text/plain": [
       "               Open     High      Low    Close Adj Close     Volume\n",
       "2010-01-04    30.49  30.6429    30.34  30.5729   27.4065  123432400\n",
       "2010-01-05  30.6571  30.7986  30.4643  30.6257   27.4539  150476200\n",
       "2010-01-06  30.6257  30.7471  30.1071  30.1386   27.0172  138040000\n",
       "2010-01-07    30.25  30.2857  29.8643  30.0829   26.9673  119282800\n",
       "2010-01-08  30.0429  30.2857  29.8657  30.2829   27.1466  111902700\n",
       "2010-01-09   np.nan   np.nan   np.nan   np.nan    np.nan     np.nan\n",
       "2010-01-10   np.nan   np.nan   np.nan   np.nan    np.nan     np.nan\n",
       "2010-01-11     30.4  30.4286  29.7786  30.0157   26.9071  115557400\n",
       "2010-01-12  29.8843  29.9671  29.4886  29.6743    26.601  148614900\n",
       "2010-01-13  29.6957  30.1329  29.1571  30.0929   26.9762  151473000"
      ]
     },
     "execution_count": 57,
     "metadata": {},
     "output_type": "execute_result"
    }
   ],
   "source": [
    "stockData.head(10)"
   ]
  },
  {
   "cell_type": "code",
   "execution_count": 58,
   "metadata": {
    "collapsed": true
   },
   "outputs": [],
   "source": [
    "stockMarketData = add_missing_dates(stockMarketData, startDate, endDate)"
   ]
  },
  {
   "cell_type": "code",
   "execution_count": 59,
   "metadata": {},
   "outputs": [
    {
     "data": {
      "text/html": [
       "<div>\n",
       "<style>\n",
       "    .dataframe thead tr:only-child th {\n",
       "        text-align: right;\n",
       "    }\n",
       "\n",
       "    .dataframe thead th {\n",
       "        text-align: left;\n",
       "    }\n",
       "\n",
       "    .dataframe tbody tr th {\n",
       "        vertical-align: top;\n",
       "    }\n",
       "</style>\n",
       "<table border=\"1\" class=\"dataframe\">\n",
       "  <thead>\n",
       "    <tr style=\"text-align: right;\">\n",
       "      <th></th>\n",
       "      <th>Open</th>\n",
       "      <th>High</th>\n",
       "      <th>Low</th>\n",
       "      <th>Close</th>\n",
       "      <th>Adj Close</th>\n",
       "      <th>Volume</th>\n",
       "    </tr>\n",
       "  </thead>\n",
       "  <tbody>\n",
       "    <tr>\n",
       "      <th>2010-01-04</th>\n",
       "      <td>1116.56</td>\n",
       "      <td>1133.87</td>\n",
       "      <td>1116.56</td>\n",
       "      <td>1132.99</td>\n",
       "      <td>1132.99</td>\n",
       "      <td>3991400000</td>\n",
       "    </tr>\n",
       "    <tr>\n",
       "      <th>2010-01-05</th>\n",
       "      <td>1132.66</td>\n",
       "      <td>1136.63</td>\n",
       "      <td>1129.66</td>\n",
       "      <td>1136.52</td>\n",
       "      <td>1136.52</td>\n",
       "      <td>2491020000</td>\n",
       "    </tr>\n",
       "    <tr>\n",
       "      <th>2010-01-06</th>\n",
       "      <td>1135.71</td>\n",
       "      <td>1139.19</td>\n",
       "      <td>1133.95</td>\n",
       "      <td>1137.14</td>\n",
       "      <td>1137.14</td>\n",
       "      <td>4972660000</td>\n",
       "    </tr>\n",
       "    <tr>\n",
       "      <th>2010-01-07</th>\n",
       "      <td>1136.27</td>\n",
       "      <td>1142.46</td>\n",
       "      <td>1131.32</td>\n",
       "      <td>1141.69</td>\n",
       "      <td>1141.69</td>\n",
       "      <td>5270680000</td>\n",
       "    </tr>\n",
       "    <tr>\n",
       "      <th>2010-01-08</th>\n",
       "      <td>1140.52</td>\n",
       "      <td>1145.39</td>\n",
       "      <td>1136.22</td>\n",
       "      <td>1144.98</td>\n",
       "      <td>1144.98</td>\n",
       "      <td>4389590000</td>\n",
       "    </tr>\n",
       "    <tr>\n",
       "      <th>2010-01-09</th>\n",
       "      <td>np.nan</td>\n",
       "      <td>np.nan</td>\n",
       "      <td>np.nan</td>\n",
       "      <td>np.nan</td>\n",
       "      <td>np.nan</td>\n",
       "      <td>np.nan</td>\n",
       "    </tr>\n",
       "    <tr>\n",
       "      <th>2010-01-10</th>\n",
       "      <td>np.nan</td>\n",
       "      <td>np.nan</td>\n",
       "      <td>np.nan</td>\n",
       "      <td>np.nan</td>\n",
       "      <td>np.nan</td>\n",
       "      <td>np.nan</td>\n",
       "    </tr>\n",
       "    <tr>\n",
       "      <th>2010-01-11</th>\n",
       "      <td>1145.96</td>\n",
       "      <td>1149.74</td>\n",
       "      <td>1142.02</td>\n",
       "      <td>1146.98</td>\n",
       "      <td>1146.98</td>\n",
       "      <td>4255780000</td>\n",
       "    </tr>\n",
       "    <tr>\n",
       "      <th>2010-01-12</th>\n",
       "      <td>1143.81</td>\n",
       "      <td>1143.81</td>\n",
       "      <td>1131.77</td>\n",
       "      <td>1136.22</td>\n",
       "      <td>1136.22</td>\n",
       "      <td>4716160000</td>\n",
       "    </tr>\n",
       "    <tr>\n",
       "      <th>2010-01-13</th>\n",
       "      <td>1137.31</td>\n",
       "      <td>1148.4</td>\n",
       "      <td>1133.18</td>\n",
       "      <td>1145.68</td>\n",
       "      <td>1145.68</td>\n",
       "      <td>4170360000</td>\n",
       "    </tr>\n",
       "  </tbody>\n",
       "</table>\n",
       "</div>"
      ],
      "text/plain": [
       "               Open     High      Low    Close Adj Close      Volume\n",
       "2010-01-04  1116.56  1133.87  1116.56  1132.99   1132.99  3991400000\n",
       "2010-01-05  1132.66  1136.63  1129.66  1136.52   1136.52  2491020000\n",
       "2010-01-06  1135.71  1139.19  1133.95  1137.14   1137.14  4972660000\n",
       "2010-01-07  1136.27  1142.46  1131.32  1141.69   1141.69  5270680000\n",
       "2010-01-08  1140.52  1145.39  1136.22  1144.98   1144.98  4389590000\n",
       "2010-01-09   np.nan   np.nan   np.nan   np.nan    np.nan      np.nan\n",
       "2010-01-10   np.nan   np.nan   np.nan   np.nan    np.nan      np.nan\n",
       "2010-01-11  1145.96  1149.74  1142.02  1146.98   1146.98  4255780000\n",
       "2010-01-12  1143.81  1143.81  1131.77  1136.22   1136.22  4716160000\n",
       "2010-01-13  1137.31   1148.4  1133.18  1145.68   1145.68  4170360000"
      ]
     },
     "execution_count": 59,
     "metadata": {},
     "output_type": "execute_result"
    }
   ],
   "source": [
    "stockMarketData.head(10)"
   ]
  },
  {
   "cell_type": "code",
   "execution_count": 60,
   "metadata": {
    "collapsed": true
   },
   "outputs": [],
   "source": [
    "#convert the columns to numeric\n",
    "def convert_to_numeric(dataframe):\n",
    "    for col in dataframe:\n",
    "        dataframe[col] = pd.to_numeric(dataframe[col], errors='coerce')\n",
    "    return dataframe"
   ]
  },
  {
   "cell_type": "code",
   "execution_count": 61,
   "metadata": {
    "collapsed": true
   },
   "outputs": [],
   "source": [
    "stockDataNumeric = convert_to_numeric(stockData)"
   ]
  },
  {
   "cell_type": "code",
   "execution_count": 62,
   "metadata": {
    "collapsed": true
   },
   "outputs": [],
   "source": [
    "stockMarketDataNumeric = convert_to_numeric(stockMarketData)"
   ]
  },
  {
   "cell_type": "code",
   "execution_count": 63,
   "metadata": {
    "collapsed": true
   },
   "outputs": [],
   "source": [
    "def interpolate(dataframe):\n",
    "    features = list(dataframe)\n",
    "    for feature in features:\n",
    "        dataframe[feature] = dataframe[feature].interpolate()\n",
    "    return dataframe"
   ]
  },
  {
   "cell_type": "code",
   "execution_count": 64,
   "metadata": {
    "collapsed": true
   },
   "outputs": [],
   "source": [
    "stockDataInterpolated = interpolate(stockDataNumeric)"
   ]
  },
  {
   "cell_type": "code",
   "execution_count": 68,
   "metadata": {},
   "outputs": [
    {
     "data": {
      "text/html": [
       "<div>\n",
       "<style>\n",
       "    .dataframe thead tr:only-child th {\n",
       "        text-align: right;\n",
       "    }\n",
       "\n",
       "    .dataframe thead th {\n",
       "        text-align: left;\n",
       "    }\n",
       "\n",
       "    .dataframe tbody tr th {\n",
       "        vertical-align: top;\n",
       "    }\n",
       "</style>\n",
       "<table border=\"1\" class=\"dataframe\">\n",
       "  <thead>\n",
       "    <tr style=\"text-align: right;\">\n",
       "      <th></th>\n",
       "      <th>Open</th>\n",
       "      <th>High</th>\n",
       "      <th>Low</th>\n",
       "      <th>Close</th>\n",
       "      <th>Adj Close</th>\n",
       "      <th>Volume</th>\n",
       "    </tr>\n",
       "  </thead>\n",
       "  <tbody>\n",
       "    <tr>\n",
       "      <th>2017-11-27</th>\n",
       "      <td>175.050003</td>\n",
       "      <td>175.080002</td>\n",
       "      <td>173.339996</td>\n",
       "      <td>174.089996</td>\n",
       "      <td>174.089996</td>\n",
       "      <td>20716800.0</td>\n",
       "    </tr>\n",
       "    <tr>\n",
       "      <th>2017-11-28</th>\n",
       "      <td>174.300003</td>\n",
       "      <td>174.869995</td>\n",
       "      <td>171.860001</td>\n",
       "      <td>173.070007</td>\n",
       "      <td>173.070007</td>\n",
       "      <td>26428800.0</td>\n",
       "    </tr>\n",
       "    <tr>\n",
       "      <th>2017-11-29</th>\n",
       "      <td>172.630005</td>\n",
       "      <td>172.919998</td>\n",
       "      <td>167.160004</td>\n",
       "      <td>169.479996</td>\n",
       "      <td>169.479996</td>\n",
       "      <td>41666400.0</td>\n",
       "    </tr>\n",
       "    <tr>\n",
       "      <th>2017-11-30</th>\n",
       "      <td>170.429993</td>\n",
       "      <td>172.139999</td>\n",
       "      <td>168.440002</td>\n",
       "      <td>171.850006</td>\n",
       "      <td>171.850006</td>\n",
       "      <td>41527200.0</td>\n",
       "    </tr>\n",
       "    <tr>\n",
       "      <th>2017-12-01</th>\n",
       "      <td>169.949997</td>\n",
       "      <td>171.669998</td>\n",
       "      <td>168.500000</td>\n",
       "      <td>171.050003</td>\n",
       "      <td>171.050003</td>\n",
       "      <td>39726100.0</td>\n",
       "    </tr>\n",
       "  </tbody>\n",
       "</table>\n",
       "</div>"
      ],
      "text/plain": [
       "                  Open        High         Low       Close   Adj Close  \\\n",
       "2017-11-27  175.050003  175.080002  173.339996  174.089996  174.089996   \n",
       "2017-11-28  174.300003  174.869995  171.860001  173.070007  173.070007   \n",
       "2017-11-29  172.630005  172.919998  167.160004  169.479996  169.479996   \n",
       "2017-11-30  170.429993  172.139999  168.440002  171.850006  171.850006   \n",
       "2017-12-01  169.949997  171.669998  168.500000  171.050003  171.050003   \n",
       "\n",
       "                Volume  \n",
       "2017-11-27  20716800.0  \n",
       "2017-11-28  26428800.0  \n",
       "2017-11-29  41666400.0  \n",
       "2017-11-30  41527200.0  \n",
       "2017-12-01  39726100.0  "
      ]
     },
     "execution_count": 68,
     "metadata": {},
     "output_type": "execute_result"
    }
   ],
   "source": [
    "stockDataInterpolated.tail(5)"
   ]
  },
  {
   "cell_type": "code",
   "execution_count": 69,
   "metadata": {
    "collapsed": true
   },
   "outputs": [],
   "source": [
    "stockMarketDataInterpolated = interpolate(stockMarketDataNumeric)"
   ]
  },
  {
   "cell_type": "code",
   "execution_count": 70,
   "metadata": {},
   "outputs": [
    {
     "data": {
      "text/html": [
       "<div>\n",
       "<style>\n",
       "    .dataframe thead tr:only-child th {\n",
       "        text-align: right;\n",
       "    }\n",
       "\n",
       "    .dataframe thead th {\n",
       "        text-align: left;\n",
       "    }\n",
       "\n",
       "    .dataframe tbody tr th {\n",
       "        vertical-align: top;\n",
       "    }\n",
       "</style>\n",
       "<table border=\"1\" class=\"dataframe\">\n",
       "  <thead>\n",
       "    <tr style=\"text-align: right;\">\n",
       "      <th></th>\n",
       "      <th>Open</th>\n",
       "      <th>High</th>\n",
       "      <th>Low</th>\n",
       "      <th>Close</th>\n",
       "      <th>Adj Close</th>\n",
       "      <th>Volume</th>\n",
       "    </tr>\n",
       "  </thead>\n",
       "  <tbody>\n",
       "    <tr>\n",
       "      <th>2010-01-04</th>\n",
       "      <td>1116.560059</td>\n",
       "      <td>1133.869995</td>\n",
       "      <td>1116.560059</td>\n",
       "      <td>1132.989990</td>\n",
       "      <td>1132.989990</td>\n",
       "      <td>3.991400e+09</td>\n",
       "    </tr>\n",
       "    <tr>\n",
       "      <th>2010-01-05</th>\n",
       "      <td>1132.660034</td>\n",
       "      <td>1136.630005</td>\n",
       "      <td>1129.660034</td>\n",
       "      <td>1136.520020</td>\n",
       "      <td>1136.520020</td>\n",
       "      <td>2.491020e+09</td>\n",
       "    </tr>\n",
       "    <tr>\n",
       "      <th>2010-01-06</th>\n",
       "      <td>1135.709961</td>\n",
       "      <td>1139.189941</td>\n",
       "      <td>1133.949951</td>\n",
       "      <td>1137.140015</td>\n",
       "      <td>1137.140015</td>\n",
       "      <td>4.972660e+09</td>\n",
       "    </tr>\n",
       "    <tr>\n",
       "      <th>2010-01-07</th>\n",
       "      <td>1136.270020</td>\n",
       "      <td>1142.459961</td>\n",
       "      <td>1131.319946</td>\n",
       "      <td>1141.689941</td>\n",
       "      <td>1141.689941</td>\n",
       "      <td>5.270680e+09</td>\n",
       "    </tr>\n",
       "    <tr>\n",
       "      <th>2010-01-08</th>\n",
       "      <td>1140.520020</td>\n",
       "      <td>1145.390015</td>\n",
       "      <td>1136.219971</td>\n",
       "      <td>1144.979980</td>\n",
       "      <td>1144.979980</td>\n",
       "      <td>4.389590e+09</td>\n",
       "    </tr>\n",
       "    <tr>\n",
       "      <th>2010-01-09</th>\n",
       "      <td>1142.333334</td>\n",
       "      <td>1146.840007</td>\n",
       "      <td>1138.153321</td>\n",
       "      <td>1145.646647</td>\n",
       "      <td>1145.646647</td>\n",
       "      <td>4.344987e+09</td>\n",
       "    </tr>\n",
       "    <tr>\n",
       "      <th>2010-01-10</th>\n",
       "      <td>1144.146647</td>\n",
       "      <td>1148.289998</td>\n",
       "      <td>1140.086670</td>\n",
       "      <td>1146.313313</td>\n",
       "      <td>1146.313313</td>\n",
       "      <td>4.300383e+09</td>\n",
       "    </tr>\n",
       "    <tr>\n",
       "      <th>2010-01-11</th>\n",
       "      <td>1145.959961</td>\n",
       "      <td>1149.739990</td>\n",
       "      <td>1142.020020</td>\n",
       "      <td>1146.979980</td>\n",
       "      <td>1146.979980</td>\n",
       "      <td>4.255780e+09</td>\n",
       "    </tr>\n",
       "    <tr>\n",
       "      <th>2010-01-12</th>\n",
       "      <td>1143.810059</td>\n",
       "      <td>1143.810059</td>\n",
       "      <td>1131.770020</td>\n",
       "      <td>1136.219971</td>\n",
       "      <td>1136.219971</td>\n",
       "      <td>4.716160e+09</td>\n",
       "    </tr>\n",
       "    <tr>\n",
       "      <th>2010-01-13</th>\n",
       "      <td>1137.310059</td>\n",
       "      <td>1148.400024</td>\n",
       "      <td>1133.180054</td>\n",
       "      <td>1145.680054</td>\n",
       "      <td>1145.680054</td>\n",
       "      <td>4.170360e+09</td>\n",
       "    </tr>\n",
       "  </tbody>\n",
       "</table>\n",
       "</div>"
      ],
      "text/plain": [
       "                   Open         High          Low        Close    Adj Close  \\\n",
       "2010-01-04  1116.560059  1133.869995  1116.560059  1132.989990  1132.989990   \n",
       "2010-01-05  1132.660034  1136.630005  1129.660034  1136.520020  1136.520020   \n",
       "2010-01-06  1135.709961  1139.189941  1133.949951  1137.140015  1137.140015   \n",
       "2010-01-07  1136.270020  1142.459961  1131.319946  1141.689941  1141.689941   \n",
       "2010-01-08  1140.520020  1145.390015  1136.219971  1144.979980  1144.979980   \n",
       "2010-01-09  1142.333334  1146.840007  1138.153321  1145.646647  1145.646647   \n",
       "2010-01-10  1144.146647  1148.289998  1140.086670  1146.313313  1146.313313   \n",
       "2010-01-11  1145.959961  1149.739990  1142.020020  1146.979980  1146.979980   \n",
       "2010-01-12  1143.810059  1143.810059  1131.770020  1136.219971  1136.219971   \n",
       "2010-01-13  1137.310059  1148.400024  1133.180054  1145.680054  1145.680054   \n",
       "\n",
       "                  Volume  \n",
       "2010-01-04  3.991400e+09  \n",
       "2010-01-05  2.491020e+09  \n",
       "2010-01-06  4.972660e+09  \n",
       "2010-01-07  5.270680e+09  \n",
       "2010-01-08  4.389590e+09  \n",
       "2010-01-09  4.344987e+09  \n",
       "2010-01-10  4.300383e+09  \n",
       "2010-01-11  4.255780e+09  \n",
       "2010-01-12  4.716160e+09  \n",
       "2010-01-13  4.170360e+09  "
      ]
     },
     "execution_count": 70,
     "metadata": {},
     "output_type": "execute_result"
    }
   ],
   "source": [
    "stockMarketDataInterpolated.head(10)"
   ]
  },
  {
   "cell_type": "code",
   "execution_count": 71,
   "metadata": {
    "collapsed": true
   },
   "outputs": [],
   "source": [
    "#difference between the previous day and todays closing value\n",
    "def prev_diff(dataframe):\n",
    "    close = dataframe['Close']\n",
    "    prev_diff = [0]\n",
    "    for i in range(1, len(dataframe)):\n",
    "        prev_diff.append(round((close[i]-close[i-1]),6))\n",
    "    return prev_diff"
   ]
  },
  {
   "cell_type": "code",
   "execution_count": 72,
   "metadata": {
    "collapsed": true
   },
   "outputs": [],
   "source": [
    "stockDataInterpolated['prev_diff'] = prev_diff(stockDataInterpolated)"
   ]
  },
  {
   "cell_type": "code",
   "execution_count": 73,
   "metadata": {
    "collapsed": true
   },
   "outputs": [],
   "source": [
    "stockMarketDataInterpolated['sm_prev_diff'] = prev_diff(stockMarketDataInterpolated)"
   ]
  },
  {
   "cell_type": "code",
   "execution_count": 74,
   "metadata": {
    "collapsed": true
   },
   "outputs": [],
   "source": [
    "stockMarketDataInterpolated.columns = ['sm_open', 'sm_high', 'sm_low', 'sm_close', 'sm_adj_close', 'sm_volume', 'sm_prev_diff']"
   ]
  },
  {
   "cell_type": "code",
   "execution_count": 306,
   "metadata": {
    "collapsed": true
   },
   "outputs": [],
   "source": [
    "finalData = pd.concat([stockDataInterpolated, stockMarketDataInterpolated], axis=1)"
   ]
  },
  {
   "cell_type": "code",
   "execution_count": 307,
   "metadata": {},
   "outputs": [
    {
     "data": {
      "text/html": [
       "<div>\n",
       "<style>\n",
       "    .dataframe thead tr:only-child th {\n",
       "        text-align: right;\n",
       "    }\n",
       "\n",
       "    .dataframe thead th {\n",
       "        text-align: left;\n",
       "    }\n",
       "\n",
       "    .dataframe tbody tr th {\n",
       "        vertical-align: top;\n",
       "    }\n",
       "</style>\n",
       "<table border=\"1\" class=\"dataframe\">\n",
       "  <thead>\n",
       "    <tr style=\"text-align: right;\">\n",
       "      <th></th>\n",
       "      <th>Open</th>\n",
       "      <th>High</th>\n",
       "      <th>Low</th>\n",
       "      <th>Close</th>\n",
       "      <th>Adj Close</th>\n",
       "      <th>Volume</th>\n",
       "      <th>prev_diff</th>\n",
       "      <th>sm_open</th>\n",
       "      <th>sm_high</th>\n",
       "      <th>sm_low</th>\n",
       "      <th>sm_close</th>\n",
       "      <th>sm_adj_close</th>\n",
       "      <th>sm_volume</th>\n",
       "      <th>sm_prev_diff</th>\n",
       "    </tr>\n",
       "  </thead>\n",
       "  <tbody>\n",
       "    <tr>\n",
       "      <th>2010-01-04</th>\n",
       "      <td>30.490000</td>\n",
       "      <td>30.642857</td>\n",
       "      <td>30.340000</td>\n",
       "      <td>30.572857</td>\n",
       "      <td>27.406532</td>\n",
       "      <td>123432400.0</td>\n",
       "      <td>0.000000</td>\n",
       "      <td>1116.560059</td>\n",
       "      <td>1133.869995</td>\n",
       "      <td>1116.560059</td>\n",
       "      <td>1132.989990</td>\n",
       "      <td>1132.989990</td>\n",
       "      <td>3.991400e+09</td>\n",
       "      <td>0.000000</td>\n",
       "    </tr>\n",
       "    <tr>\n",
       "      <th>2010-01-05</th>\n",
       "      <td>30.657143</td>\n",
       "      <td>30.798571</td>\n",
       "      <td>30.464285</td>\n",
       "      <td>30.625713</td>\n",
       "      <td>27.453915</td>\n",
       "      <td>150476200.0</td>\n",
       "      <td>0.052856</td>\n",
       "      <td>1132.660034</td>\n",
       "      <td>1136.630005</td>\n",
       "      <td>1129.660034</td>\n",
       "      <td>1136.520020</td>\n",
       "      <td>1136.520020</td>\n",
       "      <td>2.491020e+09</td>\n",
       "      <td>3.530030</td>\n",
       "    </tr>\n",
       "    <tr>\n",
       "      <th>2010-01-06</th>\n",
       "      <td>30.625713</td>\n",
       "      <td>30.747143</td>\n",
       "      <td>30.107143</td>\n",
       "      <td>30.138571</td>\n",
       "      <td>27.017223</td>\n",
       "      <td>138040000.0</td>\n",
       "      <td>-0.487142</td>\n",
       "      <td>1135.709961</td>\n",
       "      <td>1139.189941</td>\n",
       "      <td>1133.949951</td>\n",
       "      <td>1137.140015</td>\n",
       "      <td>1137.140015</td>\n",
       "      <td>4.972660e+09</td>\n",
       "      <td>0.619995</td>\n",
       "    </tr>\n",
       "    <tr>\n",
       "      <th>2010-01-07</th>\n",
       "      <td>30.250000</td>\n",
       "      <td>30.285715</td>\n",
       "      <td>29.864286</td>\n",
       "      <td>30.082857</td>\n",
       "      <td>26.967278</td>\n",
       "      <td>119282800.0</td>\n",
       "      <td>-0.055714</td>\n",
       "      <td>1136.270020</td>\n",
       "      <td>1142.459961</td>\n",
       "      <td>1131.319946</td>\n",
       "      <td>1141.689941</td>\n",
       "      <td>1141.689941</td>\n",
       "      <td>5.270680e+09</td>\n",
       "      <td>4.549926</td>\n",
       "    </tr>\n",
       "    <tr>\n",
       "      <th>2010-01-08</th>\n",
       "      <td>30.042856</td>\n",
       "      <td>30.285715</td>\n",
       "      <td>29.865715</td>\n",
       "      <td>30.282858</td>\n",
       "      <td>27.146566</td>\n",
       "      <td>111902700.0</td>\n",
       "      <td>0.200001</td>\n",
       "      <td>1140.520020</td>\n",
       "      <td>1145.390015</td>\n",
       "      <td>1136.219971</td>\n",
       "      <td>1144.979980</td>\n",
       "      <td>1144.979980</td>\n",
       "      <td>4.389590e+09</td>\n",
       "      <td>3.290039</td>\n",
       "    </tr>\n",
       "  </tbody>\n",
       "</table>\n",
       "</div>"
      ],
      "text/plain": [
       "                 Open       High        Low      Close  Adj Close  \\\n",
       "2010-01-04  30.490000  30.642857  30.340000  30.572857  27.406532   \n",
       "2010-01-05  30.657143  30.798571  30.464285  30.625713  27.453915   \n",
       "2010-01-06  30.625713  30.747143  30.107143  30.138571  27.017223   \n",
       "2010-01-07  30.250000  30.285715  29.864286  30.082857  26.967278   \n",
       "2010-01-08  30.042856  30.285715  29.865715  30.282858  27.146566   \n",
       "\n",
       "                 Volume  prev_diff      sm_open      sm_high       sm_low  \\\n",
       "2010-01-04  123432400.0   0.000000  1116.560059  1133.869995  1116.560059   \n",
       "2010-01-05  150476200.0   0.052856  1132.660034  1136.630005  1129.660034   \n",
       "2010-01-06  138040000.0  -0.487142  1135.709961  1139.189941  1133.949951   \n",
       "2010-01-07  119282800.0  -0.055714  1136.270020  1142.459961  1131.319946   \n",
       "2010-01-08  111902700.0   0.200001  1140.520020  1145.390015  1136.219971   \n",
       "\n",
       "               sm_close  sm_adj_close     sm_volume  sm_prev_diff  \n",
       "2010-01-04  1132.989990   1132.989990  3.991400e+09      0.000000  \n",
       "2010-01-05  1136.520020   1136.520020  2.491020e+09      3.530030  \n",
       "2010-01-06  1137.140015   1137.140015  4.972660e+09      0.619995  \n",
       "2010-01-07  1141.689941   1141.689941  5.270680e+09      4.549926  \n",
       "2010-01-08  1144.979980   1144.979980  4.389590e+09      3.290039  "
      ]
     },
     "execution_count": 307,
     "metadata": {},
     "output_type": "execute_result"
    }
   ],
   "source": [
    "finalData.head(5)"
   ]
  },
  {
   "cell_type": "code",
   "execution_count": 308,
   "metadata": {},
   "outputs": [
    {
     "data": {
      "text/plain": [
       "Index([u'Open', u'High', u'Low', u'Close', u'Adj Close', u'Volume',\n",
       "       u'prev_diff', u'sm_open', u'sm_high', u'sm_low', u'sm_close',\n",
       "       u'sm_adj_close', u'sm_volume', u'sm_prev_diff'],\n",
       "      dtype='object')"
      ]
     },
     "execution_count": 308,
     "metadata": {},
     "output_type": "execute_result"
    }
   ],
   "source": [
    "finalData.columns"
   ]
  },
  {
   "cell_type": "code",
   "execution_count": 310,
   "metadata": {},
   "outputs": [],
   "source": [
    "temp = finalData.copy()\n",
    "temp[\"20d\"] = np.round(temp[\"Close\"].rolling(window = 20, center = False).mean(), 2)\n",
    "z = temp['Close'][0:19]\n",
    "temp['20d'][0:19] = z"
   ]
  },
  {
   "cell_type": "code",
   "execution_count": 311,
   "metadata": {
    "collapsed": true
   },
   "outputs": [],
   "source": [
    "temp[\"50d\"] = np.round(temp[\"Close\"].rolling(window = 50, center = False).mean(), 2)\n",
    "z = temp['Close'][0:49]\n",
    "temp['50d'][0:49] = z"
   ]
  },
  {
   "cell_type": "code",
   "execution_count": 312,
   "metadata": {},
   "outputs": [],
   "source": [
    "temp1 = temp.reset_index()\n",
    "temp1.drop('index', axis=1, inplace=True)"
   ]
  },
  {
   "cell_type": "code",
   "execution_count": 313,
   "metadata": {},
   "outputs": [
    {
     "data": {
      "text/html": [
       "<div>\n",
       "<style>\n",
       "    .dataframe thead tr:only-child th {\n",
       "        text-align: right;\n",
       "    }\n",
       "\n",
       "    .dataframe thead th {\n",
       "        text-align: left;\n",
       "    }\n",
       "\n",
       "    .dataframe tbody tr th {\n",
       "        vertical-align: top;\n",
       "    }\n",
       "</style>\n",
       "<table border=\"1\" class=\"dataframe\">\n",
       "  <thead>\n",
       "    <tr style=\"text-align: right;\">\n",
       "      <th></th>\n",
       "      <th>Open</th>\n",
       "      <th>High</th>\n",
       "      <th>Low</th>\n",
       "      <th>Close</th>\n",
       "      <th>Adj Close</th>\n",
       "      <th>Volume</th>\n",
       "      <th>prev_diff</th>\n",
       "      <th>sm_open</th>\n",
       "      <th>sm_high</th>\n",
       "      <th>sm_low</th>\n",
       "      <th>sm_close</th>\n",
       "      <th>sm_adj_close</th>\n",
       "      <th>sm_volume</th>\n",
       "      <th>sm_prev_diff</th>\n",
       "      <th>20d</th>\n",
       "      <th>50d</th>\n",
       "    </tr>\n",
       "  </thead>\n",
       "  <tbody>\n",
       "    <tr>\n",
       "      <th>0</th>\n",
       "      <td>30.490000</td>\n",
       "      <td>30.642857</td>\n",
       "      <td>30.340000</td>\n",
       "      <td>30.572857</td>\n",
       "      <td>27.406532</td>\n",
       "      <td>123432400.0</td>\n",
       "      <td>0.000000</td>\n",
       "      <td>1116.560059</td>\n",
       "      <td>1133.869995</td>\n",
       "      <td>1116.560059</td>\n",
       "      <td>1132.989990</td>\n",
       "      <td>1132.989990</td>\n",
       "      <td>3.991400e+09</td>\n",
       "      <td>0.000000</td>\n",
       "      <td>30.572857</td>\n",
       "      <td>30.572857</td>\n",
       "    </tr>\n",
       "    <tr>\n",
       "      <th>1</th>\n",
       "      <td>30.657143</td>\n",
       "      <td>30.798571</td>\n",
       "      <td>30.464285</td>\n",
       "      <td>30.625713</td>\n",
       "      <td>27.453915</td>\n",
       "      <td>150476200.0</td>\n",
       "      <td>0.052856</td>\n",
       "      <td>1132.660034</td>\n",
       "      <td>1136.630005</td>\n",
       "      <td>1129.660034</td>\n",
       "      <td>1136.520020</td>\n",
       "      <td>1136.520020</td>\n",
       "      <td>2.491020e+09</td>\n",
       "      <td>3.530030</td>\n",
       "      <td>30.625713</td>\n",
       "      <td>30.625713</td>\n",
       "    </tr>\n",
       "    <tr>\n",
       "      <th>2</th>\n",
       "      <td>30.625713</td>\n",
       "      <td>30.747143</td>\n",
       "      <td>30.107143</td>\n",
       "      <td>30.138571</td>\n",
       "      <td>27.017223</td>\n",
       "      <td>138040000.0</td>\n",
       "      <td>-0.487142</td>\n",
       "      <td>1135.709961</td>\n",
       "      <td>1139.189941</td>\n",
       "      <td>1133.949951</td>\n",
       "      <td>1137.140015</td>\n",
       "      <td>1137.140015</td>\n",
       "      <td>4.972660e+09</td>\n",
       "      <td>0.619995</td>\n",
       "      <td>30.138571</td>\n",
       "      <td>30.138571</td>\n",
       "    </tr>\n",
       "    <tr>\n",
       "      <th>3</th>\n",
       "      <td>30.250000</td>\n",
       "      <td>30.285715</td>\n",
       "      <td>29.864286</td>\n",
       "      <td>30.082857</td>\n",
       "      <td>26.967278</td>\n",
       "      <td>119282800.0</td>\n",
       "      <td>-0.055714</td>\n",
       "      <td>1136.270020</td>\n",
       "      <td>1142.459961</td>\n",
       "      <td>1131.319946</td>\n",
       "      <td>1141.689941</td>\n",
       "      <td>1141.689941</td>\n",
       "      <td>5.270680e+09</td>\n",
       "      <td>4.549926</td>\n",
       "      <td>30.082857</td>\n",
       "      <td>30.082857</td>\n",
       "    </tr>\n",
       "    <tr>\n",
       "      <th>4</th>\n",
       "      <td>30.042856</td>\n",
       "      <td>30.285715</td>\n",
       "      <td>29.865715</td>\n",
       "      <td>30.282858</td>\n",
       "      <td>27.146566</td>\n",
       "      <td>111902700.0</td>\n",
       "      <td>0.200001</td>\n",
       "      <td>1140.520020</td>\n",
       "      <td>1145.390015</td>\n",
       "      <td>1136.219971</td>\n",
       "      <td>1144.979980</td>\n",
       "      <td>1144.979980</td>\n",
       "      <td>4.389590e+09</td>\n",
       "      <td>3.290039</td>\n",
       "      <td>30.282858</td>\n",
       "      <td>30.282858</td>\n",
       "    </tr>\n",
       "  </tbody>\n",
       "</table>\n",
       "</div>"
      ],
      "text/plain": [
       "        Open       High        Low      Close  Adj Close       Volume  \\\n",
       "0  30.490000  30.642857  30.340000  30.572857  27.406532  123432400.0   \n",
       "1  30.657143  30.798571  30.464285  30.625713  27.453915  150476200.0   \n",
       "2  30.625713  30.747143  30.107143  30.138571  27.017223  138040000.0   \n",
       "3  30.250000  30.285715  29.864286  30.082857  26.967278  119282800.0   \n",
       "4  30.042856  30.285715  29.865715  30.282858  27.146566  111902700.0   \n",
       "\n",
       "   prev_diff      sm_open      sm_high       sm_low     sm_close  \\\n",
       "0   0.000000  1116.560059  1133.869995  1116.560059  1132.989990   \n",
       "1   0.052856  1132.660034  1136.630005  1129.660034  1136.520020   \n",
       "2  -0.487142  1135.709961  1139.189941  1133.949951  1137.140015   \n",
       "3  -0.055714  1136.270020  1142.459961  1131.319946  1141.689941   \n",
       "4   0.200001  1140.520020  1145.390015  1136.219971  1144.979980   \n",
       "\n",
       "   sm_adj_close     sm_volume  sm_prev_diff        20d        50d  \n",
       "0   1132.989990  3.991400e+09      0.000000  30.572857  30.572857  \n",
       "1   1136.520020  2.491020e+09      3.530030  30.625713  30.625713  \n",
       "2   1137.140015  4.972660e+09      0.619995  30.138571  30.138571  \n",
       "3   1141.689941  5.270680e+09      4.549926  30.082857  30.082857  \n",
       "4   1144.979980  4.389590e+09      3.290039  30.282858  30.282858  "
      ]
     },
     "execution_count": 313,
     "metadata": {},
     "output_type": "execute_result"
    }
   ],
   "source": [
    "temp1.head(5)"
   ]
  },
  {
   "cell_type": "code",
   "execution_count": 314,
   "metadata": {},
   "outputs": [],
   "source": [
    "df = temp1\n",
    "y = temp1['Close'][1:]"
   ]
  },
  {
   "cell_type": "code",
   "execution_count": 315,
   "metadata": {},
   "outputs": [],
   "source": [
    "today = df.iloc[-1]\n",
    "df = df.iloc[:-1]"
   ]
  },
  {
   "cell_type": "code",
   "execution_count": 316,
   "metadata": {},
   "outputs": [
    {
     "data": {
      "text/plain": [
       "(2888, 16)"
      ]
     },
     "execution_count": 316,
     "metadata": {},
     "output_type": "execute_result"
    }
   ],
   "source": [
    "df.shape"
   ]
  },
  {
   "cell_type": "code",
   "execution_count": 317,
   "metadata": {},
   "outputs": [
    {
     "data": {
      "text/plain": [
       "(2888,)"
      ]
     },
     "execution_count": 317,
     "metadata": {},
     "output_type": "execute_result"
    }
   ],
   "source": [
    "y.shape"
   ]
  },
  {
   "cell_type": "code",
   "execution_count": 318,
   "metadata": {},
   "outputs": [
    {
     "name": "stdout",
     "output_type": "stream",
     "text": [
      "('Size of train set: ', (2743, 16))\n",
      "('Size of test set: ', (145, 16))\n",
      "('Size of train set: ', (2743,))\n",
      "('Size of test set: ', (145,))\n"
     ]
    }
   ],
   "source": [
    "index = int(np.floor(df.shape[0]*0.95))\n",
    "X_train, X_test = df[:index], df[index:]\n",
    "y_train, y_test = y[:index], y[index:]\n",
    "print('Size of train set: ', X_train.shape)\n",
    "print('Size of test set: ', X_test.shape)\n",
    "print('Size of train set: ', y_train.shape)\n",
    "print('Size of test set: ', y_test.shape)"
   ]
  },
  {
   "cell_type": "code",
   "execution_count": 348,
   "metadata": {},
   "outputs": [
    {
     "name": "stdout",
     "output_type": "stream",
     "text": [
      "StandardScaler(copy=True, with_mean=True, with_std=True)\n"
     ]
    },
    {
     "name": "stderr",
     "output_type": "stream",
     "text": [
      "/Users/manika/anaconda3/envs/stock/lib/python2.7/site-packages/ipykernel_launcher.py:10: FutureWarning: reshape is deprecated and will raise in a subsequent release. Please use .values.reshape(...) instead\n",
      "  # Remove the CWD from sys.path while we load stuff.\n",
      "/Users/manika/anaconda3/envs/stock/lib/python2.7/site-packages/ipykernel_launcher.py:11: FutureWarning: reshape is deprecated and will raise in a subsequent release. Please use .values.reshape(...) instead\n",
      "  # This is added back by InteractiveShellApp.init_path()\n",
      "/Users/manika/anaconda3/envs/stock/lib/python2.7/site-packages/ipykernel_launcher.py:12: FutureWarning: reshape is deprecated and will raise in a subsequent release. Please use .values.reshape(...) instead\n",
      "  if sys.path[0] == '':\n"
     ]
    }
   ],
   "source": [
    "from sklearn.preprocessing import StandardScaler\n",
    "\n",
    "scaler = StandardScaler()\n",
    "print(scaler.fit(X_train))\n",
    "StandardScaler(copy=True, with_mean=True, with_std=True)\n",
    "X_train_transform = scaler.transform(X_train)\n",
    "X_test_transform = scaler.transform(X_test)\n",
    "\n",
    "scaler_y = StandardScaler()\n",
    "scaler_y.fit(y_train.reshape(-1,1))\n",
    "y_train_transform = scaler_y.transform(y_train.reshape(-1,1))\n",
    "y_test_transform = scaler_y.transform(y_test.reshape(-1,1))"
   ]
  },
  {
   "cell_type": "code",
   "execution_count": 379,
   "metadata": {},
   "outputs": [
    {
     "data": {
      "image/png": "[encoded data removed]",
      "text/plain": [
       "<matplotlib.figure.Figure at 0x1186c8e50>"
      ]
     },
     "metadata": {},
     "output_type": "display_data"
    },
    {
     "data": {
      "image/png": "[encoded data removed]",
      "text/plain": [
       "<matplotlib.figure.Figure at 0x11452cbd0>"
      ]
     },
     "metadata": {},
     "output_type": "display_data"
    },
    {
     "data": {
      "image/png": "[encoded data removed]",
      "text/plain": [
       "<matplotlib.figure.Figure at 0x11452c2d0>"
      ]
     },
     "metadata": {},
     "output_type": "display_data"
    },
    {
     "data": {
      "image/png": "[encoded data removed]",
      "text/plain": [
       "<matplotlib.figure.Figure at 0x10b9c4f10>"
      ]
     },
     "metadata": {},
     "output_type": "display_data"
    },
    {
     "data": {
      "image/png": "[encoded data removed]",
      "text/plain": [
       "<matplotlib.figure.Figure at 0x101804690>"
      ]
     },
     "metadata": {},
     "output_type": "display_data"
    },
    {
     "data": {
      "image/png": "[encoded data removed]",
      "text/plain": [
       "<matplotlib.figure.Figure at 0x1154cd610>"
      ]
     },
     "metadata": {},
     "output_type": "display_data"
    },
    {
     "data": {
      "image/png": "[encoded data removed]",
      "text/plain": [
       "<matplotlib.figure.Figure at 0x118585510>"
      ]
     },
     "metadata": {},
     "output_type": "display_data"
    },
    {
     "data": {
      "image/png": "[encoded data removed]",
      "text/plain": [
       "<matplotlib.figure.Figure at 0x10ba0cd50>"
      ]
     },
     "metadata": {},
     "output_type": "display_data"
    },
    {
     "data": {
      "image/png": "[encoded data removed]",
      "text/plain": [
       "<matplotlib.figure.Figure at 0x118655d90>"
      ]
     },
     "metadata": {},
     "output_type": "display_data"
    },
    {
     "data": {
      "image/png": "[encoded data removed]",
      "text/plain": [
       "<matplotlib.figure.Figure at 0x118655b90>"
      ]
     },
     "metadata": {},
     "output_type": "display_data"
    },
    {
     "data": {
      "image/png": "[encoded data removed]",
      "text/plain": [
       "<matplotlib.figure.Figure at 0x1186203d0>"
      ]
     },
     "metadata": {},
     "output_type": "display_data"
    },
    {
     "data": {
      "image/png": "[encoded data removed]",
      "text/plain": [
       "<matplotlib.figure.Figure at 0x11865f710>"
      ]
     },
     "metadata": {},
     "output_type": "display_data"
    },
    {
     "data": {
      "image/png": "[encoded data removed]",
      "text/plain": [
       "<matplotlib.figure.Figure at 0x11865f6d0>"
      ]
     },
     "metadata": {},
     "output_type": "display_data"
    },
    {
     "data": {
      "image/png": "[encoded data removed]",
      "text/plain": [
       "<matplotlib.figure.Figure at 0x11a1ae250>"
      ]
     },
     "metadata": {},
     "output_type": "display_data"
    },
    {
     "data": {
      "image/png": "[encoded data removed]",
      "text/plain": [
       "<matplotlib.figure.Figure at 0x11a365250>"
      ]
     },
     "metadata": {},
     "output_type": "display_data"
    },
    {
     "data": {
      "image/png": "[encoded data removed]",
      "text/plain": [
       "<matplotlib.figure.Figure at 0x11a048b10>"
      ]
     },
     "metadata": {},
     "output_type": "display_data"
    },
    {
     "data": {
      "image/png": "[encoded data removed]",
      "text/plain": [
       "<matplotlib.figure.Figure at 0x11a54b110>"
      ]
     },
     "metadata": {},
     "output_type": "display_data"
    },
    {
     "data": {
      "image/png": "[encoded data removed]",
      "text/plain": [
       "<matplotlib.figure.Figure at 0x11a515f50>"
      ]
     },
     "metadata": {},
     "output_type": "display_data"
    },
    {
     "data": {
      "image/png": "[encoded data removed]",
      "text/plain": [
       "<matplotlib.figure.Figure at 0x11a51fe50>"
      ]
     },
     "metadata": {},
     "output_type": "display_data"
    },
    {
     "name": "stdout",
     "output_type": "stream",
     "text": [
      "8.80854e+11\n"
     ]
    }
   ],
   "source": [
    "import tensorflow as tf\n",
    "\n",
    "\n",
    "# Model architecture parameters\n",
    "n_stocks = 16\n",
    "n_neurons_1 = 1024\n",
    "n_neurons_2 = 512\n",
    "n_neurons_3 = 256\n",
    "n_neurons_4 = 128\n",
    "n_neurons_5 = 64\n",
    "n_target = 1\n",
    "\n",
    "# Placeholder\n",
    "X = tf.placeholder(dtype=tf.float32, shape=[None, n_stocks])\n",
    "Y = tf.placeholder(dtype=tf.float32, shape=[None])\n",
    "# Initializers\n",
    "sigma = 1\n",
    "weight_initializer = tf.variance_scaling_initializer(mode=\"fan_avg\", distribution=\"uniform\", scale=sigma)\n",
    "bias_initializer = tf.zeros_initializer()\n",
    "# Layer 1: Variables for hidden weights and biases\n",
    "W_hidden_1 = tf.Variable(weight_initializer([n_stocks, n_neurons_1]))\n",
    "bias_hidden_1 = tf.Variable(bias_initializer([n_neurons_1]))\n",
    "# Layer 2: Variables for hidden weights and biases\n",
    "W_hidden_2 = tf.Variable(weight_initializer([n_neurons_1, n_neurons_2]))\n",
    "bias_hidden_2 = tf.Variable(bias_initializer([n_neurons_2]))\n",
    "# Layer 3: Variables for hidden weights and biases\n",
    "W_hidden_3 = tf.Variable(weight_initializer([n_neurons_2, n_neurons_3]))\n",
    "bias_hidden_3 = tf.Variable(bias_initializer([n_neurons_3]))\n",
    "# Layer 4: Variables for hidden weights and biases\n",
    "W_hidden_4 = tf.Variable(weight_initializer([n_neurons_3, n_neurons_4]))\n",
    "bias_hidden_4 = tf.Variable(bias_initializer([n_neurons_4]))\n",
    "# Layer 5: Variables for hidden weights and biases\n",
    "W_hidden_5 = tf.Variable(weight_initializer([n_neurons_4, n_neurons_5]))\n",
    "bias_hidden_5 = tf.Variable(bias_initializer([n_neurons_5]))\n",
    "\n",
    "# Output layer: Variables for output weights and biases\n",
    "W_out = tf.Variable(weight_initializer([n_neurons_5, n_target]))\n",
    "bias_out = tf.Variable(bias_initializer([n_target]))\n",
    "\n",
    "# Hidden layer\n",
    "hidden_1 = tf.nn.relu(tf.add(tf.matmul(X, W_hidden_1), bias_hidden_1))\n",
    "hidden_2 = tf.nn.relu(tf.add(tf.matmul(hidden_1, W_hidden_2), bias_hidden_2))\n",
    "hidden_3 = tf.nn.relu(tf.add(tf.matmul(hidden_2, W_hidden_3), bias_hidden_3))\n",
    "hidden_4 = tf.nn.relu(tf.add(tf.matmul(hidden_3, W_hidden_4), bias_hidden_4))\n",
    "hidden_5 = tf.nn.relu(tf.add(tf.matmul(hidden_4, W_hidden_5), bias_hidden_5))\n",
    "\n",
    "# Output layer (must be transposed)\n",
    "out = tf.transpose(tf.add(tf.matmul(hidden_5, W_out), bias_out))\n",
    "\n",
    "# Cost function\n",
    "mse = tf.reduce_mean(tf.squared_difference(out, Y))\n",
    "\n",
    "# Optimizer\n",
    "opt = tf.train.AdamOptimizer().minimize(mse)\n",
    "\n",
    "# Make Session\n",
    "net = tf.Session()\n",
    "# Run initializer\n",
    "net.run(tf.global_variables_initializer())\n",
    "\n",
    "# Setup interactive plot\n",
    "plt.ion()\n",
    "fig = plt.figure()\n",
    "ax1 = fig.add_subplot(111)\n",
    "line1, = ax1.plot(y_test)\n",
    "line2, = ax1.plot(y_test*0.5)\n",
    "plt.show()\n",
    "\n",
    "# Number of epochs and batch size\n",
    "epochs = 2\n",
    "batch_size = 64\n",
    "\n",
    "for e in range(epochs):\n",
    "\n",
    "    # Shuffle training data\n",
    "#     shuffle_indices = np.random.permutation(np.arange(len(y_train)))\n",
    "#     X_train = X_train[shuffle_indices]\n",
    "#     y_train = y_train[shuffle_indices]\n",
    "\n",
    "    # Minibatch training\n",
    "    for i in range(0, len(y_train) // batch_size):\n",
    "        start = i * batch_size\n",
    "        batch_x = X_train[start:start + batch_size]\n",
    "        batch_y = y_train[start:start + batch_size]\n",
    "        # Run optimizer with batch\n",
    "        net.run(opt, feed_dict={X: batch_x, Y: batch_y})\n",
    "\n",
    "        # Show progress\n",
    "        if np.mod(i, 5) == 0:\n",
    "            # Prediction\n",
    "            pred = net.run(out, feed_dict={X: X_test})\n",
    "            line2.set_ydata(pred)\n",
    "            plt.title('Epoch ' + str(e) + ', Batch ' + str(i))\n",
    "#             file_name = 'img/epoch_' + str(e) + '_batch_' + str(i) + '.png'\n",
    "#             plt.savefig(file_name)\n",
    "            plt.pause(0.01)\n",
    "            \n",
    "# print (\"Prediction for tomorrow\")\n",
    "#stockData_predict_array_fit_reshape = stockData_predict_array_fit.reshape(1,7)\n",
    "#print (stockData_predict_array_fit_reshape.shape)\n",
    "# pred1 = net.run(out, feed_dict={X: stockData_predict_array_fit})\n",
    "\n",
    "# print (pred1)\n",
    "\n",
    "# pred_rescaled = (pred1* (y_train_max - y_train_min)) + (y_train_min)\n",
    "\n",
    "# print (pred_rescaled)\n",
    "\n",
    "#real_prediction = y_scaler.inverse_transform(pred1)\n",
    "#print (real_prediction)\n",
    "#pred1_reshape = pred1.reshape(1,-1)\n",
    "#pred1_reshape = pred1_reshape[0].reshape(1,8)\n",
    "#print (pred1)\n",
    "#print (pred1_reshape)\n",
    "#print (scaler.inverse_transform(pred1_reshape))\n",
    "    \n",
    "#mse_final1 = net.run(mse, feed_dict={X: stockData_predict, Y: y_test})\n",
    "# Print final MSE after Training\n",
    "mse_final = net.run(mse, feed_dict={X: X_test, Y: y_test})\n",
    "print(mse_final)\n",
    "\n"
   ]
  },
  {
   "cell_type": "code",
   "execution_count": 366,
   "metadata": {},
   "outputs": [
    {
     "name": "stderr",
     "output_type": "stream",
     "text": [
      "/Users/manika/anaconda3/envs/stock/lib/python2.7/site-packages/ipykernel_launcher.py:8: DataConversionWarning: A column-vector y was passed when a 1d array was expected. Please change the shape of y to (n_samples,), for example using ravel().\n",
      "  \n"
     ]
    },
    {
     "data": {
      "text/plain": [
       "RandomForestRegressor(bootstrap=True, criterion='mse', max_depth=9,\n",
       "           max_features='auto', max_leaf_nodes=None,\n",
       "           min_impurity_decrease=0.0, min_impurity_split=None,\n",
       "           min_samples_leaf=1, min_samples_split=2,\n",
       "           min_weight_fraction_leaf=0.0, n_estimators=1, n_jobs=1,\n",
       "           oob_score=False, random_state=5, verbose=0, warm_start=False)"
      ]
     },
     "execution_count": 366,
     "metadata": {},
     "output_type": "execute_result"
    }
   ],
   "source": [
    "from sklearn.ensemble import RandomForestRegressor, BaggingRegressor, GradientBoostingRegressor\n",
    "\n",
    "# regr = RandomForestRegressor(n_estimators=1, random_state = 10, min_samples_split=2)\n",
    "# regr.fit(X_train, y_train)\n",
    "\n",
    "# regr = GradientBoostingRegressor()\n",
    "regr = RandomForestRegressor(n_estimators=1, min_samples_split=2, random_state = 5, max_depth=9)\n",
    "regr.fit(X_train_transform, y_train_transform)"
   ]
  },
  {
   "cell_type": "code",
   "execution_count": 367,
   "metadata": {},
   "outputs": [],
   "source": [
    "predictions = regr.predict(X_test_transform)"
   ]
  },
  {
   "cell_type": "code",
   "execution_count": 374,
   "metadata": {},
   "outputs": [
    {
     "data": {
      "text/plain": [
       "79.649226951653375"
      ]
     },
     "execution_count": 374,
     "metadata": {},
     "output_type": "execute_result"
    }
   ],
   "source": [
    "from sklearn.metrics import mean_squared_error\n",
    "\n",
    "actual = scaler_y.inverse_transform(predictions)\n",
    "error = mean_squared_error(y_test, actual)\n",
    "error"
   ]
  },
  {
   "cell_type": "code",
   "execution_count": 373,
   "metadata": {
    "collapsed": true
   },
   "outputs": [],
   "source": [
    "y_t = []\n",
    "for item in y_test:\n",
    "    y_t.append(item)"
   ]
  },
  {
   "cell_type": "code",
   "execution_count": 371,
   "metadata": {},
   "outputs": [
    {
     "data": {
      "image/png": "[encoded data removed]",
      "text/plain": [
       "<matplotlib.figure.Figure at 0x10936e9d0>"
      ]
     },
     "metadata": {},
     "output_type": "display_data"
    }
   ],
   "source": [
    "plt.plot(y_t, color='blue')\n",
    "plt.plot(actual, color='red')\n",
    "plt.show()"
   ]
  },
  {
   "cell_type": "code",
   "execution_count": 70,
   "metadata": {},
   "outputs": [
    {
     "data": {
      "text/plain": [
       "DatetimeIndex(['2010-01-04', '2010-01-05', '2010-01-06', '2010-01-07',\n",
       "               '2010-01-08', '2010-01-09', '2010-01-10', '2010-01-11',\n",
       "               '2010-01-12', '2010-01-13',\n",
       "               ...\n",
       "               '2017-11-09', '2017-11-10', '2017-11-11', '2017-11-12',\n",
       "               '2017-11-13', '2017-11-14', '2017-11-15', '2017-11-16',\n",
       "               '2017-11-17', '2017-11-18'],\n",
       "              dtype='datetime64[ns]', length=2876, freq='D')"
      ]
     },
     "execution_count": 70,
     "metadata": {},
     "output_type": "execute_result"
    }
   ],
   "source": [
    "df_arima = finalData['Close']\n",
    "df_arima.index"
   ]
  },
  {
   "cell_type": "code",
   "execution_count": 71,
   "metadata": {},
   "outputs": [
    {
     "name": "stdout",
     "output_type": "stream",
     "text": [
      "                             ARIMA Model Results                              \n",
      "==============================================================================\n",
      "Dep. Variable:                D.Close   No. Observations:                 2875\n",
      "Model:                 ARIMA(5, 1, 1)   Log Likelihood               -4234.806\n",
      "Method:                       css-mle   S.D. of innovations              1.056\n",
      "Date:                Sat, 18 Nov 2017   AIC                           8485.612\n",
      "Time:                        19:07:59   BIC                           8533.322\n",
      "Sample:                    01-05-2010   HQIC                          8502.810\n",
      "                         - 11-18-2017                                         \n",
      "=================================================================================\n",
      "                    coef    std err          z      P>|z|      [0.025      0.975]\n",
      "---------------------------------------------------------------------------------\n",
      "const             0.0486      0.021      2.316      0.021       0.007       0.090\n",
      "ar.L1.D.Close    -0.1764      0.210     -0.840      0.401      -0.588       0.235\n",
      "ar.L2.D.Close     0.0312      0.025      1.237      0.216      -0.018       0.081\n",
      "ar.L3.D.Close     0.0150      0.019      0.787      0.431      -0.022       0.052\n",
      "ar.L4.D.Close     0.0090      0.019      0.470      0.638      -0.028       0.046\n",
      "ar.L5.D.Close    -0.0576      0.019     -3.033      0.002      -0.095      -0.020\n",
      "ma.L1.D.Close     0.2573      0.210      1.226      0.220      -0.154       0.669\n",
      "                                    Roots                                    \n",
      "=============================================================================\n",
      "                 Real           Imaginary           Modulus         Frequency\n",
      "-----------------------------------------------------------------------------\n",
      "AR.1           -1.6163           -0.0000j            1.6163           -0.5000\n",
      "AR.2           -0.6472           -1.6190j            1.7436           -0.3105\n",
      "AR.3           -0.6472           +1.6190j            1.7436            0.3105\n",
      "AR.4            1.5330           -1.0871j            1.8793           -0.0982\n",
      "AR.5            1.5330           +1.0871j            1.8793            0.0982\n",
      "MA.1           -3.8861           +0.0000j            3.8861            0.5000\n",
      "-----------------------------------------------------------------------------\n"
     ]
    }
   ],
   "source": [
    "model = ARIMA(df_arima, order=(5,1,1))\n",
    "model_fit = model.fit(disp=0)\n",
    "print(model_fit.summary())"
   ]
  },
  {
   "cell_type": "code",
   "execution_count": 72,
   "metadata": {},
   "outputs": [
    {
     "data": {
      "image/png": "[encoded data removed]",
      "text/plain": [
       "<matplotlib.figure.Figure at 0x115aa1a90>"
      ]
     },
     "metadata": {},
     "output_type": "display_data"
    },
    {
     "data": {
      "image/png": "[encoded data removed]",
      "text/plain": [
       "<matplotlib.figure.Figure at 0x1151e1d50>"
      ]
     },
     "metadata": {},
     "output_type": "display_data"
    },
    {
     "name": "stdout",
     "output_type": "stream",
     "text": [
      "                 0\n",
      "count  2875.000000\n",
      "mean     -0.000004\n",
      "std       1.055703\n",
      "min      -9.219611\n",
      "25%      -0.366320\n",
      "50%       0.020891\n",
      "75%       0.394649\n",
      "max       7.387389\n"
     ]
    }
   ],
   "source": [
    "residuals = pd.DataFrame(model_fit.resid)\n",
    "residuals.plot()\n",
    "plt.show()\n",
    "residuals.plot(kind='kde')\n",
    "plt.show()\n",
    "print(residuals.describe())"
   ]
  },
  {
   "cell_type": "code",
   "execution_count": 73,
   "metadata": {},
   "outputs": [
    {
     "name": "stdout",
     "output_type": "stream",
     "text": [
      "Test MSE: 1.503\n"
     ]
    },
    {
     "data": {
      "image/png": "[encoded data removed]",
      "text/plain": [
       "<matplotlib.figure.Figure at 0x1151a4950>"
      ]
     },
     "metadata": {},
     "output_type": "display_data"
    }
   ],
   "source": [
    "X = df_arima.values\n",
    "size = int(len(X) * 0.85)\n",
    "train, test = X[0:size], X[size:len(X)]\n",
    "history = [x for x in train]\n",
    "predictions = list()\n",
    "for t in range(len(test)): \n",
    "    model = ARIMA(history, order=(5,1,0))\n",
    "    model_fit = model.fit(disp=0)\n",
    "    output = model_fit.forecast()\n",
    "    yhat = output[0]\n",
    "    predictions.append(yhat)\n",
    "    obs = test[t]\n",
    "    history.append(obs)\n",
    "    #print('predicted=%f, expected=%f' % (yhat, obs))\n",
    "error = mean_squared_error(test, predictions)\n",
    "print('Test MSE: %.3f' % error)\n",
    "# plot\n",
    "plt.plot(test, color='blue')\n",
    "plt.plot(predictions, color='red')\n",
    "plt.show()"
   ]
  },
  {
   "cell_type": "code",
   "execution_count": 45,
   "metadata": {
    "collapsed": true
   },
   "outputs": [],
   "source": [
    "# from sklearn import preprocessing\n",
    "\n",
    "# finalDataNorm = preprocessing.normalize(finalData, norm='l2', axis=1)"
   ]
  },
  {
   "cell_type": "code",
   "execution_count": 46,
   "metadata": {},
   "outputs": [
    {
     "data": {
      "text/plain": [
       "14"
      ]
     },
     "execution_count": 46,
     "metadata": {},
     "output_type": "execute_result"
    }
   ],
   "source": [
    "# len(finalDataNorm[0])"
   ]
  },
  {
   "cell_type": "code",
   "execution_count": 47,
   "metadata": {
    "collapsed": true
   },
   "outputs": [],
   "source": [
    "# writeDF = pd.DataFrame(finalDataNorm)"
   ]
  },
  {
   "cell_type": "code",
   "execution_count": 49,
   "metadata": {
    "collapsed": true
   },
   "outputs": [],
   "source": [
    "# # writeDF.columns = ['open', 'high', 'low', 'close','adj close','volume','prev_diff','close_50_sma','10_day_volatility', \\\n",
    "#                    'sm_open','sm_high','sm_low','sm_close','sm_adj_close','sm_volume','sm_prev_diff','sm_close_50_sma',\\\n",
    "#                    'sm_10_day_volatility']"
   ]
  },
  {
   "cell_type": "code",
   "execution_count": 51,
   "metadata": {
    "collapsed": true
   },
   "outputs": [],
   "source": [
    "# writeDF.head(5)"
   ]
  },
  {
   "cell_type": "code",
   "execution_count": 52,
   "metadata": {
    "collapsed": true
   },
   "outputs": [],
   "source": [
    "# writeDF.to_csv('./aaplNorm.csv')"
   ]
  },
  {
   "cell_type": "code",
   "execution_count": 53,
   "metadata": {
    "collapsed": true
   },
   "outputs": [],
   "source": [
    "# finalData.to_csv('./aapl.csv')"
   ]
  },
  {
   "cell_type": "code",
   "execution_count": 54,
   "metadata": {
    "collapsed": true,
    "scrolled": true
   },
   "outputs": [],
   "source": [
    "# writeDF.insert(0, \"date\", finalData.index)"
   ]
  },
  {
   "cell_type": "code",
   "execution_count": null,
   "metadata": {
    "collapsed": true
   },
   "outputs": [],
   "source": [
    "# def applyTimeLag(dataset, lags, delta):\n",
    "#     maxLag = max(lags)\n",
    "\n",
    "#     columns = dataset.columns[::(2*max(delta)-1)]\n",
    "#     for column in columns:\n",
    "#         newcolumn = column + str(maxLag)\n",
    "#         dataset[newcolumn] = dataset[column].shift(maxLag)\n",
    "\n",
    "#     return dataset.iloc[maxLag:-1, :]\n"
   ]
  },
  {
   "cell_type": "code",
   "execution_count": null,
   "metadata": {
    "collapsed": true
   },
   "outputs": [],
   "source": [
    "# maxdelta = 30\n",
    "# delta = range(8, maxdelta)\n",
    "\n",
    "# high_value = 365\n",
    "# high_value = min(high_value, writeDF.shape[0] - 1)\n",
    "\n",
    "# writeDF = applyTimeLag(writeDF, [high_value], delta)"
   ]
  },
  {
   "cell_type": "code",
   "execution_count": 55,
   "metadata": {
    "collapsed": true
   },
   "outputs": [],
   "source": [
    "# writeDF.head(5)"
   ]
  },
  {
   "cell_type": "code",
   "execution_count": null,
   "metadata": {
    "collapsed": true
   },
   "outputs": [],
   "source": [
    "# import numpy as np\n",
    "\n",
    "# index = int(np.floor(writeDF.shape[0]*0.95))\n",
    "# train, test = writeDF[:index], writeDF[index:]\n",
    "# print('Size of train set: ', train.shape)\n",
    "# print('Size of test set: ', test.shape)"
   ]
  },
  {
   "cell_type": "code",
   "execution_count": null,
   "metadata": {
    "collapsed": true
   },
   "outputs": [],
   "source": [
    "# train.head(5)"
   ]
  },
  {
   "cell_type": "code",
   "execution_count": null,
   "metadata": {
    "collapsed": true
   },
   "outputs": [],
   "source": [
    "# X_train = train.loc[:, train.columns != 'close']\n",
    "# X_train = X_train.loc[:, X_train.columns != 'date']\n",
    "# X_train = X_train.loc[:, X_train.columns != 'date365']\n",
    "# y_train = finalData['close'][:index]"
   ]
  },
  {
   "cell_type": "code",
   "execution_count": null,
   "metadata": {
    "collapsed": true
   },
   "outputs": [],
   "source": [
    "# X_train.head(5)"
   ]
  },
  {
   "cell_type": "code",
   "execution_count": null,
   "metadata": {
    "collapsed": true
   },
   "outputs": [],
   "source": [
    "# y_train.head(5)"
   ]
  },
  {
   "cell_type": "code",
   "execution_count": null,
   "metadata": {
    "collapsed": true
   },
   "outputs": [],
   "source": [
    "# X_test = test.loc[:, test.columns != 'close']\n",
    "# X_test = X_test.loc[:, X_test.columns != 'date']\n",
    "# X_test = X_test.loc[:, X_test.columns != 'date365']\n",
    "# y_test = finalData['close'][index:]"
   ]
  },
  {
   "cell_type": "code",
   "execution_count": null,
   "metadata": {
    "collapsed": true
   },
   "outputs": [],
   "source": [
    "# y_test.shape"
   ]
  },
  {
   "cell_type": "code",
   "execution_count": null,
   "metadata": {
    "collapsed": true
   },
   "outputs": [],
   "source": [
    "# from sklearn.ensemble import RandomForestRegressor, BaggingRegressor\n",
    "\n",
    "# # regr = RandomForestRegressor(n_estimators=10)\n",
    "# # regr.fit(X_train, y_train)\n",
    "\n",
    "# regr = BaggingRegressor()\n",
    "# regr.fit(X_train, y_train)"
   ]
  },
  {
   "cell_type": "code",
   "execution_count": null,
   "metadata": {
    "collapsed": true
   },
   "outputs": [],
   "source": [
    "# print(regr.feature_importances_)"
   ]
  },
  {
   "cell_type": "code",
   "execution_count": null,
   "metadata": {
    "collapsed": true
   },
   "outputs": [],
   "source": [
    "# print(regr.predict(X_test)[0:6])"
   ]
  },
  {
   "cell_type": "code",
   "execution_count": null,
   "metadata": {
    "collapsed": true
   },
   "outputs": [],
   "source": [
    "# y_test.head(5)"
   ]
  },
  {
   "cell_type": "code",
   "execution_count": null,
   "metadata": {
    "collapsed": true
   },
   "outputs": [],
   "source": [
    "# # x = writeDF[:,0:9]\n",
    "# x = writeDF.iloc[:,0:16]\n",
    "# x = x.set_index('date')"
   ]
  },
  {
   "cell_type": "code",
   "execution_count": null,
   "metadata": {
    "collapsed": true
   },
   "outputs": [],
   "source": [
    "# x.close = finalData.close"
   ]
  },
  {
   "cell_type": "code",
   "execution_count": null,
   "metadata": {
    "collapsed": true
   },
   "outputs": [],
   "source": [
    "# x = x.sort_index()\n",
    "# x.head(5)"
   ]
  },
  {
   "cell_type": "code",
   "execution_count": null,
   "metadata": {
    "collapsed": true
   },
   "outputs": [],
   "source": [
    "# index = int(np.floor(x.shape[0]*0.90))\n",
    "# train, test = x[:index], x[index:]\n",
    "# print('Size of train set: ', train.shape)\n",
    "# print('Size of test set: ', test.shape)"
   ]
  },
  {
   "cell_type": "code",
   "execution_count": null,
   "metadata": {
    "collapsed": true
   },
   "outputs": [],
   "source": [
    "# X_train = train.loc[:, train.columns != 'close']\n",
    "# y_train = train['close']\n",
    "# X_test = test.loc[:, test.columns != 'close']\n",
    "# y_test = test['close']"
   ]
  },
  {
   "cell_type": "code",
   "execution_count": null,
   "metadata": {
    "collapsed": true
   },
   "outputs": [],
   "source": [
    "# X_train.head(5)"
   ]
  },
  {
   "cell_type": "code",
   "execution_count": null,
   "metadata": {
    "collapsed": true
   },
   "outputs": [],
   "source": [
    "# from sklearn.ensemble import RandomForestRegressor, BaggingRegressor\n",
    "\n",
    "# regr = RandomForestRegressor(n_estimators=10, random_state = 10)\n",
    "# regr.fit(X_train, y_train)\n",
    "\n",
    "# regr = BaggingRegressor()\n",
    "# regr.fit(X_train, y_train)\n"
   ]
  },
  {
   "cell_type": "code",
   "execution_count": null,
   "metadata": {
    "collapsed": true
   },
   "outputs": [],
   "source": [
    "# predictions = regr.predict(X_test)"
   ]
  },
  {
   "cell_type": "code",
   "execution_count": null,
   "metadata": {
    "collapsed": true
   },
   "outputs": [],
   "source": [
    "# error = mean_squared_error(y_test, predictions)\n",
    "# plt.plot(y_test, color='blue')\n",
    "# # plt.plot(prediction, color='red')\n",
    "# # plt.show()\n",
    "# error"
   ]
  },
  {
   "cell_type": "code",
   "execution_count": null,
   "metadata": {
    "collapsed": true
   },
   "outputs": [],
   "source": [
    "# y_t = []\n",
    "# for item in y_test:\n",
    "#     y_t.append(item)"
   ]
  },
  {
   "cell_type": "code",
   "execution_count": null,
   "metadata": {
    "collapsed": true
   },
   "outputs": [],
   "source": [
    "# plt.plot(y_t, color='blue')\n",
    "# plt.plot(predictions, color='red')\n",
    "# plt.show()"
   ]
  },
  {
   "cell_type": "code",
   "execution_count": null,
   "metadata": {
    "collapsed": true
   },
   "outputs": [],
   "source": [
    "# predictions[0:9]"
   ]
  },
  {
   "cell_type": "code",
   "execution_count": null,
   "metadata": {
    "collapsed": true
   },
   "outputs": [],
   "source": [
    "# y_t[0:9]"
   ]
  },
  {
   "cell_type": "code",
   "execution_count": 74,
   "metadata": {},
   "outputs": [
    {
     "data": {
      "text/html": [
       "<div>\n",
       "<style>\n",
       "    .dataframe thead tr:only-child th {\n",
       "        text-align: right;\n",
       "    }\n",
       "\n",
       "    .dataframe thead th {\n",
       "        text-align: left;\n",
       "    }\n",
       "\n",
       "    .dataframe tbody tr th {\n",
       "        vertical-align: top;\n",
       "    }\n",
       "</style>\n",
       "<table border=\"1\" class=\"dataframe\">\n",
       "  <thead>\n",
       "    <tr style=\"text-align: right;\">\n",
       "      <th></th>\n",
       "      <th>Open</th>\n",
       "      <th>High</th>\n",
       "      <th>Low</th>\n",
       "      <th>Close</th>\n",
       "      <th>Adj Close</th>\n",
       "      <th>Volume</th>\n",
       "      <th>prev_diff</th>\n",
       "      <th>sm_open</th>\n",
       "      <th>sm_high</th>\n",
       "      <th>sm_low</th>\n",
       "      <th>sm_close</th>\n",
       "      <th>sm_adj_close</th>\n",
       "      <th>sm_volume</th>\n",
       "      <th>sm_prev_diff</th>\n",
       "    </tr>\n",
       "  </thead>\n",
       "  <tbody>\n",
       "    <tr>\n",
       "      <th>2010-01-04</th>\n",
       "      <td>30.490000</td>\n",
       "      <td>30.642857</td>\n",
       "      <td>30.340000</td>\n",
       "      <td>30.572857</td>\n",
       "      <td>27.406532</td>\n",
       "      <td>123432400.0</td>\n",
       "      <td>0.000000</td>\n",
       "      <td>1116.560059</td>\n",
       "      <td>1133.869995</td>\n",
       "      <td>1116.560059</td>\n",
       "      <td>1132.989990</td>\n",
       "      <td>1132.989990</td>\n",
       "      <td>3.991400e+09</td>\n",
       "      <td>0.000000</td>\n",
       "    </tr>\n",
       "    <tr>\n",
       "      <th>2010-01-05</th>\n",
       "      <td>30.657143</td>\n",
       "      <td>30.798571</td>\n",
       "      <td>30.464285</td>\n",
       "      <td>30.625713</td>\n",
       "      <td>27.453915</td>\n",
       "      <td>150476200.0</td>\n",
       "      <td>0.052856</td>\n",
       "      <td>1132.660034</td>\n",
       "      <td>1136.630005</td>\n",
       "      <td>1129.660034</td>\n",
       "      <td>1136.520020</td>\n",
       "      <td>1136.520020</td>\n",
       "      <td>2.491020e+09</td>\n",
       "      <td>3.530030</td>\n",
       "    </tr>\n",
       "    <tr>\n",
       "      <th>2010-01-06</th>\n",
       "      <td>30.625713</td>\n",
       "      <td>30.747143</td>\n",
       "      <td>30.107143</td>\n",
       "      <td>30.138571</td>\n",
       "      <td>27.017223</td>\n",
       "      <td>138040000.0</td>\n",
       "      <td>-0.487142</td>\n",
       "      <td>1135.709961</td>\n",
       "      <td>1139.189941</td>\n",
       "      <td>1133.949951</td>\n",
       "      <td>1137.140015</td>\n",
       "      <td>1137.140015</td>\n",
       "      <td>4.972660e+09</td>\n",
       "      <td>0.619995</td>\n",
       "    </tr>\n",
       "    <tr>\n",
       "      <th>2010-01-07</th>\n",
       "      <td>30.250000</td>\n",
       "      <td>30.285715</td>\n",
       "      <td>29.864286</td>\n",
       "      <td>30.082857</td>\n",
       "      <td>26.967278</td>\n",
       "      <td>119282800.0</td>\n",
       "      <td>-0.055714</td>\n",
       "      <td>1136.270020</td>\n",
       "      <td>1142.459961</td>\n",
       "      <td>1131.319946</td>\n",
       "      <td>1141.689941</td>\n",
       "      <td>1141.689941</td>\n",
       "      <td>5.270680e+09</td>\n",
       "      <td>4.549926</td>\n",
       "    </tr>\n",
       "    <tr>\n",
       "      <th>2010-01-08</th>\n",
       "      <td>30.042856</td>\n",
       "      <td>30.285715</td>\n",
       "      <td>29.865715</td>\n",
       "      <td>30.282858</td>\n",
       "      <td>27.146566</td>\n",
       "      <td>111902700.0</td>\n",
       "      <td>0.200001</td>\n",
       "      <td>1140.520020</td>\n",
       "      <td>1145.390015</td>\n",
       "      <td>1136.219971</td>\n",
       "      <td>1144.979980</td>\n",
       "      <td>1144.979980</td>\n",
       "      <td>4.389590e+09</td>\n",
       "      <td>3.290039</td>\n",
       "    </tr>\n",
       "  </tbody>\n",
       "</table>\n",
       "</div>"
      ],
      "text/plain": [
       "                 Open       High        Low      Close  Adj Close  \\\n",
       "2010-01-04  30.490000  30.642857  30.340000  30.572857  27.406532   \n",
       "2010-01-05  30.657143  30.798571  30.464285  30.625713  27.453915   \n",
       "2010-01-06  30.625713  30.747143  30.107143  30.138571  27.017223   \n",
       "2010-01-07  30.250000  30.285715  29.864286  30.082857  26.967278   \n",
       "2010-01-08  30.042856  30.285715  29.865715  30.282858  27.146566   \n",
       "\n",
       "                 Volume  prev_diff      sm_open      sm_high       sm_low  \\\n",
       "2010-01-04  123432400.0   0.000000  1116.560059  1133.869995  1116.560059   \n",
       "2010-01-05  150476200.0   0.052856  1132.660034  1136.630005  1129.660034   \n",
       "2010-01-06  138040000.0  -0.487142  1135.709961  1139.189941  1133.949951   \n",
       "2010-01-07  119282800.0  -0.055714  1136.270020  1142.459961  1131.319946   \n",
       "2010-01-08  111902700.0   0.200001  1140.520020  1145.390015  1136.219971   \n",
       "\n",
       "               sm_close  sm_adj_close     sm_volume  sm_prev_diff  \n",
       "2010-01-04  1132.989990   1132.989990  3.991400e+09      0.000000  \n",
       "2010-01-05  1136.520020   1136.520020  2.491020e+09      3.530030  \n",
       "2010-01-06  1137.140015   1137.140015  4.972660e+09      0.619995  \n",
       "2010-01-07  1141.689941   1141.689941  5.270680e+09      4.549926  \n",
       "2010-01-08  1144.979980   1144.979980  4.389590e+09      3.290039  "
      ]
     },
     "execution_count": 74,
     "metadata": {},
     "output_type": "execute_result"
    }
   ],
   "source": [
    "y = finalData\n",
    "y.head(5)"
   ]
  },
  {
   "cell_type": "code",
   "execution_count": 76,
   "metadata": {
    "collapsed": true
   },
   "outputs": [],
   "source": [
    "y[\"20d\"] = np.round(y[\"Close\"].rolling(window = 20, center = False).mean(), 2)\n",
    "z = y['Close'][0:19]\n",
    "y['20d'][0:19] = z"
   ]
  },
  {
   "cell_type": "code",
   "execution_count": 79,
   "metadata": {},
   "outputs": [
    {
     "data": {
      "text/html": [
       "<div>\n",
       "<style>\n",
       "    .dataframe thead tr:only-child th {\n",
       "        text-align: right;\n",
       "    }\n",
       "\n",
       "    .dataframe thead th {\n",
       "        text-align: left;\n",
       "    }\n",
       "\n",
       "    .dataframe tbody tr th {\n",
       "        vertical-align: top;\n",
       "    }\n",
       "</style>\n",
       "<table border=\"1\" class=\"dataframe\">\n",
       "  <thead>\n",
       "    <tr style=\"text-align: right;\">\n",
       "      <th></th>\n",
       "      <th>Open</th>\n",
       "      <th>High</th>\n",
       "      <th>Low</th>\n",
       "      <th>Close</th>\n",
       "      <th>Adj Close</th>\n",
       "      <th>Volume</th>\n",
       "      <th>prev_diff</th>\n",
       "      <th>sm_open</th>\n",
       "      <th>sm_high</th>\n",
       "      <th>sm_low</th>\n",
       "      <th>sm_close</th>\n",
       "      <th>sm_adj_close</th>\n",
       "      <th>sm_volume</th>\n",
       "      <th>sm_prev_diff</th>\n",
       "      <th>20d</th>\n",
       "      <th>50d</th>\n",
       "    </tr>\n",
       "  </thead>\n",
       "  <tbody>\n",
       "    <tr>\n",
       "      <th>2010-01-04</th>\n",
       "      <td>30.490000</td>\n",
       "      <td>30.642857</td>\n",
       "      <td>30.340000</td>\n",
       "      <td>30.572857</td>\n",
       "      <td>27.406532</td>\n",
       "      <td>123432400.0</td>\n",
       "      <td>0.000000</td>\n",
       "      <td>1116.560059</td>\n",
       "      <td>1133.869995</td>\n",
       "      <td>1116.560059</td>\n",
       "      <td>1132.989990</td>\n",
       "      <td>1132.989990</td>\n",
       "      <td>3.991400e+09</td>\n",
       "      <td>0.000000</td>\n",
       "      <td>30.572857</td>\n",
       "      <td>30.572857</td>\n",
       "    </tr>\n",
       "    <tr>\n",
       "      <th>2010-01-05</th>\n",
       "      <td>30.657143</td>\n",
       "      <td>30.798571</td>\n",
       "      <td>30.464285</td>\n",
       "      <td>30.625713</td>\n",
       "      <td>27.453915</td>\n",
       "      <td>150476200.0</td>\n",
       "      <td>0.052856</td>\n",
       "      <td>1132.660034</td>\n",
       "      <td>1136.630005</td>\n",
       "      <td>1129.660034</td>\n",
       "      <td>1136.520020</td>\n",
       "      <td>1136.520020</td>\n",
       "      <td>2.491020e+09</td>\n",
       "      <td>3.530030</td>\n",
       "      <td>30.625713</td>\n",
       "      <td>30.625713</td>\n",
       "    </tr>\n",
       "    <tr>\n",
       "      <th>2010-01-06</th>\n",
       "      <td>30.625713</td>\n",
       "      <td>30.747143</td>\n",
       "      <td>30.107143</td>\n",
       "      <td>30.138571</td>\n",
       "      <td>27.017223</td>\n",
       "      <td>138040000.0</td>\n",
       "      <td>-0.487142</td>\n",
       "      <td>1135.709961</td>\n",
       "      <td>1139.189941</td>\n",
       "      <td>1133.949951</td>\n",
       "      <td>1137.140015</td>\n",
       "      <td>1137.140015</td>\n",
       "      <td>4.972660e+09</td>\n",
       "      <td>0.619995</td>\n",
       "      <td>30.138571</td>\n",
       "      <td>30.138571</td>\n",
       "    </tr>\n",
       "    <tr>\n",
       "      <th>2010-01-07</th>\n",
       "      <td>30.250000</td>\n",
       "      <td>30.285715</td>\n",
       "      <td>29.864286</td>\n",
       "      <td>30.082857</td>\n",
       "      <td>26.967278</td>\n",
       "      <td>119282800.0</td>\n",
       "      <td>-0.055714</td>\n",
       "      <td>1136.270020</td>\n",
       "      <td>1142.459961</td>\n",
       "      <td>1131.319946</td>\n",
       "      <td>1141.689941</td>\n",
       "      <td>1141.689941</td>\n",
       "      <td>5.270680e+09</td>\n",
       "      <td>4.549926</td>\n",
       "      <td>30.082857</td>\n",
       "      <td>30.082857</td>\n",
       "    </tr>\n",
       "    <tr>\n",
       "      <th>2010-01-08</th>\n",
       "      <td>30.042856</td>\n",
       "      <td>30.285715</td>\n",
       "      <td>29.865715</td>\n",
       "      <td>30.282858</td>\n",
       "      <td>27.146566</td>\n",
       "      <td>111902700.0</td>\n",
       "      <td>0.200001</td>\n",
       "      <td>1140.520020</td>\n",
       "      <td>1145.390015</td>\n",
       "      <td>1136.219971</td>\n",
       "      <td>1144.979980</td>\n",
       "      <td>1144.979980</td>\n",
       "      <td>4.389590e+09</td>\n",
       "      <td>3.290039</td>\n",
       "      <td>30.282858</td>\n",
       "      <td>30.282858</td>\n",
       "    </tr>\n",
       "  </tbody>\n",
       "</table>\n",
       "</div>"
      ],
      "text/plain": [
       "                 Open       High        Low      Close  Adj Close  \\\n",
       "2010-01-04  30.490000  30.642857  30.340000  30.572857  27.406532   \n",
       "2010-01-05  30.657143  30.798571  30.464285  30.625713  27.453915   \n",
       "2010-01-06  30.625713  30.747143  30.107143  30.138571  27.017223   \n",
       "2010-01-07  30.250000  30.285715  29.864286  30.082857  26.967278   \n",
       "2010-01-08  30.042856  30.285715  29.865715  30.282858  27.146566   \n",
       "\n",
       "                 Volume  prev_diff      sm_open      sm_high       sm_low  \\\n",
       "2010-01-04  123432400.0   0.000000  1116.560059  1133.869995  1116.560059   \n",
       "2010-01-05  150476200.0   0.052856  1132.660034  1136.630005  1129.660034   \n",
       "2010-01-06  138040000.0  -0.487142  1135.709961  1139.189941  1133.949951   \n",
       "2010-01-07  119282800.0  -0.055714  1136.270020  1142.459961  1131.319946   \n",
       "2010-01-08  111902700.0   0.200001  1140.520020  1145.390015  1136.219971   \n",
       "\n",
       "               sm_close  sm_adj_close     sm_volume  sm_prev_diff        20d  \\\n",
       "2010-01-04  1132.989990   1132.989990  3.991400e+09      0.000000  30.572857   \n",
       "2010-01-05  1136.520020   1136.520020  2.491020e+09      3.530030  30.625713   \n",
       "2010-01-06  1137.140015   1137.140015  4.972660e+09      0.619995  30.138571   \n",
       "2010-01-07  1141.689941   1141.689941  5.270680e+09      4.549926  30.082857   \n",
       "2010-01-08  1144.979980   1144.979980  4.389590e+09      3.290039  30.282858   \n",
       "\n",
       "                  50d  \n",
       "2010-01-04  30.572857  \n",
       "2010-01-05  30.625713  \n",
       "2010-01-06  30.138571  \n",
       "2010-01-07  30.082857  \n",
       "2010-01-08  30.282858  "
      ]
     },
     "execution_count": 79,
     "metadata": {},
     "output_type": "execute_result"
    }
   ],
   "source": [
    "y.head(5)"
   ]
  },
  {
   "cell_type": "code",
   "execution_count": 78,
   "metadata": {
    "collapsed": true
   },
   "outputs": [],
   "source": [
    "# y[\"50d\"] = np.round(y[\"Close\"].rolling(window = 50, center = False).mean(), 2)\n",
    "# z1 = y['Close'][0:49]\n",
    "# y['50d'][0:49] = z1"
   ]
  },
  {
   "cell_type": "code",
   "execution_count": 30,
   "metadata": {
    "collapsed": true
   },
   "outputs": [],
   "source": [
    "# y[\"100d\"] = np.round(y[\"Close\"].rolling(window = 100, center = False).mean(), 2)\n",
    "# z1 = y['Close'][0:99]\n",
    "# y['100d'][0:99] = z1"
   ]
  },
  {
   "cell_type": "code",
   "execution_count": 31,
   "metadata": {
    "collapsed": true
   },
   "outputs": [],
   "source": [
    "# y[\"200d\"] = np.round(y[\"Close\"].rolling(window = 200, center = False).mean(), 2)\n",
    "# z1 = y['Close'][0:199]\n",
    "# y['200d'][0:199] = z1"
   ]
  },
  {
   "cell_type": "code",
   "execution_count": 80,
   "metadata": {
    "collapsed": true
   },
   "outputs": [],
   "source": [
    "import math\n",
    "\n",
    "def ten_day_volatility_new(dataframe):\n",
    "    volatility = dataframe['Close'].rolling(window=10,center=False).std(ddof=0)\n",
    "    # daily_pct_change = stockstats_df['close'] / stockstats_df['close'].shift(1) - 1\n",
    "    # volatility2 = daily_pct_change.rolling(window=10,center=False).std(ddof=0) * math.sqrt(10)\n",
    "    top = dataframe[0:9]\n",
    "    top_vol = top['Close'].rolling(window=2,center=False).std(ddof=0)\n",
    "    top_vol[0] = 0\n",
    "    volatility[0:9] = top_vol\n",
    "    return volatility"
   ]
  },
  {
   "cell_type": "code",
   "execution_count": 81,
   "metadata": {
    "collapsed": true
   },
   "outputs": [],
   "source": [
    "y['10dv'] = ten_day_volatility_new(y)"
   ]
  },
  {
   "cell_type": "code",
   "execution_count": 82,
   "metadata": {},
   "outputs": [
    {
     "data": {
      "text/html": [
       "<div>\n",
       "<style>\n",
       "    .dataframe thead tr:only-child th {\n",
       "        text-align: right;\n",
       "    }\n",
       "\n",
       "    .dataframe thead th {\n",
       "        text-align: left;\n",
       "    }\n",
       "\n",
       "    .dataframe tbody tr th {\n",
       "        vertical-align: top;\n",
       "    }\n",
       "</style>\n",
       "<table border=\"1\" class=\"dataframe\">\n",
       "  <thead>\n",
       "    <tr style=\"text-align: right;\">\n",
       "      <th></th>\n",
       "      <th>Open</th>\n",
       "      <th>High</th>\n",
       "      <th>Low</th>\n",
       "      <th>Close</th>\n",
       "      <th>Adj Close</th>\n",
       "      <th>Volume</th>\n",
       "      <th>prev_diff</th>\n",
       "      <th>sm_open</th>\n",
       "      <th>sm_high</th>\n",
       "      <th>sm_low</th>\n",
       "      <th>sm_close</th>\n",
       "      <th>sm_adj_close</th>\n",
       "      <th>sm_volume</th>\n",
       "      <th>sm_prev_diff</th>\n",
       "      <th>20d</th>\n",
       "      <th>50d</th>\n",
       "      <th>10dv</th>\n",
       "    </tr>\n",
       "  </thead>\n",
       "  <tbody>\n",
       "    <tr>\n",
       "      <th>2010-01-04</th>\n",
       "      <td>30.490000</td>\n",
       "      <td>30.642857</td>\n",
       "      <td>30.340000</td>\n",
       "      <td>30.572857</td>\n",
       "      <td>27.406532</td>\n",
       "      <td>123432400.0</td>\n",
       "      <td>0.000000</td>\n",
       "      <td>1116.560059</td>\n",
       "      <td>1133.869995</td>\n",
       "      <td>1116.560059</td>\n",
       "      <td>1132.989990</td>\n",
       "      <td>1132.989990</td>\n",
       "      <td>3.991400e+09</td>\n",
       "      <td>0.000000</td>\n",
       "      <td>30.572857</td>\n",
       "      <td>30.572857</td>\n",
       "      <td>0.000000</td>\n",
       "    </tr>\n",
       "    <tr>\n",
       "      <th>2010-01-05</th>\n",
       "      <td>30.657143</td>\n",
       "      <td>30.798571</td>\n",
       "      <td>30.464285</td>\n",
       "      <td>30.625713</td>\n",
       "      <td>27.453915</td>\n",
       "      <td>150476200.0</td>\n",
       "      <td>0.052856</td>\n",
       "      <td>1132.660034</td>\n",
       "      <td>1136.630005</td>\n",
       "      <td>1129.660034</td>\n",
       "      <td>1136.520020</td>\n",
       "      <td>1136.520020</td>\n",
       "      <td>2.491020e+09</td>\n",
       "      <td>3.530030</td>\n",
       "      <td>30.625713</td>\n",
       "      <td>30.625713</td>\n",
       "      <td>0.026428</td>\n",
       "    </tr>\n",
       "    <tr>\n",
       "      <th>2010-01-06</th>\n",
       "      <td>30.625713</td>\n",
       "      <td>30.747143</td>\n",
       "      <td>30.107143</td>\n",
       "      <td>30.138571</td>\n",
       "      <td>27.017223</td>\n",
       "      <td>138040000.0</td>\n",
       "      <td>-0.487142</td>\n",
       "      <td>1135.709961</td>\n",
       "      <td>1139.189941</td>\n",
       "      <td>1133.949951</td>\n",
       "      <td>1137.140015</td>\n",
       "      <td>1137.140015</td>\n",
       "      <td>4.972660e+09</td>\n",
       "      <td>0.619995</td>\n",
       "      <td>30.138571</td>\n",
       "      <td>30.138571</td>\n",
       "      <td>0.243571</td>\n",
       "    </tr>\n",
       "    <tr>\n",
       "      <th>2010-01-07</th>\n",
       "      <td>30.250000</td>\n",
       "      <td>30.285715</td>\n",
       "      <td>29.864286</td>\n",
       "      <td>30.082857</td>\n",
       "      <td>26.967278</td>\n",
       "      <td>119282800.0</td>\n",
       "      <td>-0.055714</td>\n",
       "      <td>1136.270020</td>\n",
       "      <td>1142.459961</td>\n",
       "      <td>1131.319946</td>\n",
       "      <td>1141.689941</td>\n",
       "      <td>1141.689941</td>\n",
       "      <td>5.270680e+09</td>\n",
       "      <td>4.549926</td>\n",
       "      <td>30.082857</td>\n",
       "      <td>30.082857</td>\n",
       "      <td>0.027857</td>\n",
       "    </tr>\n",
       "    <tr>\n",
       "      <th>2010-01-08</th>\n",
       "      <td>30.042856</td>\n",
       "      <td>30.285715</td>\n",
       "      <td>29.865715</td>\n",
       "      <td>30.282858</td>\n",
       "      <td>27.146566</td>\n",
       "      <td>111902700.0</td>\n",
       "      <td>0.200001</td>\n",
       "      <td>1140.520020</td>\n",
       "      <td>1145.390015</td>\n",
       "      <td>1136.219971</td>\n",
       "      <td>1144.979980</td>\n",
       "      <td>1144.979980</td>\n",
       "      <td>4.389590e+09</td>\n",
       "      <td>3.290039</td>\n",
       "      <td>30.282858</td>\n",
       "      <td>30.282858</td>\n",
       "      <td>0.100001</td>\n",
       "    </tr>\n",
       "  </tbody>\n",
       "</table>\n",
       "</div>"
      ],
      "text/plain": [
       "                 Open       High        Low      Close  Adj Close  \\\n",
       "2010-01-04  30.490000  30.642857  30.340000  30.572857  27.406532   \n",
       "2010-01-05  30.657143  30.798571  30.464285  30.625713  27.453915   \n",
       "2010-01-06  30.625713  30.747143  30.107143  30.138571  27.017223   \n",
       "2010-01-07  30.250000  30.285715  29.864286  30.082857  26.967278   \n",
       "2010-01-08  30.042856  30.285715  29.865715  30.282858  27.146566   \n",
       "\n",
       "                 Volume  prev_diff      sm_open      sm_high       sm_low  \\\n",
       "2010-01-04  123432400.0   0.000000  1116.560059  1133.869995  1116.560059   \n",
       "2010-01-05  150476200.0   0.052856  1132.660034  1136.630005  1129.660034   \n",
       "2010-01-06  138040000.0  -0.487142  1135.709961  1139.189941  1133.949951   \n",
       "2010-01-07  119282800.0  -0.055714  1136.270020  1142.459961  1131.319946   \n",
       "2010-01-08  111902700.0   0.200001  1140.520020  1145.390015  1136.219971   \n",
       "\n",
       "               sm_close  sm_adj_close     sm_volume  sm_prev_diff        20d  \\\n",
       "2010-01-04  1132.989990   1132.989990  3.991400e+09      0.000000  30.572857   \n",
       "2010-01-05  1136.520020   1136.520020  2.491020e+09      3.530030  30.625713   \n",
       "2010-01-06  1137.140015   1137.140015  4.972660e+09      0.619995  30.138571   \n",
       "2010-01-07  1141.689941   1141.689941  5.270680e+09      4.549926  30.082857   \n",
       "2010-01-08  1144.979980   1144.979980  4.389590e+09      3.290039  30.282858   \n",
       "\n",
       "                  50d      10dv  \n",
       "2010-01-04  30.572857  0.000000  \n",
       "2010-01-05  30.625713  0.026428  \n",
       "2010-01-06  30.138571  0.243571  \n",
       "2010-01-07  30.082857  0.027857  \n",
       "2010-01-08  30.282858  0.100001  "
      ]
     },
     "execution_count": 82,
     "metadata": {},
     "output_type": "execute_result"
    }
   ],
   "source": [
    "y.head(5)"
   ]
  },
  {
   "cell_type": "code",
   "execution_count": 36,
   "metadata": {
    "collapsed": true
   },
   "outputs": [],
   "source": [
    "# from sklearn.preprocessing import MinMaxScaler\n",
    "\n",
    "# scaler = MinMaxScaler()\n",
    "# y[['Open', 'High', 'Low', 'Adj Close', 'Volume', '50d']] = scaler.fit_transform(y[['Open', 'High', 'Low', 'Adj Close', 'Volume', '50d']])"
   ]
  },
  {
   "cell_type": "code",
   "execution_count": 83,
   "metadata": {
    "collapsed": true
   },
   "outputs": [],
   "source": [
    "# y.head(5)"
   ]
  },
  {
   "cell_type": "code",
   "execution_count": 102,
   "metadata": {
    "collapsed": true
   },
   "outputs": [],
   "source": [
    "a = stockMarketDataInterpolated\n",
    "a[\"50d\"] = np.round(a[\"Close\"].rolling(window = 50, center = False).mean(), 2)\n",
    "z1 = a['Close'][0:49]\n",
    "a['50d'][0:49] = z1"
   ]
  },
  {
   "cell_type": "code",
   "execution_count": 103,
   "metadata": {
    "collapsed": true
   },
   "outputs": [],
   "source": [
    "a['10dv'] = ten_day_volatility_new(a)"
   ]
  },
  {
   "cell_type": "code",
   "execution_count": 104,
   "metadata": {},
   "outputs": [
    {
     "data": {
      "text/html": [
       "<div>\n",
       "<style>\n",
       "    .dataframe thead tr:only-child th {\n",
       "        text-align: right;\n",
       "    }\n",
       "\n",
       "    .dataframe thead th {\n",
       "        text-align: left;\n",
       "    }\n",
       "\n",
       "    .dataframe tbody tr th {\n",
       "        vertical-align: top;\n",
       "    }\n",
       "</style>\n",
       "<table border=\"1\" class=\"dataframe\">\n",
       "  <thead>\n",
       "    <tr style=\"text-align: right;\">\n",
       "      <th></th>\n",
       "      <th>Open</th>\n",
       "      <th>High</th>\n",
       "      <th>Low</th>\n",
       "      <th>Close</th>\n",
       "      <th>Adj Close</th>\n",
       "      <th>Volume</th>\n",
       "      <th>50d</th>\n",
       "      <th>10dv</th>\n",
       "    </tr>\n",
       "  </thead>\n",
       "  <tbody>\n",
       "    <tr>\n",
       "      <th>2010-01-04</th>\n",
       "      <td>1116.560059</td>\n",
       "      <td>1133.869995</td>\n",
       "      <td>1116.560059</td>\n",
       "      <td>1132.989990</td>\n",
       "      <td>1132.989990</td>\n",
       "      <td>3.991400e+09</td>\n",
       "      <td>1132.989990</td>\n",
       "      <td>0.000000</td>\n",
       "    </tr>\n",
       "    <tr>\n",
       "      <th>2010-01-05</th>\n",
       "      <td>1132.660034</td>\n",
       "      <td>1136.630005</td>\n",
       "      <td>1129.660034</td>\n",
       "      <td>1136.520020</td>\n",
       "      <td>1136.520020</td>\n",
       "      <td>2.491020e+09</td>\n",
       "      <td>1136.520020</td>\n",
       "      <td>1.765015</td>\n",
       "    </tr>\n",
       "    <tr>\n",
       "      <th>2010-01-06</th>\n",
       "      <td>1135.709961</td>\n",
       "      <td>1139.189941</td>\n",
       "      <td>1133.949951</td>\n",
       "      <td>1137.140015</td>\n",
       "      <td>1137.140015</td>\n",
       "      <td>4.972660e+09</td>\n",
       "      <td>1137.140015</td>\n",
       "      <td>0.309998</td>\n",
       "    </tr>\n",
       "    <tr>\n",
       "      <th>2010-01-07</th>\n",
       "      <td>1136.270020</td>\n",
       "      <td>1142.459961</td>\n",
       "      <td>1131.319946</td>\n",
       "      <td>1141.689941</td>\n",
       "      <td>1141.689941</td>\n",
       "      <td>5.270680e+09</td>\n",
       "      <td>1141.689941</td>\n",
       "      <td>2.274963</td>\n",
       "    </tr>\n",
       "    <tr>\n",
       "      <th>2010-01-08</th>\n",
       "      <td>1140.520020</td>\n",
       "      <td>1145.390015</td>\n",
       "      <td>1136.219971</td>\n",
       "      <td>1144.979980</td>\n",
       "      <td>1144.979980</td>\n",
       "      <td>4.389590e+09</td>\n",
       "      <td>1144.979980</td>\n",
       "      <td>1.645019</td>\n",
       "    </tr>\n",
       "  </tbody>\n",
       "</table>\n",
       "</div>"
      ],
      "text/plain": [
       "                   Open         High          Low        Close    Adj Close  \\\n",
       "2010-01-04  1116.560059  1133.869995  1116.560059  1132.989990  1132.989990   \n",
       "2010-01-05  1132.660034  1136.630005  1129.660034  1136.520020  1136.520020   \n",
       "2010-01-06  1135.709961  1139.189941  1133.949951  1137.140015  1137.140015   \n",
       "2010-01-07  1136.270020  1142.459961  1131.319946  1141.689941  1141.689941   \n",
       "2010-01-08  1140.520020  1145.390015  1136.219971  1144.979980  1144.979980   \n",
       "\n",
       "                  Volume          50d      10dv  \n",
       "2010-01-04  3.991400e+09  1132.989990  0.000000  \n",
       "2010-01-05  2.491020e+09  1136.520020  1.765015  \n",
       "2010-01-06  4.972660e+09  1137.140015  0.309998  \n",
       "2010-01-07  5.270680e+09  1141.689941  2.274963  \n",
       "2010-01-08  4.389590e+09  1144.979980  1.645019  "
      ]
     },
     "execution_count": 104,
     "metadata": {},
     "output_type": "execute_result"
    }
   ],
   "source": [
    "a.head(5)"
   ]
  },
  {
   "cell_type": "code",
   "execution_count": 108,
   "metadata": {
    "collapsed": true
   },
   "outputs": [],
   "source": [
    "a[['Open', 'High', 'Low', 'Close','Adj Close', 'Volume', '50d']] = scaler.fit_transform(a[['Open', 'High', 'Low', 'Close','Adj Close', 'Volume', '50d']])"
   ]
  },
  {
   "cell_type": "code",
   "execution_count": 110,
   "metadata": {
    "collapsed": true
   },
   "outputs": [],
   "source": [
    "a.columns = ['sm_open', 'sm_high', 'sm_low', 'sm_close', 'sm_adj_close', 'sm_volume', 'sm_50d', 'sm_10dv']"
   ]
  },
  {
   "cell_type": "code",
   "execution_count": 111,
   "metadata": {},
   "outputs": [
    {
     "data": {
      "text/html": [
       "<div>\n",
       "<style>\n",
       "    .dataframe thead tr:only-child th {\n",
       "        text-align: right;\n",
       "    }\n",
       "\n",
       "    .dataframe thead th {\n",
       "        text-align: left;\n",
       "    }\n",
       "\n",
       "    .dataframe tbody tr th {\n",
       "        vertical-align: top;\n",
       "    }\n",
       "</style>\n",
       "<table border=\"1\" class=\"dataframe\">\n",
       "  <thead>\n",
       "    <tr style=\"text-align: right;\">\n",
       "      <th></th>\n",
       "      <th>sm_open</th>\n",
       "      <th>sm_high</th>\n",
       "      <th>sm_low</th>\n",
       "      <th>sm_close</th>\n",
       "      <th>sm_adj_close</th>\n",
       "      <th>sm_volume</th>\n",
       "      <th>sm_50d</th>\n",
       "      <th>sm_10dv</th>\n",
       "    </tr>\n",
       "  </thead>\n",
       "  <tbody>\n",
       "    <tr>\n",
       "      <th>2010-01-04</th>\n",
       "      <td>0.056831</td>\n",
       "      <td>0.064524</td>\n",
       "      <td>0.067090</td>\n",
       "      <td>0.070244</td>\n",
       "      <td>0.070244</td>\n",
       "      <td>0.309232</td>\n",
       "      <td>0.050515</td>\n",
       "      <td>0.000000</td>\n",
       "    </tr>\n",
       "    <tr>\n",
       "      <th>2010-01-05</th>\n",
       "      <td>0.067122</td>\n",
       "      <td>0.066289</td>\n",
       "      <td>0.075409</td>\n",
       "      <td>0.072490</td>\n",
       "      <td>0.072490</td>\n",
       "      <td>0.152825</td>\n",
       "      <td>0.052854</td>\n",
       "      <td>1.765015</td>\n",
       "    </tr>\n",
       "    <tr>\n",
       "      <th>2010-01-06</th>\n",
       "      <td>0.069072</td>\n",
       "      <td>0.067925</td>\n",
       "      <td>0.078133</td>\n",
       "      <td>0.072885</td>\n",
       "      <td>0.072885</td>\n",
       "      <td>0.411523</td>\n",
       "      <td>0.053264</td>\n",
       "      <td>0.309998</td>\n",
       "    </tr>\n",
       "    <tr>\n",
       "      <th>2010-01-07</th>\n",
       "      <td>0.069430</td>\n",
       "      <td>0.070016</td>\n",
       "      <td>0.076463</td>\n",
       "      <td>0.075779</td>\n",
       "      <td>0.075779</td>\n",
       "      <td>0.442590</td>\n",
       "      <td>0.056279</td>\n",
       "      <td>2.274963</td>\n",
       "    </tr>\n",
       "    <tr>\n",
       "      <th>2010-01-08</th>\n",
       "      <td>0.072146</td>\n",
       "      <td>0.071889</td>\n",
       "      <td>0.079575</td>\n",
       "      <td>0.077872</td>\n",
       "      <td>0.077872</td>\n",
       "      <td>0.350741</td>\n",
       "      <td>0.058458</td>\n",
       "      <td>1.645019</td>\n",
       "    </tr>\n",
       "  </tbody>\n",
       "</table>\n",
       "</div>"
      ],
      "text/plain": [
       "             sm_open   sm_high    sm_low  sm_close  sm_adj_close  sm_volume  \\\n",
       "2010-01-04  0.056831  0.064524  0.067090  0.070244      0.070244   0.309232   \n",
       "2010-01-05  0.067122  0.066289  0.075409  0.072490      0.072490   0.152825   \n",
       "2010-01-06  0.069072  0.067925  0.078133  0.072885      0.072885   0.411523   \n",
       "2010-01-07  0.069430  0.070016  0.076463  0.075779      0.075779   0.442590   \n",
       "2010-01-08  0.072146  0.071889  0.079575  0.077872      0.077872   0.350741   \n",
       "\n",
       "              sm_50d   sm_10dv  \n",
       "2010-01-04  0.050515  0.000000  \n",
       "2010-01-05  0.052854  1.765015  \n",
       "2010-01-06  0.053264  0.309998  \n",
       "2010-01-07  0.056279  2.274963  \n",
       "2010-01-08  0.058458  1.645019  "
      ]
     },
     "execution_count": 111,
     "metadata": {},
     "output_type": "execute_result"
    }
   ],
   "source": [
    "a.head(5)"
   ]
  },
  {
   "cell_type": "code",
   "execution_count": 278,
   "metadata": {
    "collapsed": true
   },
   "outputs": [],
   "source": [
    "f = pd.concat([y, a], axis=1)"
   ]
  },
  {
   "cell_type": "code",
   "execution_count": 279,
   "metadata": {
    "collapsed": true
   },
   "outputs": [],
   "source": [
    "def applyTimeLag(dataset, lags, delta):\n",
    "    maxLag = max(lags)\n",
    "\n",
    "    columns = dataset.columns[::(2*max(delta)-1)]\n",
    "    for column in columns:\n",
    "        newcolumn = column + str(maxLag)\n",
    "        dataset[newcolumn] = dataset[column].shift(maxLag)\n",
    "\n",
    "    return dataset.iloc[maxLag:-1, :]\n"
   ]
  },
  {
   "cell_type": "code",
   "execution_count": 280,
   "metadata": {},
   "outputs": [
    {
     "name": "stdout",
     "output_type": "stream",
     "text": [
      "('Delta days accounted: ', 29)\n",
      "('Maximum time lag applied', 365)\n",
      "('Size of data frame: ', (2876, 17))\n"
     ]
    }
   ],
   "source": [
    "maxdelta = 30\n",
    "\n",
    "delta = range(8, maxdelta)\n",
    "print('Delta days accounted: ', max(delta))\n",
    "\n",
    "high_value = 365\n",
    "high_value = min(high_value, f.shape[0] - 1)\n",
    "\n",
    "lags = range(high_value, 30)\n",
    "print('Maximum time lag applied', high_value)\n",
    "\n",
    "print('Size of data frame: ', f.shape)\n",
    "\n",
    "#Move the Open Values behind by one dataset.\n",
    "f.Open = f.Open.shift(-1)\n",
    "\n",
    "f = applyTimeLag(f, [high_value], delta)"
   ]
  },
  {
   "cell_type": "code",
   "execution_count": 368,
   "metadata": {
    "collapsed": true
   },
   "outputs": [],
   "source": [
    "f = f.drop(['sm_50d', 'sm_10dv'], axis=1)"
   ]
  },
  {
   "cell_type": "code",
   "execution_count": 392,
   "metadata": {},
   "outputs": [
    {
     "name": "stdout",
     "output_type": "stream",
     "text": [
      "('Size of train set: ', (2384, 16))\n",
      "('Size of test set: ', (126, 16))\n"
     ]
    }
   ],
   "source": [
    "import numpy as np\n",
    "\n",
    "index = int(np.floor(f.shape[0]*0.95))\n",
    "train, test = f[:index], f[index:]\n",
    "print('Size of train set: ', train.shape)\n",
    "print('Size of test set: ', test.shape)"
   ]
  },
  {
   "cell_type": "code",
   "execution_count": 393,
   "metadata": {
    "collapsed": true
   },
   "outputs": [],
   "source": [
    "X_train = train.loc[:, train.columns != 'Close']\n",
    "y_train = train['Close']"
   ]
  },
  {
   "cell_type": "code",
   "execution_count": 394,
   "metadata": {},
   "outputs": [
    {
     "data": {
      "text/plain": [
       "(2384,)"
      ]
     },
     "execution_count": 394,
     "metadata": {},
     "output_type": "execute_result"
    }
   ],
   "source": [
    "X_train.shape\n",
    "y_train.shape"
   ]
  },
  {
   "cell_type": "code",
   "execution_count": 395,
   "metadata": {},
   "outputs": [
    {
     "data": {
      "text/plain": [
       "(126,)"
      ]
     },
     "execution_count": 395,
     "metadata": {},
     "output_type": "execute_result"
    }
   ],
   "source": [
    "X_test = test.loc[:, test.columns != 'Close']\n",
    "y_test = test['Close']\n",
    "y_test.shape"
   ]
  },
  {
   "cell_type": "code",
   "execution_count": 396,
   "metadata": {},
   "outputs": [
    {
     "data": {
      "text/plain": [
       "GradientBoostingRegressor(alpha=0.9, criterion='friedman_mse', init=None,\n",
       "             learning_rate=0.1, loss='ls', max_depth=3, max_features=None,\n",
       "             max_leaf_nodes=None, min_impurity_decrease=0.0,\n",
       "             min_impurity_split=None, min_samples_leaf=1,\n",
       "             min_samples_split=2, min_weight_fraction_leaf=0.0,\n",
       "             n_estimators=100, presort='auto', random_state=None,\n",
       "             subsample=1.0, verbose=0, warm_start=False)"
      ]
     },
     "execution_count": 396,
     "metadata": {},
     "output_type": "execute_result"
    }
   ],
   "source": [
    "from sklearn.ensemble import RandomForestRegressor, BaggingRegressor, GradientBoostingRegressor\n",
    "\n",
    "# regr = RandomForestRegressor(n_estimators=1, random_state = 10, min_samples_split=2)\n",
    "# regr.fit(X_train, y_train)\n",
    "\n",
    "regr = GradientBoostingRegressor()\n",
    "regr.fit(X_train, y_train)"
   ]
  },
  {
   "cell_type": "code",
   "execution_count": 397,
   "metadata": {
    "collapsed": true
   },
   "outputs": [],
   "source": [
    "predictions = regr.predict(X_test)"
   ]
  },
  {
   "cell_type": "code",
   "execution_count": 398,
   "metadata": {},
   "outputs": [
    {
     "data": {
      "text/plain": [
       "55.407923755658018"
      ]
     },
     "execution_count": 398,
     "metadata": {},
     "output_type": "execute_result"
    }
   ],
   "source": [
    "from sklearn.metrics import mean_squared_error\n",
    "\n",
    "error = mean_squared_error(y_test, predictions)\n",
    "error"
   ]
  },
  {
   "cell_type": "code",
   "execution_count": 399,
   "metadata": {
    "collapsed": true
   },
   "outputs": [],
   "source": [
    "y_t = []\n",
    "for item in y_test:\n",
    "    y_t.append(item)"
   ]
  },
  {
   "cell_type": "code",
   "execution_count": 400,
   "metadata": {},
   "outputs": [
    {
     "data": {
      "image/png": "[encoded data removed]",
      "text/plain": [
       "<matplotlib.figure.Figure at 0x110d5d290>"
      ]
     },
     "metadata": {},
     "output_type": "display_data"
    }
   ],
   "source": [
    "plt.plot(y_t, color='blue')\n",
    "plt.plot(predictions, color='red')\n",
    "plt.show()"
   ]
  },
  {
   "cell_type": "code",
   "execution_count": 5,
   "metadata": {},
   "outputs": [
    {
     "name": "stderr",
     "output_type": "stream",
     "text": [
      "/Users/manika/anaconda3/envs/stock/lib/python2.7/site-packages/sklearn/cross_validation.py:41: DeprecationWarning: This module was deprecated in version 0.18 in favor of the model_selection module into which all the refactored classes and functions are moved. Also note that the interface of the new CV iterators are different from that of this module. This module will be removed in 0.20.\n",
      "  \"This module will be removed in 0.20.\", DeprecationWarning)\n"
     ]
    }
   ],
   "source": []
  },
  {
   "cell_type": "code",
   "execution_count": 71,
   "metadata": {
    "collapsed": true
   },
   "outputs": [],
   "source": [
    "svmD = finalData"
   ]
  },
  {
   "cell_type": "code",
   "execution_count": 73,
   "metadata": {
    "collapsed": true
   },
   "outputs": [],
   "source": [
    "svmD[\"50d\"] = np.round(svmD[\"Close\"].rolling(window = 50, center = False).mean(), 2)\n",
    "z1 = svmD['Close'][0:49]\n",
    "svmD['50d'][0:49] = z1"
   ]
  },
  {
   "cell_type": "code",
   "execution_count": 74,
   "metadata": {},
   "outputs": [
    {
     "data": {
      "text/html": [
       "<div>\n",
       "<style>\n",
       "    .dataframe thead tr:only-child th {\n",
       "        text-align: right;\n",
       "    }\n",
       "\n",
       "    .dataframe thead th {\n",
       "        text-align: left;\n",
       "    }\n",
       "\n",
       "    .dataframe tbody tr th {\n",
       "        vertical-align: top;\n",
       "    }\n",
       "</style>\n",
       "<table border=\"1\" class=\"dataframe\">\n",
       "  <thead>\n",
       "    <tr style=\"text-align: right;\">\n",
       "      <th></th>\n",
       "      <th>Open</th>\n",
       "      <th>High</th>\n",
       "      <th>Low</th>\n",
       "      <th>Close</th>\n",
       "      <th>Adj Close</th>\n",
       "      <th>Volume</th>\n",
       "      <th>prev_diff</th>\n",
       "      <th>sm_open</th>\n",
       "      <th>sm_high</th>\n",
       "      <th>sm_low</th>\n",
       "      <th>sm_close</th>\n",
       "      <th>sm_adj_close</th>\n",
       "      <th>sm_volume</th>\n",
       "      <th>sm_prev_diff</th>\n",
       "      <th>50d</th>\n",
       "    </tr>\n",
       "  </thead>\n",
       "  <tbody>\n",
       "    <tr>\n",
       "      <th>2010-01-04</th>\n",
       "      <td>30.490000</td>\n",
       "      <td>30.642857</td>\n",
       "      <td>30.340000</td>\n",
       "      <td>30.572857</td>\n",
       "      <td>27.406532</td>\n",
       "      <td>1.234324e+08</td>\n",
       "      <td>0.000000</td>\n",
       "      <td>1116.560059</td>\n",
       "      <td>1133.869995</td>\n",
       "      <td>1116.560059</td>\n",
       "      <td>1132.989990</td>\n",
       "      <td>1132.989990</td>\n",
       "      <td>3.991400e+09</td>\n",
       "      <td>0.000000</td>\n",
       "      <td>30.572857</td>\n",
       "    </tr>\n",
       "    <tr>\n",
       "      <th>2010-01-05</th>\n",
       "      <td>30.657143</td>\n",
       "      <td>30.798571</td>\n",
       "      <td>30.464285</td>\n",
       "      <td>30.625713</td>\n",
       "      <td>27.453915</td>\n",
       "      <td>1.504762e+08</td>\n",
       "      <td>0.052856</td>\n",
       "      <td>1132.660034</td>\n",
       "      <td>1136.630005</td>\n",
       "      <td>1129.660034</td>\n",
       "      <td>1136.520020</td>\n",
       "      <td>1136.520020</td>\n",
       "      <td>2.491020e+09</td>\n",
       "      <td>3.530030</td>\n",
       "      <td>30.625713</td>\n",
       "    </tr>\n",
       "    <tr>\n",
       "      <th>2010-01-06</th>\n",
       "      <td>30.625713</td>\n",
       "      <td>30.747143</td>\n",
       "      <td>30.107143</td>\n",
       "      <td>30.138571</td>\n",
       "      <td>27.017223</td>\n",
       "      <td>1.380400e+08</td>\n",
       "      <td>-0.487142</td>\n",
       "      <td>1135.709961</td>\n",
       "      <td>1139.189941</td>\n",
       "      <td>1133.949951</td>\n",
       "      <td>1137.140015</td>\n",
       "      <td>1137.140015</td>\n",
       "      <td>4.972660e+09</td>\n",
       "      <td>0.619995</td>\n",
       "      <td>30.138571</td>\n",
       "    </tr>\n",
       "    <tr>\n",
       "      <th>2010-01-07</th>\n",
       "      <td>30.250000</td>\n",
       "      <td>30.285715</td>\n",
       "      <td>29.864286</td>\n",
       "      <td>30.082857</td>\n",
       "      <td>26.967278</td>\n",
       "      <td>1.192828e+08</td>\n",
       "      <td>-0.055714</td>\n",
       "      <td>1136.270020</td>\n",
       "      <td>1142.459961</td>\n",
       "      <td>1131.319946</td>\n",
       "      <td>1141.689941</td>\n",
       "      <td>1141.689941</td>\n",
       "      <td>5.270680e+09</td>\n",
       "      <td>4.549926</td>\n",
       "      <td>30.082857</td>\n",
       "    </tr>\n",
       "    <tr>\n",
       "      <th>2010-01-08</th>\n",
       "      <td>30.042856</td>\n",
       "      <td>30.285715</td>\n",
       "      <td>29.865715</td>\n",
       "      <td>30.282858</td>\n",
       "      <td>27.146566</td>\n",
       "      <td>1.119027e+08</td>\n",
       "      <td>0.200001</td>\n",
       "      <td>1140.520020</td>\n",
       "      <td>1145.390015</td>\n",
       "      <td>1136.219971</td>\n",
       "      <td>1144.979980</td>\n",
       "      <td>1144.979980</td>\n",
       "      <td>4.389590e+09</td>\n",
       "      <td>3.290039</td>\n",
       "      <td>30.282858</td>\n",
       "    </tr>\n",
       "    <tr>\n",
       "      <th>2010-01-09</th>\n",
       "      <td>30.161904</td>\n",
       "      <td>30.333334</td>\n",
       "      <td>29.836667</td>\n",
       "      <td>30.193810</td>\n",
       "      <td>27.066742</td>\n",
       "      <td>1.131209e+08</td>\n",
       "      <td>-0.089048</td>\n",
       "      <td>1142.333334</td>\n",
       "      <td>1146.840007</td>\n",
       "      <td>1138.153321</td>\n",
       "      <td>1145.646647</td>\n",
       "      <td>1145.646647</td>\n",
       "      <td>4.344987e+09</td>\n",
       "      <td>0.666667</td>\n",
       "      <td>30.193810</td>\n",
       "    </tr>\n",
       "    <tr>\n",
       "      <th>2010-01-10</th>\n",
       "      <td>30.280952</td>\n",
       "      <td>30.380953</td>\n",
       "      <td>29.807620</td>\n",
       "      <td>30.104763</td>\n",
       "      <td>26.986917</td>\n",
       "      <td>1.143392e+08</td>\n",
       "      <td>-0.089048</td>\n",
       "      <td>1144.146647</td>\n",
       "      <td>1148.289998</td>\n",
       "      <td>1140.086670</td>\n",
       "      <td>1146.313313</td>\n",
       "      <td>1146.313313</td>\n",
       "      <td>4.300383e+09</td>\n",
       "      <td>0.666667</td>\n",
       "      <td>30.104763</td>\n",
       "    </tr>\n",
       "    <tr>\n",
       "      <th>2010-01-11</th>\n",
       "      <td>30.400000</td>\n",
       "      <td>30.428572</td>\n",
       "      <td>29.778572</td>\n",
       "      <td>30.015715</td>\n",
       "      <td>26.907093</td>\n",
       "      <td>1.155574e+08</td>\n",
       "      <td>-0.089048</td>\n",
       "      <td>1145.959961</td>\n",
       "      <td>1149.739990</td>\n",
       "      <td>1142.020020</td>\n",
       "      <td>1146.979980</td>\n",
       "      <td>1146.979980</td>\n",
       "      <td>4.255780e+09</td>\n",
       "      <td>0.666667</td>\n",
       "      <td>30.015715</td>\n",
       "    </tr>\n",
       "    <tr>\n",
       "      <th>2010-01-12</th>\n",
       "      <td>29.884285</td>\n",
       "      <td>29.967142</td>\n",
       "      <td>29.488571</td>\n",
       "      <td>29.674286</td>\n",
       "      <td>26.601023</td>\n",
       "      <td>1.486149e+08</td>\n",
       "      <td>-0.341429</td>\n",
       "      <td>1143.810059</td>\n",
       "      <td>1143.810059</td>\n",
       "      <td>1131.770020</td>\n",
       "      <td>1136.219971</td>\n",
       "      <td>1136.219971</td>\n",
       "      <td>4.716160e+09</td>\n",
       "      <td>-10.760009</td>\n",
       "      <td>29.674286</td>\n",
       "    </tr>\n",
       "    <tr>\n",
       "      <th>2010-01-13</th>\n",
       "      <td>29.695715</td>\n",
       "      <td>30.132856</td>\n",
       "      <td>29.157143</td>\n",
       "      <td>30.092857</td>\n",
       "      <td>26.976244</td>\n",
       "      <td>1.514730e+08</td>\n",
       "      <td>0.418571</td>\n",
       "      <td>1137.310059</td>\n",
       "      <td>1148.400024</td>\n",
       "      <td>1133.180054</td>\n",
       "      <td>1145.680054</td>\n",
       "      <td>1145.680054</td>\n",
       "      <td>4.170360e+09</td>\n",
       "      <td>9.460083</td>\n",
       "      <td>30.092857</td>\n",
       "    </tr>\n",
       "    <tr>\n",
       "      <th>2010-01-14</th>\n",
       "      <td>30.015715</td>\n",
       "      <td>30.065714</td>\n",
       "      <td>29.860001</td>\n",
       "      <td>29.918571</td>\n",
       "      <td>26.820007</td>\n",
       "      <td>1.082235e+08</td>\n",
       "      <td>-0.174286</td>\n",
       "      <td>1145.680054</td>\n",
       "      <td>1150.410034</td>\n",
       "      <td>1143.800049</td>\n",
       "      <td>1148.459961</td>\n",
       "      <td>1148.459961</td>\n",
       "      <td>3.915200e+09</td>\n",
       "      <td>2.779907</td>\n",
       "      <td>29.918571</td>\n",
       "    </tr>\n",
       "    <tr>\n",
       "      <th>2010-01-15</th>\n",
       "      <td>30.132856</td>\n",
       "      <td>30.228571</td>\n",
       "      <td>29.410000</td>\n",
       "      <td>29.418571</td>\n",
       "      <td>26.371792</td>\n",
       "      <td>1.485169e+08</td>\n",
       "      <td>-0.500000</td>\n",
       "      <td>1147.719971</td>\n",
       "      <td>1147.770020</td>\n",
       "      <td>1131.390015</td>\n",
       "      <td>1136.030029</td>\n",
       "      <td>1136.030029</td>\n",
       "      <td>4.758730e+09</td>\n",
       "      <td>-12.429932</td>\n",
       "      <td>29.418571</td>\n",
       "    </tr>\n",
       "    <tr>\n",
       "      <th>2010-01-16</th>\n",
       "      <td>30.039999</td>\n",
       "      <td>30.356785</td>\n",
       "      <td>29.458929</td>\n",
       "      <td>29.743928</td>\n",
       "      <td>26.663452</td>\n",
       "      <td>1.570132e+08</td>\n",
       "      <td>0.325357</td>\n",
       "      <td>1144.797485</td>\n",
       "      <td>1148.440003</td>\n",
       "      <td>1132.485016</td>\n",
       "      <td>1139.580017</td>\n",
       "      <td>1139.580017</td>\n",
       "      <td>4.750255e+09</td>\n",
       "      <td>3.549988</td>\n",
       "      <td>29.743928</td>\n",
       "    </tr>\n",
       "    <tr>\n",
       "      <th>2010-01-17</th>\n",
       "      <td>29.947142</td>\n",
       "      <td>30.485000</td>\n",
       "      <td>29.507858</td>\n",
       "      <td>30.069285</td>\n",
       "      <td>26.955112</td>\n",
       "      <td>1.655094e+08</td>\n",
       "      <td>0.325357</td>\n",
       "      <td>1141.875000</td>\n",
       "      <td>1149.109985</td>\n",
       "      <td>1133.580017</td>\n",
       "      <td>1143.130005</td>\n",
       "      <td>1143.130005</td>\n",
       "      <td>4.741780e+09</td>\n",
       "      <td>3.549988</td>\n",
       "      <td>30.069285</td>\n",
       "    </tr>\n",
       "    <tr>\n",
       "      <th>2010-01-18</th>\n",
       "      <td>29.854286</td>\n",
       "      <td>30.613214</td>\n",
       "      <td>29.556786</td>\n",
       "      <td>30.394642</td>\n",
       "      <td>27.246773</td>\n",
       "      <td>1.740056e+08</td>\n",
       "      <td>0.325357</td>\n",
       "      <td>1138.952515</td>\n",
       "      <td>1149.779968</td>\n",
       "      <td>1134.675019</td>\n",
       "      <td>1146.679992</td>\n",
       "      <td>1146.679992</td>\n",
       "      <td>4.733305e+09</td>\n",
       "      <td>3.549988</td>\n",
       "      <td>30.394642</td>\n",
       "    </tr>\n",
       "    <tr>\n",
       "      <th>2010-01-19</th>\n",
       "      <td>29.761429</td>\n",
       "      <td>30.741428</td>\n",
       "      <td>29.605715</td>\n",
       "      <td>30.719999</td>\n",
       "      <td>27.538433</td>\n",
       "      <td>1.825019e+08</td>\n",
       "      <td>0.325357</td>\n",
       "      <td>1136.030029</td>\n",
       "      <td>1150.449951</td>\n",
       "      <td>1135.770020</td>\n",
       "      <td>1150.229980</td>\n",
       "      <td>1150.229980</td>\n",
       "      <td>4.724830e+09</td>\n",
       "      <td>3.549988</td>\n",
       "      <td>30.719999</td>\n",
       "    </tr>\n",
       "    <tr>\n",
       "      <th>2010-01-20</th>\n",
       "      <td>30.701429</td>\n",
       "      <td>30.792856</td>\n",
       "      <td>29.928572</td>\n",
       "      <td>30.247143</td>\n",
       "      <td>27.114555</td>\n",
       "      <td>1.530382e+08</td>\n",
       "      <td>-0.472856</td>\n",
       "      <td>1147.949951</td>\n",
       "      <td>1147.949951</td>\n",
       "      <td>1129.250000</td>\n",
       "      <td>1138.040039</td>\n",
       "      <td>1138.040039</td>\n",
       "      <td>4.810560e+09</td>\n",
       "      <td>-12.189941</td>\n",
       "      <td>30.247143</td>\n",
       "    </tr>\n",
       "    <tr>\n",
       "      <th>2010-01-21</th>\n",
       "      <td>30.297142</td>\n",
       "      <td>30.472857</td>\n",
       "      <td>29.601429</td>\n",
       "      <td>29.724285</td>\n",
       "      <td>26.645842</td>\n",
       "      <td>1.520386e+08</td>\n",
       "      <td>-0.522858</td>\n",
       "      <td>1138.680054</td>\n",
       "      <td>1141.579956</td>\n",
       "      <td>1114.839966</td>\n",
       "      <td>1116.479980</td>\n",
       "      <td>1116.479980</td>\n",
       "      <td>6.874290e+09</td>\n",
       "      <td>-21.560059</td>\n",
       "      <td>29.724285</td>\n",
       "    </tr>\n",
       "    <tr>\n",
       "      <th>2010-01-22</th>\n",
       "      <td>29.540001</td>\n",
       "      <td>29.642857</td>\n",
       "      <td>28.165714</td>\n",
       "      <td>28.250000</td>\n",
       "      <td>25.324244</td>\n",
       "      <td>2.204419e+08</td>\n",
       "      <td>-1.474285</td>\n",
       "      <td>1115.489990</td>\n",
       "      <td>1115.489990</td>\n",
       "      <td>1090.180054</td>\n",
       "      <td>1091.760010</td>\n",
       "      <td>1091.760010</td>\n",
       "      <td>6.208650e+09</td>\n",
       "      <td>-24.719970</td>\n",
       "      <td>28.250000</td>\n",
       "    </tr>\n",
       "    <tr>\n",
       "      <th>2010-01-23</th>\n",
       "      <td>29.336667</td>\n",
       "      <td>29.509524</td>\n",
       "      <td>28.310000</td>\n",
       "      <td>28.503333</td>\n",
       "      <td>25.551343</td>\n",
       "      <td>2.357696e+08</td>\n",
       "      <td>0.253333</td>\n",
       "      <td>1107.793335</td>\n",
       "      <td>1111.316650</td>\n",
       "      <td>1090.920044</td>\n",
       "      <td>1093.433350</td>\n",
       "      <td>1093.433350</td>\n",
       "      <td>5.632897e+09</td>\n",
       "      <td>1.673340</td>\n",
       "      <td>28.503333</td>\n",
       "    </tr>\n",
       "    <tr>\n",
       "      <th>2010-01-24</th>\n",
       "      <td>29.133334</td>\n",
       "      <td>29.376190</td>\n",
       "      <td>28.454286</td>\n",
       "      <td>28.756667</td>\n",
       "      <td>25.778442</td>\n",
       "      <td>2.510972e+08</td>\n",
       "      <td>0.253333</td>\n",
       "      <td>1100.096679</td>\n",
       "      <td>1107.143311</td>\n",
       "      <td>1091.660034</td>\n",
       "      <td>1095.106689</td>\n",
       "      <td>1095.106689</td>\n",
       "      <td>5.057143e+09</td>\n",
       "      <td>1.673340</td>\n",
       "      <td>28.756667</td>\n",
       "    </tr>\n",
       "    <tr>\n",
       "      <th>2010-01-25</th>\n",
       "      <td>28.930000</td>\n",
       "      <td>29.242857</td>\n",
       "      <td>28.598572</td>\n",
       "      <td>29.010000</td>\n",
       "      <td>26.005541</td>\n",
       "      <td>2.664249e+08</td>\n",
       "      <td>0.253333</td>\n",
       "      <td>1092.400024</td>\n",
       "      <td>1102.969971</td>\n",
       "      <td>1092.400024</td>\n",
       "      <td>1096.780029</td>\n",
       "      <td>1096.780029</td>\n",
       "      <td>4.481390e+09</td>\n",
       "      <td>1.673340</td>\n",
       "      <td>29.010000</td>\n",
       "    </tr>\n",
       "    <tr>\n",
       "      <th>2010-01-26</th>\n",
       "      <td>29.421429</td>\n",
       "      <td>30.530001</td>\n",
       "      <td>28.940001</td>\n",
       "      <td>29.420000</td>\n",
       "      <td>26.373072</td>\n",
       "      <td>4.667775e+08</td>\n",
       "      <td>0.410000</td>\n",
       "      <td>1095.800049</td>\n",
       "      <td>1103.689941</td>\n",
       "      <td>1089.859985</td>\n",
       "      <td>1092.170044</td>\n",
       "      <td>1092.170044</td>\n",
       "      <td>4.731910e+09</td>\n",
       "      <td>-4.609985</td>\n",
       "      <td>29.420000</td>\n",
       "    </tr>\n",
       "    <tr>\n",
       "      <th>2010-01-27</th>\n",
       "      <td>29.549999</td>\n",
       "      <td>30.082857</td>\n",
       "      <td>28.504286</td>\n",
       "      <td>29.697144</td>\n",
       "      <td>26.621517</td>\n",
       "      <td>4.306421e+08</td>\n",
       "      <td>0.277144</td>\n",
       "      <td>1091.939941</td>\n",
       "      <td>1099.510010</td>\n",
       "      <td>1083.109985</td>\n",
       "      <td>1097.500000</td>\n",
       "      <td>1097.500000</td>\n",
       "      <td>5.319120e+09</td>\n",
       "      <td>5.329956</td>\n",
       "      <td>29.697144</td>\n",
       "    </tr>\n",
       "    <tr>\n",
       "      <th>2010-01-28</th>\n",
       "      <td>29.275715</td>\n",
       "      <td>29.357143</td>\n",
       "      <td>28.385714</td>\n",
       "      <td>28.469999</td>\n",
       "      <td>25.521461</td>\n",
       "      <td>2.933756e+08</td>\n",
       "      <td>-1.227145</td>\n",
       "      <td>1096.930054</td>\n",
       "      <td>1100.219971</td>\n",
       "      <td>1078.459961</td>\n",
       "      <td>1084.530029</td>\n",
       "      <td>1084.530029</td>\n",
       "      <td>5.452400e+09</td>\n",
       "      <td>-12.969971</td>\n",
       "      <td>28.469999</td>\n",
       "    </tr>\n",
       "    <tr>\n",
       "      <th>2010-01-29</th>\n",
       "      <td>28.725714</td>\n",
       "      <td>28.885714</td>\n",
       "      <td>27.178572</td>\n",
       "      <td>27.437143</td>\n",
       "      <td>24.595573</td>\n",
       "      <td>3.114881e+08</td>\n",
       "      <td>-1.032856</td>\n",
       "      <td>1087.609985</td>\n",
       "      <td>1096.449951</td>\n",
       "      <td>1071.589966</td>\n",
       "      <td>1073.869995</td>\n",
       "      <td>1073.869995</td>\n",
       "      <td>5.412850e+09</td>\n",
       "      <td>-10.660034</td>\n",
       "      <td>27.437143</td>\n",
       "    </tr>\n",
       "    <tr>\n",
       "      <th>2010-01-30</th>\n",
       "      <td>28.310952</td>\n",
       "      <td>28.590476</td>\n",
       "      <td>27.228572</td>\n",
       "      <td>27.564286</td>\n",
       "      <td>24.709547</td>\n",
       "      <td>2.701484e+08</td>\n",
       "      <td>0.127143</td>\n",
       "      <td>1083.036662</td>\n",
       "      <td>1094.093302</td>\n",
       "      <td>1072.356649</td>\n",
       "      <td>1078.976644</td>\n",
       "      <td>1078.976644</td>\n",
       "      <td>4.967770e+09</td>\n",
       "      <td>5.106649</td>\n",
       "      <td>27.564286</td>\n",
       "    </tr>\n",
       "    <tr>\n",
       "      <th>2010-01-31</th>\n",
       "      <td>27.896190</td>\n",
       "      <td>28.295238</td>\n",
       "      <td>27.278571</td>\n",
       "      <td>27.691428</td>\n",
       "      <td>24.823522</td>\n",
       "      <td>2.288088e+08</td>\n",
       "      <td>0.127143</td>\n",
       "      <td>1078.463338</td>\n",
       "      <td>1091.736654</td>\n",
       "      <td>1073.123332</td>\n",
       "      <td>1084.083292</td>\n",
       "      <td>1084.083292</td>\n",
       "      <td>4.522690e+09</td>\n",
       "      <td>5.106649</td>\n",
       "      <td>27.691428</td>\n",
       "    </tr>\n",
       "    <tr>\n",
       "      <th>2010-02-01</th>\n",
       "      <td>27.481428</td>\n",
       "      <td>28.000000</td>\n",
       "      <td>27.328571</td>\n",
       "      <td>27.818571</td>\n",
       "      <td>24.937496</td>\n",
       "      <td>1.874691e+08</td>\n",
       "      <td>0.127143</td>\n",
       "      <td>1073.890015</td>\n",
       "      <td>1089.380005</td>\n",
       "      <td>1073.890015</td>\n",
       "      <td>1089.189941</td>\n",
       "      <td>1089.189941</td>\n",
       "      <td>4.077610e+09</td>\n",
       "      <td>5.106649</td>\n",
       "      <td>27.818571</td>\n",
       "    </tr>\n",
       "    <tr>\n",
       "      <th>2010-02-02</th>\n",
       "      <td>27.987143</td>\n",
       "      <td>28.045713</td>\n",
       "      <td>27.625713</td>\n",
       "      <td>27.980000</td>\n",
       "      <td>25.082211</td>\n",
       "      <td>1.745856e+08</td>\n",
       "      <td>0.161429</td>\n",
       "      <td>1090.050049</td>\n",
       "      <td>1104.729980</td>\n",
       "      <td>1087.959961</td>\n",
       "      <td>1103.319946</td>\n",
       "      <td>1103.319946</td>\n",
       "      <td>4.749540e+09</td>\n",
       "      <td>14.130005</td>\n",
       "      <td>27.980000</td>\n",
       "    </tr>\n",
       "    <tr>\n",
       "      <th>...</th>\n",
       "      <td>...</td>\n",
       "      <td>...</td>\n",
       "      <td>...</td>\n",
       "      <td>...</td>\n",
       "      <td>...</td>\n",
       "      <td>...</td>\n",
       "      <td>...</td>\n",
       "      <td>...</td>\n",
       "      <td>...</td>\n",
       "      <td>...</td>\n",
       "      <td>...</td>\n",
       "      <td>...</td>\n",
       "      <td>...</td>\n",
       "      <td>...</td>\n",
       "      <td>...</td>\n",
       "    </tr>\n",
       "    <tr>\n",
       "      <th>2017-10-20</th>\n",
       "      <td>156.610001</td>\n",
       "      <td>157.750000</td>\n",
       "      <td>155.960007</td>\n",
       "      <td>156.250000</td>\n",
       "      <td>155.690308</td>\n",
       "      <td>2.397410e+07</td>\n",
       "      <td>0.270004</td>\n",
       "      <td>2567.560059</td>\n",
       "      <td>2575.439941</td>\n",
       "      <td>2567.560059</td>\n",
       "      <td>2575.209961</td>\n",
       "      <td>2575.209961</td>\n",
       "      <td>3.384650e+09</td>\n",
       "      <td>13.109863</td>\n",
       "      <td>157.290000</td>\n",
       "    </tr>\n",
       "    <tr>\n",
       "      <th>2017-10-21</th>\n",
       "      <td>156.703334</td>\n",
       "      <td>157.730001</td>\n",
       "      <td>155.806671</td>\n",
       "      <td>156.223333</td>\n",
       "      <td>155.663737</td>\n",
       "      <td>2.331083e+07</td>\n",
       "      <td>-0.026667</td>\n",
       "      <td>2571.066732</td>\n",
       "      <td>2576.389974</td>\n",
       "      <td>2566.483399</td>\n",
       "      <td>2571.799967</td>\n",
       "      <td>2571.799967</td>\n",
       "      <td>3.327003e+09</td>\n",
       "      <td>-3.409994</td>\n",
       "      <td>157.130000</td>\n",
       "    </tr>\n",
       "    <tr>\n",
       "      <th>2017-10-22</th>\n",
       "      <td>156.796666</td>\n",
       "      <td>157.710001</td>\n",
       "      <td>155.653336</td>\n",
       "      <td>156.196665</td>\n",
       "      <td>155.637167</td>\n",
       "      <td>2.264757e+07</td>\n",
       "      <td>-0.026667</td>\n",
       "      <td>2574.573405</td>\n",
       "      <td>2577.340006</td>\n",
       "      <td>2565.406738</td>\n",
       "      <td>2568.389974</td>\n",
       "      <td>2568.389974</td>\n",
       "      <td>3.269357e+09</td>\n",
       "      <td>-3.409994</td>\n",
       "      <td>156.990000</td>\n",
       "    </tr>\n",
       "    <tr>\n",
       "      <th>2017-10-23</th>\n",
       "      <td>156.889999</td>\n",
       "      <td>157.690002</td>\n",
       "      <td>155.500000</td>\n",
       "      <td>156.169998</td>\n",
       "      <td>155.610596</td>\n",
       "      <td>2.198430e+07</td>\n",
       "      <td>-0.026667</td>\n",
       "      <td>2578.080078</td>\n",
       "      <td>2578.290039</td>\n",
       "      <td>2564.330078</td>\n",
       "      <td>2564.979980</td>\n",
       "      <td>2564.979980</td>\n",
       "      <td>3.211710e+09</td>\n",
       "      <td>-3.409994</td>\n",
       "      <td>156.850000</td>\n",
       "    </tr>\n",
       "    <tr>\n",
       "      <th>2017-10-24</th>\n",
       "      <td>156.289993</td>\n",
       "      <td>157.419998</td>\n",
       "      <td>156.199997</td>\n",
       "      <td>157.100006</td>\n",
       "      <td>156.537277</td>\n",
       "      <td>1.775720e+07</td>\n",
       "      <td>0.930008</td>\n",
       "      <td>2568.659912</td>\n",
       "      <td>2572.179932</td>\n",
       "      <td>2565.580078</td>\n",
       "      <td>2569.129883</td>\n",
       "      <td>2569.129883</td>\n",
       "      <td>3.427330e+09</td>\n",
       "      <td>4.149903</td>\n",
       "      <td>156.740000</td>\n",
       "    </tr>\n",
       "    <tr>\n",
       "      <th>2017-10-25</th>\n",
       "      <td>156.910004</td>\n",
       "      <td>157.550003</td>\n",
       "      <td>155.270004</td>\n",
       "      <td>156.410004</td>\n",
       "      <td>155.849747</td>\n",
       "      <td>2.120710e+07</td>\n",
       "      <td>-0.690002</td>\n",
       "      <td>2566.520020</td>\n",
       "      <td>2567.399902</td>\n",
       "      <td>2544.000000</td>\n",
       "      <td>2557.149902</td>\n",
       "      <td>2557.149902</td>\n",
       "      <td>3.874510e+09</td>\n",
       "      <td>-11.979981</td>\n",
       "      <td>156.630000</td>\n",
       "    </tr>\n",
       "    <tr>\n",
       "      <th>2017-10-26</th>\n",
       "      <td>157.229996</td>\n",
       "      <td>157.830002</td>\n",
       "      <td>156.779999</td>\n",
       "      <td>157.410004</td>\n",
       "      <td>156.846161</td>\n",
       "      <td>1.700050e+07</td>\n",
       "      <td>1.000000</td>\n",
       "      <td>2560.080078</td>\n",
       "      <td>2567.070068</td>\n",
       "      <td>2559.800049</td>\n",
       "      <td>2560.399902</td>\n",
       "      <td>2560.399902</td>\n",
       "      <td>3.869050e+09</td>\n",
       "      <td>3.250000</td>\n",
       "      <td>156.540000</td>\n",
       "    </tr>\n",
       "    <tr>\n",
       "      <th>2017-10-27</th>\n",
       "      <td>159.289993</td>\n",
       "      <td>163.600006</td>\n",
       "      <td>158.699997</td>\n",
       "      <td>163.050003</td>\n",
       "      <td>162.465958</td>\n",
       "      <td>4.445420e+07</td>\n",
       "      <td>5.639999</td>\n",
       "      <td>2570.260010</td>\n",
       "      <td>2582.979980</td>\n",
       "      <td>2565.939941</td>\n",
       "      <td>2581.070068</td>\n",
       "      <td>2581.070068</td>\n",
       "      <td>3.887110e+09</td>\n",
       "      <td>20.670166</td>\n",
       "      <td>156.570000</td>\n",
       "    </tr>\n",
       "    <tr>\n",
       "      <th>2017-10-28</th>\n",
       "      <td>160.823328</td>\n",
       "      <td>165.090006</td>\n",
       "      <td>160.373332</td>\n",
       "      <td>164.273336</td>\n",
       "      <td>163.684906</td>\n",
       "      <td>4.453640e+07</td>\n",
       "      <td>1.223333</td>\n",
       "      <td>2572.756673</td>\n",
       "      <td>2581.996663</td>\n",
       "      <td>2566.709961</td>\n",
       "      <td>2578.323405</td>\n",
       "      <td>2578.323405</td>\n",
       "      <td>3.811030e+09</td>\n",
       "      <td>-2.746663</td>\n",
       "      <td>156.680000</td>\n",
       "    </tr>\n",
       "    <tr>\n",
       "      <th>2017-10-29</th>\n",
       "      <td>162.356664</td>\n",
       "      <td>166.580007</td>\n",
       "      <td>162.046666</td>\n",
       "      <td>165.496668</td>\n",
       "      <td>164.903855</td>\n",
       "      <td>4.461860e+07</td>\n",
       "      <td>1.223333</td>\n",
       "      <td>2575.253337</td>\n",
       "      <td>2581.013346</td>\n",
       "      <td>2567.479980</td>\n",
       "      <td>2575.576741</td>\n",
       "      <td>2575.576741</td>\n",
       "      <td>3.734950e+09</td>\n",
       "      <td>-2.746663</td>\n",
       "      <td>156.800000</td>\n",
       "    </tr>\n",
       "    <tr>\n",
       "      <th>2017-10-30</th>\n",
       "      <td>163.889999</td>\n",
       "      <td>168.070007</td>\n",
       "      <td>163.720001</td>\n",
       "      <td>166.720001</td>\n",
       "      <td>166.122803</td>\n",
       "      <td>4.470080e+07</td>\n",
       "      <td>1.223333</td>\n",
       "      <td>2577.750000</td>\n",
       "      <td>2580.030029</td>\n",
       "      <td>2568.250000</td>\n",
       "      <td>2572.830078</td>\n",
       "      <td>2572.830078</td>\n",
       "      <td>3.658870e+09</td>\n",
       "      <td>-2.746663</td>\n",
       "      <td>156.930000</td>\n",
       "    </tr>\n",
       "    <tr>\n",
       "      <th>2017-10-31</th>\n",
       "      <td>167.899994</td>\n",
       "      <td>169.649994</td>\n",
       "      <td>166.940002</td>\n",
       "      <td>169.039993</td>\n",
       "      <td>168.434494</td>\n",
       "      <td>3.604680e+07</td>\n",
       "      <td>2.319992</td>\n",
       "      <td>2575.989990</td>\n",
       "      <td>2578.290039</td>\n",
       "      <td>2572.149902</td>\n",
       "      <td>2575.260010</td>\n",
       "      <td>2575.260010</td>\n",
       "      <td>3.827230e+09</td>\n",
       "      <td>2.429932</td>\n",
       "      <td>157.080000</td>\n",
       "    </tr>\n",
       "    <tr>\n",
       "      <th>2017-11-01</th>\n",
       "      <td>169.869995</td>\n",
       "      <td>169.940002</td>\n",
       "      <td>165.610001</td>\n",
       "      <td>166.889999</td>\n",
       "      <td>166.292206</td>\n",
       "      <td>3.363780e+07</td>\n",
       "      <td>-2.149994</td>\n",
       "      <td>2583.209961</td>\n",
       "      <td>2588.399902</td>\n",
       "      <td>2574.919922</td>\n",
       "      <td>2579.360107</td>\n",
       "      <td>2579.360107</td>\n",
       "      <td>3.813180e+09</td>\n",
       "      <td>4.100097</td>\n",
       "      <td>157.200000</td>\n",
       "    </tr>\n",
       "    <tr>\n",
       "      <th>2017-11-02</th>\n",
       "      <td>166.600006</td>\n",
       "      <td>168.500000</td>\n",
       "      <td>165.279999</td>\n",
       "      <td>168.110001</td>\n",
       "      <td>167.507828</td>\n",
       "      <td>4.139340e+07</td>\n",
       "      <td>1.220002</td>\n",
       "      <td>2579.459961</td>\n",
       "      <td>2581.110107</td>\n",
       "      <td>2566.169922</td>\n",
       "      <td>2579.850098</td>\n",
       "      <td>2579.850098</td>\n",
       "      <td>4.048270e+09</td>\n",
       "      <td>0.489991</td>\n",
       "      <td>157.370000</td>\n",
       "    </tr>\n",
       "    <tr>\n",
       "      <th>2017-11-03</th>\n",
       "      <td>174.000000</td>\n",
       "      <td>174.259995</td>\n",
       "      <td>171.119995</td>\n",
       "      <td>172.500000</td>\n",
       "      <td>171.882111</td>\n",
       "      <td>5.939860e+07</td>\n",
       "      <td>4.389999</td>\n",
       "      <td>2581.929932</td>\n",
       "      <td>2588.419922</td>\n",
       "      <td>2576.770020</td>\n",
       "      <td>2587.840088</td>\n",
       "      <td>2587.840088</td>\n",
       "      <td>3.567710e+09</td>\n",
       "      <td>7.989990</td>\n",
       "      <td>157.650000</td>\n",
       "    </tr>\n",
       "    <tr>\n",
       "      <th>2017-11-04</th>\n",
       "      <td>173.456665</td>\n",
       "      <td>174.503332</td>\n",
       "      <td>171.319997</td>\n",
       "      <td>173.083333</td>\n",
       "      <td>172.463354</td>\n",
       "      <td>5.127450e+07</td>\n",
       "      <td>0.583333</td>\n",
       "      <td>2583.776612</td>\n",
       "      <td>2590.073242</td>\n",
       "      <td>2579.733317</td>\n",
       "      <td>2588.936686</td>\n",
       "      <td>2588.936686</td>\n",
       "      <td>3.558167e+09</td>\n",
       "      <td>1.096598</td>\n",
       "      <td>157.920000</td>\n",
       "    </tr>\n",
       "    <tr>\n",
       "      <th>2017-11-05</th>\n",
       "      <td>172.913330</td>\n",
       "      <td>174.746668</td>\n",
       "      <td>171.519999</td>\n",
       "      <td>173.666667</td>\n",
       "      <td>173.044596</td>\n",
       "      <td>4.315040e+07</td>\n",
       "      <td>0.583333</td>\n",
       "      <td>2585.623291</td>\n",
       "      <td>2591.726563</td>\n",
       "      <td>2582.696615</td>\n",
       "      <td>2590.033285</td>\n",
       "      <td>2590.033285</td>\n",
       "      <td>3.548623e+09</td>\n",
       "      <td>1.096598</td>\n",
       "      <td>158.200000</td>\n",
       "    </tr>\n",
       "    <tr>\n",
       "      <th>2017-11-06</th>\n",
       "      <td>172.369995</td>\n",
       "      <td>174.990005</td>\n",
       "      <td>171.720001</td>\n",
       "      <td>174.250000</td>\n",
       "      <td>173.625839</td>\n",
       "      <td>3.502630e+07</td>\n",
       "      <td>0.583333</td>\n",
       "      <td>2587.469971</td>\n",
       "      <td>2593.379883</td>\n",
       "      <td>2585.659912</td>\n",
       "      <td>2591.129883</td>\n",
       "      <td>2591.129883</td>\n",
       "      <td>3.539080e+09</td>\n",
       "      <td>1.096598</td>\n",
       "      <td>158.500000</td>\n",
       "    </tr>\n",
       "    <tr>\n",
       "      <th>2017-11-07</th>\n",
       "      <td>173.910004</td>\n",
       "      <td>175.250000</td>\n",
       "      <td>173.600006</td>\n",
       "      <td>174.809998</td>\n",
       "      <td>174.183823</td>\n",
       "      <td>2.436150e+07</td>\n",
       "      <td>0.559998</td>\n",
       "      <td>2592.110107</td>\n",
       "      <td>2597.020020</td>\n",
       "      <td>2584.350098</td>\n",
       "      <td>2590.639893</td>\n",
       "      <td>2590.639893</td>\n",
       "      <td>3.809650e+09</td>\n",
       "      <td>-0.489990</td>\n",
       "      <td>158.830000</td>\n",
       "    </tr>\n",
       "    <tr>\n",
       "      <th>2017-11-08</th>\n",
       "      <td>174.660004</td>\n",
       "      <td>176.240005</td>\n",
       "      <td>174.330002</td>\n",
       "      <td>176.240005</td>\n",
       "      <td>175.608719</td>\n",
       "      <td>2.440950e+07</td>\n",
       "      <td>1.430007</td>\n",
       "      <td>2588.709961</td>\n",
       "      <td>2595.469971</td>\n",
       "      <td>2585.020020</td>\n",
       "      <td>2594.379883</td>\n",
       "      <td>2594.379883</td>\n",
       "      <td>3.899360e+09</td>\n",
       "      <td>3.739990</td>\n",
       "      <td>159.180000</td>\n",
       "    </tr>\n",
       "    <tr>\n",
       "      <th>2017-11-09</th>\n",
       "      <td>175.110001</td>\n",
       "      <td>176.100006</td>\n",
       "      <td>173.139999</td>\n",
       "      <td>175.880005</td>\n",
       "      <td>175.250000</td>\n",
       "      <td>2.948260e+07</td>\n",
       "      <td>-0.360000</td>\n",
       "      <td>2584.000000</td>\n",
       "      <td>2586.500000</td>\n",
       "      <td>2566.330078</td>\n",
       "      <td>2584.620117</td>\n",
       "      <td>2584.620117</td>\n",
       "      <td>3.831610e+09</td>\n",
       "      <td>-9.759766</td>\n",
       "      <td>159.570000</td>\n",
       "    </tr>\n",
       "    <tr>\n",
       "      <th>2017-11-10</th>\n",
       "      <td>175.110001</td>\n",
       "      <td>175.380005</td>\n",
       "      <td>174.270004</td>\n",
       "      <td>174.669998</td>\n",
       "      <td>174.669998</td>\n",
       "      <td>2.514550e+07</td>\n",
       "      <td>-1.210007</td>\n",
       "      <td>2580.179932</td>\n",
       "      <td>2583.810059</td>\n",
       "      <td>2575.570068</td>\n",
       "      <td>2582.300049</td>\n",
       "      <td>2582.300049</td>\n",
       "      <td>3.486910e+09</td>\n",
       "      <td>-2.320068</td>\n",
       "      <td>160.000000</td>\n",
       "    </tr>\n",
       "    <tr>\n",
       "      <th>2017-11-11</th>\n",
       "      <td>174.573334</td>\n",
       "      <td>175.086670</td>\n",
       "      <td>173.980001</td>\n",
       "      <td>174.436666</td>\n",
       "      <td>174.436666</td>\n",
       "      <td>2.242437e+07</td>\n",
       "      <td>-0.233332</td>\n",
       "      <td>2578.963298</td>\n",
       "      <td>2585.093343</td>\n",
       "      <td>2575.206705</td>\n",
       "      <td>2583.146729</td>\n",
       "      <td>2583.146729</td>\n",
       "      <td>3.458917e+09</td>\n",
       "      <td>0.846680</td>\n",
       "      <td>160.450000</td>\n",
       "    </tr>\n",
       "    <tr>\n",
       "      <th>2017-11-12</th>\n",
       "      <td>174.036667</td>\n",
       "      <td>174.793335</td>\n",
       "      <td>173.689997</td>\n",
       "      <td>174.203333</td>\n",
       "      <td>174.203333</td>\n",
       "      <td>1.970323e+07</td>\n",
       "      <td>-0.233332</td>\n",
       "      <td>2577.746663</td>\n",
       "      <td>2586.376628</td>\n",
       "      <td>2574.843343</td>\n",
       "      <td>2583.993408</td>\n",
       "      <td>2583.993408</td>\n",
       "      <td>3.430923e+09</td>\n",
       "      <td>0.846680</td>\n",
       "      <td>160.900000</td>\n",
       "    </tr>\n",
       "    <tr>\n",
       "      <th>2017-11-13</th>\n",
       "      <td>173.500000</td>\n",
       "      <td>174.500000</td>\n",
       "      <td>173.399994</td>\n",
       "      <td>173.970001</td>\n",
       "      <td>173.970001</td>\n",
       "      <td>1.698210e+07</td>\n",
       "      <td>-0.233332</td>\n",
       "      <td>2576.530029</td>\n",
       "      <td>2587.659912</td>\n",
       "      <td>2574.479980</td>\n",
       "      <td>2584.840088</td>\n",
       "      <td>2584.840088</td>\n",
       "      <td>3.402930e+09</td>\n",
       "      <td>0.846680</td>\n",
       "      <td>161.360000</td>\n",
       "    </tr>\n",
       "    <tr>\n",
       "      <th>2017-11-14</th>\n",
       "      <td>173.039993</td>\n",
       "      <td>173.479996</td>\n",
       "      <td>171.179993</td>\n",
       "      <td>171.339996</td>\n",
       "      <td>171.339996</td>\n",
       "      <td>2.478250e+07</td>\n",
       "      <td>-2.630005</td>\n",
       "      <td>2577.750000</td>\n",
       "      <td>2579.659912</td>\n",
       "      <td>2566.560059</td>\n",
       "      <td>2578.870117</td>\n",
       "      <td>2578.870117</td>\n",
       "      <td>3.641760e+09</td>\n",
       "      <td>-5.969971</td>\n",
       "      <td>161.780000</td>\n",
       "    </tr>\n",
       "    <tr>\n",
       "      <th>2017-11-15</th>\n",
       "      <td>169.970001</td>\n",
       "      <td>170.320007</td>\n",
       "      <td>168.380005</td>\n",
       "      <td>169.080002</td>\n",
       "      <td>169.080002</td>\n",
       "      <td>2.915810e+07</td>\n",
       "      <td>-2.259994</td>\n",
       "      <td>2569.449951</td>\n",
       "      <td>2572.840088</td>\n",
       "      <td>2557.449951</td>\n",
       "      <td>2564.620117</td>\n",
       "      <td>2564.620117</td>\n",
       "      <td>3.558890e+09</td>\n",
       "      <td>-14.250000</td>\n",
       "      <td>162.100000</td>\n",
       "    </tr>\n",
       "    <tr>\n",
       "      <th>2017-11-16</th>\n",
       "      <td>171.179993</td>\n",
       "      <td>171.869995</td>\n",
       "      <td>170.300003</td>\n",
       "      <td>171.100006</td>\n",
       "      <td>171.100006</td>\n",
       "      <td>2.363750e+07</td>\n",
       "      <td>2.020004</td>\n",
       "      <td>2572.949951</td>\n",
       "      <td>2590.090088</td>\n",
       "      <td>2572.949951</td>\n",
       "      <td>2585.639893</td>\n",
       "      <td>2585.639893</td>\n",
       "      <td>3.312710e+09</td>\n",
       "      <td>21.019776</td>\n",
       "      <td>162.430000</td>\n",
       "    </tr>\n",
       "    <tr>\n",
       "      <th>2017-11-17</th>\n",
       "      <td>171.039993</td>\n",
       "      <td>171.389999</td>\n",
       "      <td>169.639999</td>\n",
       "      <td>170.149994</td>\n",
       "      <td>170.149994</td>\n",
       "      <td>2.185480e+07</td>\n",
       "      <td>-0.950012</td>\n",
       "      <td>2582.939941</td>\n",
       "      <td>2583.959961</td>\n",
       "      <td>2577.620117</td>\n",
       "      <td>2578.850098</td>\n",
       "      <td>2578.850098</td>\n",
       "      <td>3.300160e+09</td>\n",
       "      <td>-6.789795</td>\n",
       "      <td>162.770000</td>\n",
       "    </tr>\n",
       "    <tr>\n",
       "      <th>2017-11-18</th>\n",
       "      <td>171.039993</td>\n",
       "      <td>171.389999</td>\n",
       "      <td>169.639999</td>\n",
       "      <td>170.149994</td>\n",
       "      <td>170.149994</td>\n",
       "      <td>2.185480e+07</td>\n",
       "      <td>0.000000</td>\n",
       "      <td>2582.939941</td>\n",
       "      <td>2583.959961</td>\n",
       "      <td>2577.620117</td>\n",
       "      <td>2578.850098</td>\n",
       "      <td>2578.850098</td>\n",
       "      <td>3.300160e+09</td>\n",
       "      <td>0.000000</td>\n",
       "      <td>163.090000</td>\n",
       "    </tr>\n",
       "  </tbody>\n",
       "</table>\n",
       "<p>2876 rows × 15 columns</p>\n",
       "</div>"
      ],
      "text/plain": [
       "                  Open        High         Low       Close   Adj Close  \\\n",
       "2010-01-04   30.490000   30.642857   30.340000   30.572857   27.406532   \n",
       "2010-01-05   30.657143   30.798571   30.464285   30.625713   27.453915   \n",
       "2010-01-06   30.625713   30.747143   30.107143   30.138571   27.017223   \n",
       "2010-01-07   30.250000   30.285715   29.864286   30.082857   26.967278   \n",
       "2010-01-08   30.042856   30.285715   29.865715   30.282858   27.146566   \n",
       "2010-01-09   30.161904   30.333334   29.836667   30.193810   27.066742   \n",
       "2010-01-10   30.280952   30.380953   29.807620   30.104763   26.986917   \n",
       "2010-01-11   30.400000   30.428572   29.778572   30.015715   26.907093   \n",
       "2010-01-12   29.884285   29.967142   29.488571   29.674286   26.601023   \n",
       "2010-01-13   29.695715   30.132856   29.157143   30.092857   26.976244   \n",
       "2010-01-14   30.015715   30.065714   29.860001   29.918571   26.820007   \n",
       "2010-01-15   30.132856   30.228571   29.410000   29.418571   26.371792   \n",
       "2010-01-16   30.039999   30.356785   29.458929   29.743928   26.663452   \n",
       "2010-01-17   29.947142   30.485000   29.507858   30.069285   26.955112   \n",
       "2010-01-18   29.854286   30.613214   29.556786   30.394642   27.246773   \n",
       "2010-01-19   29.761429   30.741428   29.605715   30.719999   27.538433   \n",
       "2010-01-20   30.701429   30.792856   29.928572   30.247143   27.114555   \n",
       "2010-01-21   30.297142   30.472857   29.601429   29.724285   26.645842   \n",
       "2010-01-22   29.540001   29.642857   28.165714   28.250000   25.324244   \n",
       "2010-01-23   29.336667   29.509524   28.310000   28.503333   25.551343   \n",
       "2010-01-24   29.133334   29.376190   28.454286   28.756667   25.778442   \n",
       "2010-01-25   28.930000   29.242857   28.598572   29.010000   26.005541   \n",
       "2010-01-26   29.421429   30.530001   28.940001   29.420000   26.373072   \n",
       "2010-01-27   29.549999   30.082857   28.504286   29.697144   26.621517   \n",
       "2010-01-28   29.275715   29.357143   28.385714   28.469999   25.521461   \n",
       "2010-01-29   28.725714   28.885714   27.178572   27.437143   24.595573   \n",
       "2010-01-30   28.310952   28.590476   27.228572   27.564286   24.709547   \n",
       "2010-01-31   27.896190   28.295238   27.278571   27.691428   24.823522   \n",
       "2010-02-01   27.481428   28.000000   27.328571   27.818571   24.937496   \n",
       "2010-02-02   27.987143   28.045713   27.625713   27.980000   25.082211   \n",
       "...                ...         ...         ...         ...         ...   \n",
       "2017-10-20  156.610001  157.750000  155.960007  156.250000  155.690308   \n",
       "2017-10-21  156.703334  157.730001  155.806671  156.223333  155.663737   \n",
       "2017-10-22  156.796666  157.710001  155.653336  156.196665  155.637167   \n",
       "2017-10-23  156.889999  157.690002  155.500000  156.169998  155.610596   \n",
       "2017-10-24  156.289993  157.419998  156.199997  157.100006  156.537277   \n",
       "2017-10-25  156.910004  157.550003  155.270004  156.410004  155.849747   \n",
       "2017-10-26  157.229996  157.830002  156.779999  157.410004  156.846161   \n",
       "2017-10-27  159.289993  163.600006  158.699997  163.050003  162.465958   \n",
       "2017-10-28  160.823328  165.090006  160.373332  164.273336  163.684906   \n",
       "2017-10-29  162.356664  166.580007  162.046666  165.496668  164.903855   \n",
       "2017-10-30  163.889999  168.070007  163.720001  166.720001  166.122803   \n",
       "2017-10-31  167.899994  169.649994  166.940002  169.039993  168.434494   \n",
       "2017-11-01  169.869995  169.940002  165.610001  166.889999  166.292206   \n",
       "2017-11-02  166.600006  168.500000  165.279999  168.110001  167.507828   \n",
       "2017-11-03  174.000000  174.259995  171.119995  172.500000  171.882111   \n",
       "2017-11-04  173.456665  174.503332  171.319997  173.083333  172.463354   \n",
       "2017-11-05  172.913330  174.746668  171.519999  173.666667  173.044596   \n",
       "2017-11-06  172.369995  174.990005  171.720001  174.250000  173.625839   \n",
       "2017-11-07  173.910004  175.250000  173.600006  174.809998  174.183823   \n",
       "2017-11-08  174.660004  176.240005  174.330002  176.240005  175.608719   \n",
       "2017-11-09  175.110001  176.100006  173.139999  175.880005  175.250000   \n",
       "2017-11-10  175.110001  175.380005  174.270004  174.669998  174.669998   \n",
       "2017-11-11  174.573334  175.086670  173.980001  174.436666  174.436666   \n",
       "2017-11-12  174.036667  174.793335  173.689997  174.203333  174.203333   \n",
       "2017-11-13  173.500000  174.500000  173.399994  173.970001  173.970001   \n",
       "2017-11-14  173.039993  173.479996  171.179993  171.339996  171.339996   \n",
       "2017-11-15  169.970001  170.320007  168.380005  169.080002  169.080002   \n",
       "2017-11-16  171.179993  171.869995  170.300003  171.100006  171.100006   \n",
       "2017-11-17  171.039993  171.389999  169.639999  170.149994  170.149994   \n",
       "2017-11-18  171.039993  171.389999  169.639999  170.149994  170.149994   \n",
       "\n",
       "                  Volume  prev_diff      sm_open      sm_high       sm_low  \\\n",
       "2010-01-04  1.234324e+08   0.000000  1116.560059  1133.869995  1116.560059   \n",
       "2010-01-05  1.504762e+08   0.052856  1132.660034  1136.630005  1129.660034   \n",
       "2010-01-06  1.380400e+08  -0.487142  1135.709961  1139.189941  1133.949951   \n",
       "2010-01-07  1.192828e+08  -0.055714  1136.270020  1142.459961  1131.319946   \n",
       "2010-01-08  1.119027e+08   0.200001  1140.520020  1145.390015  1136.219971   \n",
       "2010-01-09  1.131209e+08  -0.089048  1142.333334  1146.840007  1138.153321   \n",
       "2010-01-10  1.143392e+08  -0.089048  1144.146647  1148.289998  1140.086670   \n",
       "2010-01-11  1.155574e+08  -0.089048  1145.959961  1149.739990  1142.020020   \n",
       "2010-01-12  1.486149e+08  -0.341429  1143.810059  1143.810059  1131.770020   \n",
       "2010-01-13  1.514730e+08   0.418571  1137.310059  1148.400024  1133.180054   \n",
       "2010-01-14  1.082235e+08  -0.174286  1145.680054  1150.410034  1143.800049   \n",
       "2010-01-15  1.485169e+08  -0.500000  1147.719971  1147.770020  1131.390015   \n",
       "2010-01-16  1.570132e+08   0.325357  1144.797485  1148.440003  1132.485016   \n",
       "2010-01-17  1.655094e+08   0.325357  1141.875000  1149.109985  1133.580017   \n",
       "2010-01-18  1.740056e+08   0.325357  1138.952515  1149.779968  1134.675019   \n",
       "2010-01-19  1.825019e+08   0.325357  1136.030029  1150.449951  1135.770020   \n",
       "2010-01-20  1.530382e+08  -0.472856  1147.949951  1147.949951  1129.250000   \n",
       "2010-01-21  1.520386e+08  -0.522858  1138.680054  1141.579956  1114.839966   \n",
       "2010-01-22  2.204419e+08  -1.474285  1115.489990  1115.489990  1090.180054   \n",
       "2010-01-23  2.357696e+08   0.253333  1107.793335  1111.316650  1090.920044   \n",
       "2010-01-24  2.510972e+08   0.253333  1100.096679  1107.143311  1091.660034   \n",
       "2010-01-25  2.664249e+08   0.253333  1092.400024  1102.969971  1092.400024   \n",
       "2010-01-26  4.667775e+08   0.410000  1095.800049  1103.689941  1089.859985   \n",
       "2010-01-27  4.306421e+08   0.277144  1091.939941  1099.510010  1083.109985   \n",
       "2010-01-28  2.933756e+08  -1.227145  1096.930054  1100.219971  1078.459961   \n",
       "2010-01-29  3.114881e+08  -1.032856  1087.609985  1096.449951  1071.589966   \n",
       "2010-01-30  2.701484e+08   0.127143  1083.036662  1094.093302  1072.356649   \n",
       "2010-01-31  2.288088e+08   0.127143  1078.463338  1091.736654  1073.123332   \n",
       "2010-02-01  1.874691e+08   0.127143  1073.890015  1089.380005  1073.890015   \n",
       "2010-02-02  1.745856e+08   0.161429  1090.050049  1104.729980  1087.959961   \n",
       "...                  ...        ...          ...          ...          ...   \n",
       "2017-10-20  2.397410e+07   0.270004  2567.560059  2575.439941  2567.560059   \n",
       "2017-10-21  2.331083e+07  -0.026667  2571.066732  2576.389974  2566.483399   \n",
       "2017-10-22  2.264757e+07  -0.026667  2574.573405  2577.340006  2565.406738   \n",
       "2017-10-23  2.198430e+07  -0.026667  2578.080078  2578.290039  2564.330078   \n",
       "2017-10-24  1.775720e+07   0.930008  2568.659912  2572.179932  2565.580078   \n",
       "2017-10-25  2.120710e+07  -0.690002  2566.520020  2567.399902  2544.000000   \n",
       "2017-10-26  1.700050e+07   1.000000  2560.080078  2567.070068  2559.800049   \n",
       "2017-10-27  4.445420e+07   5.639999  2570.260010  2582.979980  2565.939941   \n",
       "2017-10-28  4.453640e+07   1.223333  2572.756673  2581.996663  2566.709961   \n",
       "2017-10-29  4.461860e+07   1.223333  2575.253337  2581.013346  2567.479980   \n",
       "2017-10-30  4.470080e+07   1.223333  2577.750000  2580.030029  2568.250000   \n",
       "2017-10-31  3.604680e+07   2.319992  2575.989990  2578.290039  2572.149902   \n",
       "2017-11-01  3.363780e+07  -2.149994  2583.209961  2588.399902  2574.919922   \n",
       "2017-11-02  4.139340e+07   1.220002  2579.459961  2581.110107  2566.169922   \n",
       "2017-11-03  5.939860e+07   4.389999  2581.929932  2588.419922  2576.770020   \n",
       "2017-11-04  5.127450e+07   0.583333  2583.776612  2590.073242  2579.733317   \n",
       "2017-11-05  4.315040e+07   0.583333  2585.623291  2591.726563  2582.696615   \n",
       "2017-11-06  3.502630e+07   0.583333  2587.469971  2593.379883  2585.659912   \n",
       "2017-11-07  2.436150e+07   0.559998  2592.110107  2597.020020  2584.350098   \n",
       "2017-11-08  2.440950e+07   1.430007  2588.709961  2595.469971  2585.020020   \n",
       "2017-11-09  2.948260e+07  -0.360000  2584.000000  2586.500000  2566.330078   \n",
       "2017-11-10  2.514550e+07  -1.210007  2580.179932  2583.810059  2575.570068   \n",
       "2017-11-11  2.242437e+07  -0.233332  2578.963298  2585.093343  2575.206705   \n",
       "2017-11-12  1.970323e+07  -0.233332  2577.746663  2586.376628  2574.843343   \n",
       "2017-11-13  1.698210e+07  -0.233332  2576.530029  2587.659912  2574.479980   \n",
       "2017-11-14  2.478250e+07  -2.630005  2577.750000  2579.659912  2566.560059   \n",
       "2017-11-15  2.915810e+07  -2.259994  2569.449951  2572.840088  2557.449951   \n",
       "2017-11-16  2.363750e+07   2.020004  2572.949951  2590.090088  2572.949951   \n",
       "2017-11-17  2.185480e+07  -0.950012  2582.939941  2583.959961  2577.620117   \n",
       "2017-11-18  2.185480e+07   0.000000  2582.939941  2583.959961  2577.620117   \n",
       "\n",
       "               sm_close  sm_adj_close     sm_volume  sm_prev_diff         50d  \n",
       "2010-01-04  1132.989990   1132.989990  3.991400e+09      0.000000   30.572857  \n",
       "2010-01-05  1136.520020   1136.520020  2.491020e+09      3.530030   30.625713  \n",
       "2010-01-06  1137.140015   1137.140015  4.972660e+09      0.619995   30.138571  \n",
       "2010-01-07  1141.689941   1141.689941  5.270680e+09      4.549926   30.082857  \n",
       "2010-01-08  1144.979980   1144.979980  4.389590e+09      3.290039   30.282858  \n",
       "2010-01-09  1145.646647   1145.646647  4.344987e+09      0.666667   30.193810  \n",
       "2010-01-10  1146.313313   1146.313313  4.300383e+09      0.666667   30.104763  \n",
       "2010-01-11  1146.979980   1146.979980  4.255780e+09      0.666667   30.015715  \n",
       "2010-01-12  1136.219971   1136.219971  4.716160e+09    -10.760009   29.674286  \n",
       "2010-01-13  1145.680054   1145.680054  4.170360e+09      9.460083   30.092857  \n",
       "2010-01-14  1148.459961   1148.459961  3.915200e+09      2.779907   29.918571  \n",
       "2010-01-15  1136.030029   1136.030029  4.758730e+09    -12.429932   29.418571  \n",
       "2010-01-16  1139.580017   1139.580017  4.750255e+09      3.549988   29.743928  \n",
       "2010-01-17  1143.130005   1143.130005  4.741780e+09      3.549988   30.069285  \n",
       "2010-01-18  1146.679992   1146.679992  4.733305e+09      3.549988   30.394642  \n",
       "2010-01-19  1150.229980   1150.229980  4.724830e+09      3.549988   30.719999  \n",
       "2010-01-20  1138.040039   1138.040039  4.810560e+09    -12.189941   30.247143  \n",
       "2010-01-21  1116.479980   1116.479980  6.874290e+09    -21.560059   29.724285  \n",
       "2010-01-22  1091.760010   1091.760010  6.208650e+09    -24.719970   28.250000  \n",
       "2010-01-23  1093.433350   1093.433350  5.632897e+09      1.673340   28.503333  \n",
       "2010-01-24  1095.106689   1095.106689  5.057143e+09      1.673340   28.756667  \n",
       "2010-01-25  1096.780029   1096.780029  4.481390e+09      1.673340   29.010000  \n",
       "2010-01-26  1092.170044   1092.170044  4.731910e+09     -4.609985   29.420000  \n",
       "2010-01-27  1097.500000   1097.500000  5.319120e+09      5.329956   29.697144  \n",
       "2010-01-28  1084.530029   1084.530029  5.452400e+09    -12.969971   28.469999  \n",
       "2010-01-29  1073.869995   1073.869995  5.412850e+09    -10.660034   27.437143  \n",
       "2010-01-30  1078.976644   1078.976644  4.967770e+09      5.106649   27.564286  \n",
       "2010-01-31  1084.083292   1084.083292  4.522690e+09      5.106649   27.691428  \n",
       "2010-02-01  1089.189941   1089.189941  4.077610e+09      5.106649   27.818571  \n",
       "2010-02-02  1103.319946   1103.319946  4.749540e+09     14.130005   27.980000  \n",
       "...                 ...           ...           ...           ...         ...  \n",
       "2017-10-20  2575.209961   2575.209961  3.384650e+09     13.109863  157.290000  \n",
       "2017-10-21  2571.799967   2571.799967  3.327003e+09     -3.409994  157.130000  \n",
       "2017-10-22  2568.389974   2568.389974  3.269357e+09     -3.409994  156.990000  \n",
       "2017-10-23  2564.979980   2564.979980  3.211710e+09     -3.409994  156.850000  \n",
       "2017-10-24  2569.129883   2569.129883  3.427330e+09      4.149903  156.740000  \n",
       "2017-10-25  2557.149902   2557.149902  3.874510e+09    -11.979981  156.630000  \n",
       "2017-10-26  2560.399902   2560.399902  3.869050e+09      3.250000  156.540000  \n",
       "2017-10-27  2581.070068   2581.070068  3.887110e+09     20.670166  156.570000  \n",
       "2017-10-28  2578.323405   2578.323405  3.811030e+09     -2.746663  156.680000  \n",
       "2017-10-29  2575.576741   2575.576741  3.734950e+09     -2.746663  156.800000  \n",
       "2017-10-30  2572.830078   2572.830078  3.658870e+09     -2.746663  156.930000  \n",
       "2017-10-31  2575.260010   2575.260010  3.827230e+09      2.429932  157.080000  \n",
       "2017-11-01  2579.360107   2579.360107  3.813180e+09      4.100097  157.200000  \n",
       "2017-11-02  2579.850098   2579.850098  4.048270e+09      0.489991  157.370000  \n",
       "2017-11-03  2587.840088   2587.840088  3.567710e+09      7.989990  157.650000  \n",
       "2017-11-04  2588.936686   2588.936686  3.558167e+09      1.096598  157.920000  \n",
       "2017-11-05  2590.033285   2590.033285  3.548623e+09      1.096598  158.200000  \n",
       "2017-11-06  2591.129883   2591.129883  3.539080e+09      1.096598  158.500000  \n",
       "2017-11-07  2590.639893   2590.639893  3.809650e+09     -0.489990  158.830000  \n",
       "2017-11-08  2594.379883   2594.379883  3.899360e+09      3.739990  159.180000  \n",
       "2017-11-09  2584.620117   2584.620117  3.831610e+09     -9.759766  159.570000  \n",
       "2017-11-10  2582.300049   2582.300049  3.486910e+09     -2.320068  160.000000  \n",
       "2017-11-11  2583.146729   2583.146729  3.458917e+09      0.846680  160.450000  \n",
       "2017-11-12  2583.993408   2583.993408  3.430923e+09      0.846680  160.900000  \n",
       "2017-11-13  2584.840088   2584.840088  3.402930e+09      0.846680  161.360000  \n",
       "2017-11-14  2578.870117   2578.870117  3.641760e+09     -5.969971  161.780000  \n",
       "2017-11-15  2564.620117   2564.620117  3.558890e+09    -14.250000  162.100000  \n",
       "2017-11-16  2585.639893   2585.639893  3.312710e+09     21.019776  162.430000  \n",
       "2017-11-17  2578.850098   2578.850098  3.300160e+09     -6.789795  162.770000  \n",
       "2017-11-18  2578.850098   2578.850098  3.300160e+09      0.000000  163.090000  \n",
       "\n",
       "[2876 rows x 15 columns]"
      ]
     },
     "execution_count": 74,
     "metadata": {},
     "output_type": "execute_result"
    }
   ],
   "source": [
    "svmD"
   ]
  },
  {
   "cell_type": "code",
   "execution_count": 75,
   "metadata": {},
   "outputs": [
    {
     "name": "stdout",
     "output_type": "stream",
     "text": [
      "Size of train set:  (2732, 15)\n",
      "Size of test set:  (144, 15)\n"
     ]
    }
   ],
   "source": [
    "import numpy as np\n",
    "\n",
    "index = int(np.floor(svmD.shape[0]*0.95))\n",
    "train, test = svmD[:index], svmD[index:]\n",
    "print('Size of train set: ', train.shape)\n",
    "print('Size of test set: ', test.shape)"
   ]
  },
  {
   "cell_type": "code",
   "execution_count": 76,
   "metadata": {
    "collapsed": true
   },
   "outputs": [],
   "source": [
    "X_train = train.loc[:, train.columns != 'Close']\n",
    "y_train = train['Close']"
   ]
  },
  {
   "cell_type": "code",
   "execution_count": 77,
   "metadata": {},
   "outputs": [
    {
     "data": {
      "text/plain": [
       "(144,)"
      ]
     },
     "execution_count": 77,
     "metadata": {},
     "output_type": "execute_result"
    }
   ],
   "source": [
    "X_test = test.loc[:, test.columns != 'Close']\n",
    "y_test = test['Close']\n",
    "y_test.shape"
   ]
  },
  {
   "cell_type": "code",
   "execution_count": 78,
   "metadata": {
    "collapsed": true
   },
   "outputs": [],
   "source": [
    "'''\n",
    "    Running Support Vector Regression Model.\n",
    "'''\n",
    "from __future__ import print_function\n",
    "\n",
    "import os\n",
    "import sys\n",
    "import pandas as pd\n",
    "from sklearn.svm import SVR\n",
    "from sklearn import cross_validation\n",
    "import numpy as np\n",
    "import matplotlib.pyplot as plt\n",
    "from datetime import datetime\n",
    "from sklearn.cross_validation import train_test_split\n",
    "\n",
    "def convert_to_integer(dt_time):\n",
    "    return 10000*dt_time.year + 1000*dt_time.month + dt_time.day\n",
    "\n",
    "def svm(file_dataframe, test_size=0.2, cols=['date', 'open']):\n",
    "#     '''\n",
    "#         Run Logistic Regression\n",
    "#     '''\n",
    "\n",
    "#     print('Loading data...')\n",
    "\n",
    "#     if 'date' in file_dataframe:\n",
    "#         file_dataframe['new_col'] = pd.to_datetime(file_dataframe['date']).astype(datetime)\n",
    "#         #file_dataframe['date'] = pd.to_datetime(file_dataframe['date'])\n",
    "#         file_dataframe['new_col'].apply(lambda dt_time:10000*dt_time.year + 1000*dt_time.month + dt_time.day).astype(int)\n",
    "\n",
    "#     print(file_dataframe['new_col'])\n",
    "\n",
    "#     X = file_dataframe['open']\n",
    "#     y = file_dataframe['new_col']\n",
    "\n",
    "#     X_train, X_test, y_train, y_test = train_test_split(X, y, test_size=test_size)\n",
    "\n",
    "    #svr_rbf = SVR(kernel='rbf', C=1e3, gamma=0.1)\n",
    "    svr_lin = SVR(kernel='linear', C=1)\n",
    "    #svr_poly = SVR(kernel='poly', C=1e3, degree=2)\n",
    "\n",
    "    #parameters = {'kernel':('linear', 'rbf'), 'C':[1, 10]}\n",
    "\n",
    "    #loo = cross_validation.LeaveOneOut(len(y_train) - 1)\n",
    "    #clf = grid_search.GridSearchCV(svr_rbf, parameters)\n",
    "    scores = []\n",
    "\n",
    "    #svr_rbf.fit(X_train, y_train)\n",
    "    svr_lin.fit(X_train, y_train)\n",
    "    #svr_poly.fit(X_train, y_train)\n",
    "\n",
    "    #scores.append(cross_validation.cross_val_score(svr_rbf, \\\n",
    "    #    X_test, y_test, scoring='mean_squared_error', cv=loo).mean())\n",
    "    scores.append(cross_validation.cross_val_score(svr_lin, \\\n",
    "        X_test, y_test, scoring='mean_squared_error', cv=loo).mean())\n",
    "    #scores.append(cross_validation.cross_val_score(svr_poly, \\\n",
    "    #    X_test, y_test, scoring='mean_squared_error', cv=loo).mean())\n",
    "    \n",
    "    return scores"
   ]
  },
  {
   "cell_type": "code",
   "execution_count": 79,
   "metadata": {
    "collapsed": true
   },
   "outputs": [],
   "source": [
    "svr_lin = SVR(kernel='linear', C=1)"
   ]
  },
  {
   "cell_type": "code",
   "execution_count": null,
   "metadata": {
    "collapsed": true
   },
   "outputs": [],
   "source": [
    "scores = []\n",
    "\n",
    "svr_lin.fit(X_train, y_train)\n",
    "\n",
    "predictions = svr_lin.predict(X_test)\n",
    "\n",
    "#svr_poly.fit(X_train, y_train)\n",
    "\n",
    "#scores.append(cross_validation.cross_val_score(svr_rbf, \\\n",
    "#    X_test, y_test, scoring='mean_squared_error', cv=loo).mean())\n"
   ]
  },
  {
   "cell_type": "code",
   "execution_count": null,
   "metadata": {
    "collapsed": true
   },
   "outputs": [],
   "source": [
    "from sklearn.metrics import mean_squared_error\n",
    "\n",
    "error = mean_squared_error(y_test, predictions)\n",
    "error"
   ]
  },
  {
   "cell_type": "code",
   "execution_count": null,
   "metadata": {
    "collapsed": true
   },
   "outputs": [],
   "source": [
    "y_t = []\n",
    "for item in y_test:\n",
    "    y_t.append(item)"
   ]
  },
  {
   "cell_type": "code",
   "execution_count": null,
   "metadata": {
    "collapsed": true
   },
   "outputs": [],
   "source": [
    "plt.plot(y_t, color='blue')\n",
    "plt.plot(predictions, color='red')\n",
    "plt.show()"
   ]
  }
 ],
 "metadata": {
  "kernelspec": {
   "display_name": "Python 2",
   "language": "python",
   "name": "python2"
  },
  "language_info": {
   "codemirror_mode": {
    "name": "ipython",
    "version": 2
   },
   "file_extension": ".py",
   "mimetype": "text/x-python",
   "name": "python",
   "nbconvert_exporter": "python",
   "pygments_lexer": "ipython2",
   "version": "2.7.14"
  }
 },
 "nbformat": 4,
 "nbformat_minor": 2
}
