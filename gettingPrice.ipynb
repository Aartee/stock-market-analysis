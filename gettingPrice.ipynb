{
 "cells": [
  {
   "cell_type": "code",
   "execution_count": 8,
   "metadata": {},
   "outputs": [],
   "source": [
    "import pandas as pd\n",
    "import pandas_datareader.data as web\n",
    "import io\n",
    "import requests\n",
    "import time\n",
    "import datetime"
   ]
  },
  {
   "cell_type": "code",
   "execution_count": 9,
   "metadata": {
    "collapsed": true
   },
   "outputs": [],
   "source": [
    "#function to get stock data\n",
    "def google_stocks(symbol, start, end):\n",
    "    return web.DataReader(symbol, 'yahoo', start, end)"
   ]
  },
  {
   "cell_type": "code",
   "execution_count": 61,
   "metadata": {
    "collapsed": true
   },
   "outputs": [],
   "source": [
    "#get 7 year stock data for Apple\n",
    "startDate = datetime.datetime(2010, 1, 4)\n",
    "endDate = datetime.date.today()\n",
    "stockData = google_stocks('AAPL', startDate, endDate)"
   ]
  },
  {
   "cell_type": "code",
   "execution_count": 62,
   "metadata": {},
   "outputs": [],
   "source": [
    "def count_missing(dataframe):\n",
    "    \"\"\"\n",
    "    count number of NaN in dataframe\n",
    "    \"\"\"\n",
    "    return (dataframe.shape[0] * dataframe.shape[1]) - dataframe.count().sum()"
   ]
  },
  {
   "cell_type": "code",
   "execution_count": 63,
   "metadata": {},
   "outputs": [],
   "source": [
    "idx = pd.date_range(startDate, endDate)\n",
    "\n",
    "stockData.index = pd.DatetimeIndex(stockData.index)\n",
    "stockData = stockData.reindex(idx, fill_value='np.nan')"
   ]
  },
  {
   "cell_type": "code",
   "execution_count": 64,
   "metadata": {},
   "outputs": [
    {
     "data": {
      "text/html": [
       "<div>\n",
       "<style>\n",
       "    .dataframe thead tr:only-child th {\n",
       "        text-align: right;\n",
       "    }\n",
       "\n",
       "    .dataframe thead th {\n",
       "        text-align: left;\n",
       "    }\n",
       "\n",
       "    .dataframe tbody tr th {\n",
       "        vertical-align: top;\n",
       "    }\n",
       "</style>\n",
       "<table border=\"1\" class=\"dataframe\">\n",
       "  <thead>\n",
       "    <tr style=\"text-align: right;\">\n",
       "      <th></th>\n",
       "      <th>Open</th>\n",
       "      <th>High</th>\n",
       "      <th>Low</th>\n",
       "      <th>Close</th>\n",
       "      <th>Adj Close</th>\n",
       "      <th>Volume</th>\n",
       "    </tr>\n",
       "  </thead>\n",
       "  <tbody>\n",
       "    <tr>\n",
       "      <th>2010-01-04</th>\n",
       "      <td>30.49</td>\n",
       "      <td>30.6429</td>\n",
       "      <td>30.34</td>\n",
       "      <td>30.5729</td>\n",
       "      <td>27.5051</td>\n",
       "      <td>123432400</td>\n",
       "    </tr>\n",
       "    <tr>\n",
       "      <th>2010-01-05</th>\n",
       "      <td>30.6571</td>\n",
       "      <td>30.7986</td>\n",
       "      <td>30.4643</td>\n",
       "      <td>30.6257</td>\n",
       "      <td>27.5526</td>\n",
       "      <td>150476200</td>\n",
       "    </tr>\n",
       "    <tr>\n",
       "      <th>2010-01-06</th>\n",
       "      <td>30.6257</td>\n",
       "      <td>30.7471</td>\n",
       "      <td>30.1071</td>\n",
       "      <td>30.1386</td>\n",
       "      <td>27.1143</td>\n",
       "      <td>138040000</td>\n",
       "    </tr>\n",
       "    <tr>\n",
       "      <th>2010-01-07</th>\n",
       "      <td>30.25</td>\n",
       "      <td>30.2857</td>\n",
       "      <td>29.8643</td>\n",
       "      <td>30.0829</td>\n",
       "      <td>27.0642</td>\n",
       "      <td>119282800</td>\n",
       "    </tr>\n",
       "    <tr>\n",
       "      <th>2010-01-08</th>\n",
       "      <td>30.0429</td>\n",
       "      <td>30.2857</td>\n",
       "      <td>29.8657</td>\n",
       "      <td>30.2829</td>\n",
       "      <td>27.2442</td>\n",
       "      <td>111902700</td>\n",
       "    </tr>\n",
       "    <tr>\n",
       "      <th>2010-01-09</th>\n",
       "      <td>np.nan</td>\n",
       "      <td>np.nan</td>\n",
       "      <td>np.nan</td>\n",
       "      <td>np.nan</td>\n",
       "      <td>np.nan</td>\n",
       "      <td>np.nan</td>\n",
       "    </tr>\n",
       "    <tr>\n",
       "      <th>2010-01-10</th>\n",
       "      <td>np.nan</td>\n",
       "      <td>np.nan</td>\n",
       "      <td>np.nan</td>\n",
       "      <td>np.nan</td>\n",
       "      <td>np.nan</td>\n",
       "      <td>np.nan</td>\n",
       "    </tr>\n",
       "    <tr>\n",
       "      <th>2010-01-11</th>\n",
       "      <td>30.4</td>\n",
       "      <td>30.4286</td>\n",
       "      <td>29.7786</td>\n",
       "      <td>30.0157</td>\n",
       "      <td>27.0038</td>\n",
       "      <td>115557400</td>\n",
       "    </tr>\n",
       "    <tr>\n",
       "      <th>2010-01-12</th>\n",
       "      <td>29.8843</td>\n",
       "      <td>29.9671</td>\n",
       "      <td>29.4886</td>\n",
       "      <td>29.6743</td>\n",
       "      <td>26.6967</td>\n",
       "      <td>148614900</td>\n",
       "    </tr>\n",
       "    <tr>\n",
       "      <th>2010-01-13</th>\n",
       "      <td>29.6957</td>\n",
       "      <td>30.1329</td>\n",
       "      <td>29.1571</td>\n",
       "      <td>30.0929</td>\n",
       "      <td>27.0732</td>\n",
       "      <td>151473000</td>\n",
       "    </tr>\n",
       "  </tbody>\n",
       "</table>\n",
       "</div>"
      ],
      "text/plain": [
       "               Open     High      Low    Close Adj Close     Volume\n",
       "2010-01-04    30.49  30.6429    30.34  30.5729   27.5051  123432400\n",
       "2010-01-05  30.6571  30.7986  30.4643  30.6257   27.5526  150476200\n",
       "2010-01-06  30.6257  30.7471  30.1071  30.1386   27.1143  138040000\n",
       "2010-01-07    30.25  30.2857  29.8643  30.0829   27.0642  119282800\n",
       "2010-01-08  30.0429  30.2857  29.8657  30.2829   27.2442  111902700\n",
       "2010-01-09   np.nan   np.nan   np.nan   np.nan    np.nan     np.nan\n",
       "2010-01-10   np.nan   np.nan   np.nan   np.nan    np.nan     np.nan\n",
       "2010-01-11     30.4  30.4286  29.7786  30.0157   27.0038  115557400\n",
       "2010-01-12  29.8843  29.9671  29.4886  29.6743   26.6967  148614900\n",
       "2010-01-13  29.6957  30.1329  29.1571  30.0929   27.0732  151473000"
      ]
     },
     "execution_count": 64,
     "metadata": {},
     "output_type": "execute_result"
    }
   ],
   "source": [
    "stockData.head(10)"
   ]
  },
  {
   "cell_type": "code",
   "execution_count": 65,
   "metadata": {},
   "outputs": [],
   "source": [
    "#convert the columns to numeric\n",
    "def convert_to_numeric(dataframe):\n",
    "    for col in dataframe:\n",
    "        dataframe[col] = pd.to_numeric(dataframe[col], errors='coerce')\n",
    "    return dataframe"
   ]
  },
  {
   "cell_type": "code",
   "execution_count": 66,
   "metadata": {},
   "outputs": [],
   "source": [
    "stockDataNumeric = convert_to_numeric(stockData)"
   ]
  },
  {
   "cell_type": "code",
   "execution_count": 75,
   "metadata": {
    "collapsed": true
   },
   "outputs": [],
   "source": [
    "def interpolate(dataframe):\n",
    "    features = list(dataframe)\n",
    "#     print (features)\n",
    "    for feature in features:\n",
    "#         dataframe['feature'] = dataframe['feature'].interpolate()\n",
    "        print (feature)\n",
    "#     return dataframe"
   ]
  },
  {
   "cell_type": "code",
   "execution_count": 76,
   "metadata": {},
   "outputs": [
    {
     "name": "stdout",
     "output_type": "stream",
     "text": [
      "Open\n",
      "High\n",
      "Low\n",
      "Close\n",
      "Adj Close\n",
      "Volume\n"
     ]
    }
   ],
   "source": [
    "# stockDataInterpolated = interpolate(stockDataNumeric)\n",
    "interpolate(stockDataNumeric)"
   ]
  },
  {
   "cell_type": "code",
   "execution_count": null,
   "metadata": {
    "collapsed": true
   },
   "outputs": [],
   "source": []
  }
 ],
 "metadata": {
  "kernelspec": {
   "display_name": "Python 2",
   "language": "python",
   "name": "python2"
  },
  "language_info": {
   "codemirror_mode": {
    "name": "ipython",
    "version": 2
   },
   "file_extension": ".py",
   "mimetype": "text/x-python",
   "name": "python",
   "nbconvert_exporter": "python",
   "pygments_lexer": "ipython2",
   "version": "2.7.14"
  }
 },
 "nbformat": 4,
 "nbformat_minor": 2
}
